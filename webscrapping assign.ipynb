{
 "cells": [
  {
   "cell_type": "markdown",
   "id": "1e3b890a",
   "metadata": {},
   "source": [
    "# Assignment"
   ]
  },
  {
   "cell_type": "code",
   "execution_count": 3,
   "id": "d5edd5b4",
   "metadata": {},
   "outputs": [],
   "source": [
    "from bs4 import BeautifulSoup"
   ]
  },
  {
   "cell_type": "code",
   "execution_count": 4,
   "id": "446b3340",
   "metadata": {},
   "outputs": [],
   "source": [
    "import requests"
   ]
  },
  {
   "cell_type": "code",
   "execution_count": 5,
   "id": "a8b1433e",
   "metadata": {},
   "outputs": [],
   "source": [
    "url=\"https://www.flipkart.com/search?q=vivo+mobiles&sid=tyy%2C4io&as=on&as-show=on&otracker=AS_QueryStore_OrganicAutoSuggest_1_4_na_na_ps&otracker1=AS_QueryStore_OrganicAutoSuggest_1_4_na_na_ps&as-pos=1&as-type=RECENT&suggestionId=vivo+mobiles%7CMobiles&requestId=abb322f7-d18e-40a4-8aaa-efa3ad290d31&as-searchtext=vivo\""
   ]
  },
  {
   "cell_type": "code",
   "execution_count": 6,
   "id": "28d11af2",
   "metadata": {},
   "outputs": [],
   "source": [
    "response=requests.get(url)"
   ]
  },
  {
   "cell_type": "code",
   "execution_count": 7,
   "id": "a7b99fa0",
   "metadata": {},
   "outputs": [
    {
     "data": {
      "text/plain": [
       "<Response [200]>"
      ]
     },
     "execution_count": 7,
     "metadata": {},
     "output_type": "execute_result"
    }
   ],
   "source": [
    "response"
   ]
  },
  {
   "cell_type": "code",
   "execution_count": 8,
   "id": "b9327a65",
   "metadata": {},
   "outputs": [],
   "source": [
    "vivo=BeautifulSoup(response.text)"
   ]
  },
  {
   "cell_type": "code",
   "execution_count": 9,
   "id": "31bb8f15",
   "metadata": {},
   "outputs": [
    {
     "data": {
      "text/plain": [
       "<!DOCTYPE html>\n",
       "<html lang=\"en\"><head><link href=\"https://rukminim1.flixcart.com\" rel=\"preconnect\"/><link href=\"//static-assets-web.flixcart.com/fk-p-linchpin-web/fk-cp-zion/css/app_modules.chunk.905c37.css\" rel=\"stylesheet\"/><link href=\"//static-assets-web.flixcart.com/fk-p-linchpin-web/fk-cp-zion/css/app.chunk.8f4f44.css\" rel=\"stylesheet\"/><meta content=\"text/html; charset=utf-8\" http-equiv=\"Content-type\"/><meta content=\"IE=Edge\" http-equiv=\"X-UA-Compatible\"/><meta content=\"102988293558\" property=\"fb:page_id\"/><meta content=\"658873552,624500995,100000233612389\" property=\"fb:admins\"/><meta content=\"noodp\" name=\"robots\"/><link href=\"https:///www/promos/new/20150528-140547-favicon-retina.ico\" rel=\"shortcut icon\"/><link href=\"/osdd.xml?v=2\" rel=\"search\" type=\"application/opensearchdescription+xml\"/><meta content=\"website\" property=\"og:type\"/><meta content=\"Flipkart.com\" name=\"og_site_name\" property=\"og:site_name\"/><link href=\"/apple-touch-icon-57x57.png\" rel=\"apple-touch-icon\" sizes=\"57x57\"/><link href=\"/apple-touch-icon-72x72.png\" rel=\"apple-touch-icon\" sizes=\"72x72\"/><link href=\"/apple-touch-icon-114x114.png\" rel=\"apple-touch-icon\" sizes=\"114x114\"/><link href=\"/apple-touch-icon-144x144.png\" rel=\"apple-touch-icon\" sizes=\"144x144\"/><link href=\"/apple-touch-icon-57x57.png\" rel=\"apple-touch-icon\"/><meta content=\"app\" name=\"twitter:card\"/><meta content=\"@flipkart\" name=\"twitter:site\"/><meta content=\"@flipkart\" name=\"twitter:creator\"/><meta content=\"Vivo Mobiles- Buy Products Online at Best Price in India - All Categories | Flipkart.com\" name=\"twitter:title\"/><meta content=\"Shop for electronics, apparels &amp; more using our Flipkart app Free shipping &amp; COD.\" name=\"twitter:description\"/><meta content=\"in\" name=\"twitter:app:country\"/><meta content=\"Flipkart\" name=\"al:ios:app_name\"/><meta content=\"742044692\" name=\"al:ios:app_store_id\"/><meta content=\"Flipkart\" name=\"twitter:app:name:iphone\"/><meta content=\"742044692\" name=\"twitter:app:id:iphone\"/><meta content=\"http://dl.flipkart.com/dl/home?\" name=\"twitter:app:url:iphone\"/><meta content=\"Flipkart\" name=\"twitter:app:name:ipad\"/><meta content=\"742044692\" name=\"twitter:app:id:ipad\"/><meta content=\"http://dl.flipkart.com/dl/home?\" name=\"twitter:app:url:ipad\"/><meta content=\"Flipkart\" name=\"twitter:app:name:googleplay\"/><meta content=\"com.flipkart.android\" name=\"twitter:app:id:googleplay\"/><meta content=\"http://dl.flipkart.com/dl/home?\" name=\"twitter:app:url:googleplay\"/><style>#container {\n",
       "\t\t\theight: 100%;\n",
       "\t\t}</style> <link href=\"///fk-cp-zion/css/Browse.chunk.e9630a.css\" rel=\"stylesheet\"/><title>Vivo Mobiles- Buy Products Online at Best Price in India - All Categories | Flipkart.com</title><meta content=\"Vivo Mobiles- Buy Products Online at Best Price in India - All Categories | Flipkart.com\" name=\"og_title\" property=\"og:title\"/><meta content=\"Vivo Mobiles\" name=\"Keywords\"/> <meta content=\"Vivo Mobiles- Buy Products Online at Best Price in India. India's Leading E-commerce Company - Free Home Delivery - All Categories | Flipkart.com\" name=\"Description\"/><meta content=\"Vivo Mobiles- Buy Products Online at Best Price in India. India's Leading E-commerce Company - Free Home Delivery - All Categories | Flipkart.com\" property=\"og:description\"/> <meta content=\"noindex\" name=\"robots\"/> <meta content=\"F4EEB3A0AFFDD385992A06E6920C0AC3\" name=\"msvalidate.01\"/> <!--[if IE 9 ]>\n",
       "\t<script nonce=\"14609096513363420366\">\n",
       "\t\twindow.browserVersion = 'IE9';\n",
       "\t\tdocument.documentElement.className += ' ie9';\n",
       "\t</script>\n",
       "\t<![endif]--><!--[if !IE]><!--><script nonce=\"14609096513363420366\">if (/*@cc_on!@*/false) {\n",
       "\t\t\twindow.browserVersion = 'IE10';\n",
       "\t\t\tdocument.documentElement.className += ' ie10';\n",
       "\t\t}</script><!--<![endif]--> <link href=\"https://www.flipkart.com/search?q=vivo+mobiles&amp;sid=tyy%2C4io&amp;as=on&amp;as-show=on&amp;otracker=AS_QueryStore_OrganicAutoSuggest_1_4_na_na_ps&amp;otracker1=AS_QueryStore_OrganicAutoSuggest_1_4_na_na_ps&amp;as-pos=1&amp;as-type=RECENT&amp;suggestionId=vivo+mobiles%7CMobiles&amp;requestId=abb322f7-d18e-40a4-8aaa-efa3ad290d31&amp;as-searchtext=vivo&amp;page=2\" id=\"next-page-link-tag\" rel=\"next\"/><script nonce=\"14609096513363420366\">!function(){if(\"PerformancePaintTiming\" in window){var e=window.__perf={e:[]};e.o=new PerformanceObserver(function(n){e.e=e.e.concat(n.getEntries())});try{e.o.observe({entryTypes:[\"paint\"]})}catch(e){}}}();\n",
       "\n",
       "\t\tif (requestAnimationFrame && performance && performance.mark) {\n",
       "\t\t\trequestAnimationFrame(function () {\n",
       "\t\t\t\twindow.first_paint = performance.now();\n",
       "\t\t\t\tperformance.mark(\"first_paint\");\n",
       "\t\t\t});\n",
       "\t\t}\n",
       "\n",
       "        // web-vitals polyfill for FID\n",
       "        !function(n,e){var t,o,i,c=[],f={passive:!0,capture:!0},r=new Date,a=\"pointerup\",u=\"pointercancel\";function p(n,c){t||(t=c,o=n,i=new Date,w(e),s())}function s(){o>=0&&o<i-r&&(c.forEach(function(n){n(o,t)}),c=[])}function l(t){if(t.cancelable){var o=(t.timeStamp>1e12?new Date:performance.now())-t.timeStamp;\"pointerdown\"==t.type?function(t,o){function i(){p(t,o),r()}function c(){r()}function r(){e(a,i,f),e(u,c,f)}n(a,i,f),n(u,c,f)}(o,t):p(o,t)}}function w(n){[\"click\",\"mousedown\",\"keydown\",\"touchstart\",\"pointerdown\"].forEach(function(e){n(e,l,f)})}w(n),self.perfMetrics=self.perfMetrics||{},self.perfMetrics.onFirstInputDelay=function(n){c.push(n),s()}}(addEventListener,removeEventListener);</script><script async=\"\" src=\"https://www.googletagmanager.com/gtag/js?id=AW-594691041\"></script><script nonce=\"14609096513363420366\">window.dataLayer = window.dataLayer || [];\n",
       "\t\tfunction gtag(){dataLayer.push(arguments)};\n",
       "\t\tgtag('js', new Date());</script></head><body><div id=\"container\"><div><div class=\"_1kfTjk\"><div class=\"_1rH5Jn\"><div class=\"_1TmfNK\"></div><div class=\"_2Xfa2_\"><div class=\"_3_C9Hx\"><div class=\"_3qX0zy\"><a href=\"/\"><img alt=\"Flipkart\" class=\"_2xm1JU\" src=\"//static-assets-web.flixcart.com/fk-p-linchpin-web/fk-cp-zion/img/flipkart-plus_8d85f4.png\" title=\"Flipkart\" width=\"75\"/></a><a class=\"_21ljIi\" href=\"/plus\">Explore<!-- --> <span class=\"_2FVHGh\">Plus</span><img src=\"//static-assets-web.flixcart.com/fk-p-linchpin-web/fk-cp-zion/img/plus_aef861.png\" width=\"10\"/></a></div></div><div class=\"_1cmsER\"><form action=\"/search\" class=\"_2M8cLY header-form-search\" method=\"GET\"><div class=\"col-12-12 _2oO9oE\"><div class=\"_3OO5Xc\"><input autocomplete=\"off\" class=\"_3704LK\" name=\"q\" placeholder=\"Search for products, brands and more\" title=\"Search for products, brands and more\" type=\"text\" value=\"vivo mobiles\"/></div><button class=\"L0Z3Pu\" type=\"submit\"><svg class=\"\" height=\"20\" viewbox=\"0 0 17 18\" width=\"20\" xmlns=\"http://www.w3.org/2000/svg\"><g fill=\"#2874F1\" fill-rule=\"evenodd\"><path class=\"_34RNph\" d=\"m11.618 9.897l4.225 4.212c.092.092.101.232.02.313l-1.465 1.46c-.081.081-.221.072-.314-.02l-4.216-4.203\"></path><path class=\"_34RNph\" d=\"m6.486 10.901c-2.42 0-4.381-1.956-4.381-4.368 0-2.413 1.961-4.369 4.381-4.369 2.42 0 4.381 1.956 4.381 4.369 0 2.413-1.961 4.368-4.381 4.368m0-10.835c-3.582 0-6.486 2.895-6.486 6.467 0 3.572 2.904 6.467 6.486 6.467 3.582 0 6.486-2.895 6.486-6.467 0-3.572-2.904-6.467-6.486-6.467\"></path></g></svg></button><input name=\"otracker\" type=\"hidden\" value=\"search\"/><input name=\"otracker1\" type=\"hidden\" value=\"search\"/><input name=\"marketplace\" type=\"hidden\" value=\"FLIPKART\"/><input name=\"as-show\" type=\"hidden\" value=\"off\"/><input name=\"as\" type=\"hidden\" value=\"off\"/></div><ul class=\"col-12-12 _1MRYA1\"></ul></form></div><div class=\"go_DOp _2errNR\"><div class=\"_28p97w\"><div class=\"_1psGvi _3BvnxG\"><div><a class=\"_1_3w1N\" href=\"/account/login?ret=/search%3Fq%3Dvivo%2Bmobiles%26sid%3Dtyy%252C4io%26as%3Don%26as-show%3Don%26otracker%3DAS_QueryStore_OrganicAutoSuggest_1_4_na_na_ps%26otracker1%3DAS_QueryStore_OrganicAutoSuggest_1_4_na_na_ps%26as-pos%3D1%26as-type%3DRECENT%26suggestionId%3Dvivo%2Bmobiles%257CMobiles%26requestId%3Dabb322f7-d18e-40a4-8aaa-efa3ad290d31%26as-searchtext%3Dvivo\">Login</a></div></div></div></div><div class=\"go_DOp\"><a class=\"_3-PJz-\" href=\"https://seller.flipkart.com/sell-online/?utm_source=fkwebsite&amp;utm_medium=websitedirect\"><span>Become a Seller</span></a></div><div class=\"go_DOp\"><div class=\"_28p97w\"><div class=\"_1psGvi _3BvnxG\"><div><div class=\"exehdJ\"> <!-- -->More<!-- --> </div></div></div><svg class=\"zZ3yfL\" height=\"8\" viewbox=\"0 0 16 27\" width=\"4.7\" xmlns=\"http://www.w3.org/2000/svg\"><path class=\"_2gTTdy\" d=\"M16 23.207L6.11 13.161 16 3.093 12.955 0 0 13.161l12.955 13.161z\" fill=\"#fff\"></path></svg></div></div><div class=\"go_DOp\"><div class=\"_1psGvi\"><div class=\"YUhWwv\"><a class=\"_3SkBxJ\" href=\"/viewcart?exploreMode=true&amp;preference=FLIPKART\"><svg class=\"V3C5bO\" height=\"14\" viewbox=\"0 0 16 16\" width=\"14\" xmlns=\"http://www.w3.org/2000/svg\"><path class=\"_1bS9ic\" d=\"M15.32 2.405H4.887C3 2.405 2.46.805 2.46.805L2.257.21C2.208.085 2.083 0 1.946 0H.336C.1 0-.064.24.024.46l.644 1.945L3.11 9.767c.047.137.175.23.32.23h8.418l-.493 1.958H3.768l.002.003c-.017 0-.033-.003-.05-.003-1.06 0-1.92.86-1.92 1.92s.86 1.92 1.92 1.92c.99 0 1.805-.75 1.91-1.712l5.55.076c.12.922.91 1.636 1.867 1.636 1.04 0 1.885-.844 1.885-1.885 0-.866-.584-1.593-1.38-1.814l2.423-8.832c.12-.433-.206-.86-.655-.86\" fill=\"#fff\"></path></svg><span>Cart</span></a></div></div></div></div><div class=\"_1TmfNK\"></div></div><div class=\"_1mUdNz\"></div></div><div class=\"_331-kn\"></div><div class=\"_36fx1h _6t1WkM _3HqJxg\"><div class=\"_1YokD2 _2GoDe3\"><div class=\"_1YokD2 _3Mn1Gg col-2-12\" style=\"flex:0 0 280px;max-width:280px;padding:0px 10px 0px 0px\"><div class=\"_1YokD2 _3Mn1Gg col-12-12\"><div class=\"_1AtVbE col-12-12\"><div class=\"_1KOcBL\"><section class=\"JWMl0H _2hbLCH\"><div class=\"_2ssEMF\"><div class=\"_3V8rao\"><span>Filters</span></div></div></section><div class=\"_2q_g77\"><section class=\"_2aDURW\"><div class=\"_2lfNTw\"><span>CATEGORIES</span></div><div><div class=\"TB_InB\"><span><svg class=\"_2Iqv73\" height=\"10\" viewbox=\"0 0 16 27\" width=\"10\" xmlns=\"http://www.w3.org/2000/svg\"><path class=\"_3zK8He\" d=\"M16 23.207L6.11 13.161 16 3.093 12.955 0 0 13.161l12.955 13.161z\" fill=\"#fff\"></path></svg></span><a class=\"_2qvBBJ _2Mji8F\" href=\"/mobiles-accessories/pr?sid=tyy&amp;q=vivo+mobiles&amp;otracker=categorytree\" title=\"Mobiles &amp; Accessories\">Mobiles &amp; Accessories</a></div></div><div><div class=\"TB_InB\"><span><svg class=\"_2Iqv73\" height=\"10\" viewbox=\"0 0 16 27\" width=\"10\" xmlns=\"http://www.w3.org/2000/svg\"><path class=\"\" d=\"M16 23.207L6.11 13.161 16 3.093 12.955 0 0 13.161l12.955 13.161z\" fill=\"#fff\"></path></svg></span><a class=\"_1jJQdf _2Mji8F\" href=\"/mobiles/pr?sid=tyy,4io&amp;q=vivo+mobiles&amp;otracker=categorytree\" title=\"Mobiles\">Mobiles</a></div></div></section></div><section class=\"_2yz7eI _2hbLCH\"><div class=\"_3KxRU6 _2ssEMF\"><div class=\"UR1L2I _3V8rao\"><span>Price</span></div></div><div class=\"_2NBiOm\"><div class=\"_1nneZ0\"><div class=\"_2TbXIJ\" style=\"height:0;width:0\"></div><div class=\"_2TbXIJ\" style=\"height:0;width:0\"></div><div class=\"_2TbXIJ\" style=\"height:0;width:0\"></div><div class=\"_2TbXIJ\" style=\"height:0;width:0\"></div><div class=\"_2TbXIJ\" style=\"height:0;width:0\"></div></div></div><div class=\"_2r34SG\"><div class=\"_12FhcQ\"><div class=\"_31Kbhn _28DFQy\"><div class=\"_3FdLqY\"></div></div><div class=\"_31Kbhn WC_zGJ\"><div class=\"_3FdLqY\"></div></div><div class=\"_2IN3-t\"></div><div class=\"_2IN3-t _1mRwrD\"></div></div><div class=\"_15GU70\"><div class=\"_1ftpgI\" style=\"width:undefinedpx\">.</div><div class=\"_1ftpgI\" style=\"width:undefinedpx\">.</div><div class=\"_1ftpgI\" style=\"width:undefinedpx\">.</div><div class=\"_1ftpgI\" style=\"width:undefinedpx\">.</div><div class=\"_1ftpgI\" style=\"width:undefinedpx\">.</div><div class=\"_1ftpgI\" style=\"width:0px\">.</div></div></div><div class=\"_2b0bUo\"><div class=\"_1YAKP4\"><select class=\"_2YxCDZ\"><option class=\"_3AsjWR\" selected=\"\" value=\"Min\">Min</option><option class=\"_3AsjWR\" value=\"10000\">₹10000</option><option class=\"_3AsjWR\" value=\"15000\">₹15000</option><option class=\"_3AsjWR\" value=\"20000\">₹20000</option><option class=\"_3AsjWR\" value=\"30000\">₹30000</option></select></div><div class=\"_3zohzR\">to</div><div class=\"_3uDYxP\"><select class=\"_2YxCDZ\"><option class=\"_3AsjWR\" value=\"10000\">₹10000</option><option class=\"_3AsjWR\" value=\"15000\">₹15000</option><option class=\"_3AsjWR\" value=\"20000\">₹20000</option><option class=\"_3AsjWR\" value=\"30000\">₹30000</option><option class=\"_3AsjWR\" selected=\"\" value=\"Max\">₹30000+</option></select></div></div></section><section class=\"_167Mu3 _2hbLCH\"><div class=\"_213eRC _2ssEMF\"><div class=\"_2gmUFU _3V8rao\">Brand</div><svg class=\"ttx38n _3DyGEM\" height=\"27\" viewbox=\"0 0 16 27\" width=\"16\" xmlns=\"http://www.w3.org/2000/svg\"><path class=\"IIvmWM\" d=\"M16 23.207L6.11 13.161 16 3.093 12.955 0 0 13.161l12.955 13.161z\" fill=\"#fff\"></path></svg></div><div class=\"_3FPh42\"><div class=\"_2d0we9\"><div class=\"_4921Z t0pPfW\" title=\"Vivo\"><div class=\"_1Y4Vhm _4FO7b6\"><label class=\"_2iDkf8 t0pPfW\"><input class=\"_30VH1S\" readonly=\"\" type=\"checkbox\"/><div class=\"_24_Dny\"></div><div class=\"_3879cV\">Vivo</div></label></div></div><div class=\"_4921Z t0pPfW\" title=\"VIVO\"><div class=\"_1Y4Vhm _4FO7b6\"><label class=\"_2iDkf8 t0pPfW\"><input class=\"_30VH1S\" readonly=\"\" type=\"checkbox\"/><div class=\"_24_Dny\"></div><div class=\"_3879cV\">VIVO</div></label></div></div><div class=\"_4921Z t0pPfW\" title=\"vivo\"><div class=\"_1Y4Vhm _4FO7b6\"><label class=\"_2iDkf8 t0pPfW\"><input class=\"_30VH1S\" readonly=\"\" type=\"checkbox\"/><div class=\"_24_Dny\"></div><div class=\"_3879cV\">vivo</div></label></div></div></div></div></section><section class=\"_2hbLCH _24gLJx\"><label class=\"_2iDkf8 shbqsL\"><input class=\"_30VH1S\" readonly=\"\" type=\"checkbox\"/><div class=\"_24_Dny _3tCU7L\"></div><div class=\"_3879cV\"><div class=\"_3U-Vxu\"><img class=\"_3U-Vxu\" height=\"21\" src=\"//static-assets-web.flixcart.com/fk-p-linchpin-web/fk-cp-zion/img/fa_62673a.png\"/></div></div></label><div class=\"Bv11UC\"><span class=\"question\">?</span></div></section><section class=\"_167Mu3 _2hbLCH\"><div class=\"_213eRC _2ssEMF\"><div class=\"_2gmUFU _3V8rao\">Customer Ratings</div><svg class=\"ttx38n _3DyGEM\" height=\"27\" viewbox=\"0 0 16 27\" width=\"16\" xmlns=\"http://www.w3.org/2000/svg\"><path class=\"IIvmWM\" d=\"M16 23.207L6.11 13.161 16 3.093 12.955 0 0 13.161l12.955 13.161z\" fill=\"#fff\"></path></svg></div><div class=\"_3FPh42\"><div class=\"_2d0we9\"><div class=\"_4921Z t0pPfW\" title=\"4★ &amp; above\"><div class=\"_1Y4Vhm _4FO7b6\"><label class=\"_2iDkf8 t0pPfW\"><input class=\"_30VH1S\" readonly=\"\" type=\"checkbox\"/><div class=\"_24_Dny\"></div><div class=\"_3879cV\">4★ &amp; above</div></label></div></div><div class=\"_4921Z t0pPfW\" title=\"3★ &amp; above\"><div class=\"_1Y4Vhm _4FO7b6\"><label class=\"_2iDkf8 t0pPfW\"><input class=\"_30VH1S\" readonly=\"\" type=\"checkbox\"/><div class=\"_24_Dny\"></div><div class=\"_3879cV\">3★ &amp; above</div></label></div></div></div></div></section><section class=\"_167Mu3 _2hbLCH\"><div class=\"_213eRC _2ssEMF\"><div class=\"_2gmUFU _3V8rao\">GST Invoice Available</div><svg class=\"ttx38n\" height=\"27\" viewbox=\"0 0 16 27\" width=\"16\" xmlns=\"http://www.w3.org/2000/svg\"><path class=\"IIvmWM\" d=\"M16 23.207L6.11 13.161 16 3.093 12.955 0 0 13.161l12.955 13.161z\" fill=\"#fff\"></path></svg></div></section><section class=\"_167Mu3 _2hbLCH\"><div class=\"_213eRC _2ssEMF\"><div class=\"_2gmUFU _3V8rao\">RAM</div><svg class=\"ttx38n _3DyGEM\" height=\"27\" viewbox=\"0 0 16 27\" width=\"16\" xmlns=\"http://www.w3.org/2000/svg\"><path class=\"IIvmWM\" d=\"M16 23.207L6.11 13.161 16 3.093 12.955 0 0 13.161l12.955 13.161z\" fill=\"#fff\"></path></svg></div><div class=\"_3FPh42\"><div class=\"_2d0we9\"><div class=\"_4921Z t0pPfW\" title=\"4 GB\"><div class=\"_1Y4Vhm _4FO7b6\"><label class=\"_2iDkf8 t0pPfW\"><input class=\"_30VH1S\" readonly=\"\" type=\"checkbox\"/><div class=\"_24_Dny\"></div><div class=\"_3879cV\">4 GB</div></label></div></div><div class=\"_4921Z t0pPfW\" title=\"3 GB\"><div class=\"_1Y4Vhm _4FO7b6\"><label class=\"_2iDkf8 t0pPfW\"><input class=\"_30VH1S\" readonly=\"\" type=\"checkbox\"/><div class=\"_24_Dny\"></div><div class=\"_3879cV\">3 GB</div></label></div></div><div class=\"_4921Z t0pPfW\" title=\"2 GB\"><div class=\"_1Y4Vhm _4FO7b6\"><label class=\"_2iDkf8 t0pPfW\"><input class=\"_30VH1S\" readonly=\"\" type=\"checkbox\"/><div class=\"_24_Dny\"></div><div class=\"_3879cV\">2 GB</div></label></div></div><div class=\"_4921Z t0pPfW\" title=\"8 GB and Above\"><div class=\"_1Y4Vhm _4FO7b6\"><label class=\"_2iDkf8 t0pPfW\"><input class=\"_30VH1S\" readonly=\"\" type=\"checkbox\"/><div class=\"_24_Dny\"></div><div class=\"_3879cV\">8 GB and Above</div></label></div></div><div class=\"_4921Z t0pPfW\" title=\"6 GB\"><div class=\"_1Y4Vhm _4FO7b6\"><label class=\"_2iDkf8 t0pPfW\"><input class=\"_30VH1S\" readonly=\"\" type=\"checkbox\"/><div class=\"_24_Dny\"></div><div class=\"_3879cV\">6 GB</div></label></div></div></div></div></section><section class=\"_167Mu3 _2hbLCH\"><div class=\"_213eRC _2ssEMF\"><div class=\"_2gmUFU _3V8rao\">Internal Storage</div><svg class=\"ttx38n\" height=\"27\" viewbox=\"0 0 16 27\" width=\"16\" xmlns=\"http://www.w3.org/2000/svg\"><path class=\"IIvmWM\" d=\"M16 23.207L6.11 13.161 16 3.093 12.955 0 0 13.161l12.955 13.161z\" fill=\"#fff\"></path></svg></div></section><section class=\"_167Mu3 _2hbLCH\"><div class=\"_213eRC _2ssEMF\"><div class=\"_2gmUFU _3V8rao\">Battery Capacity</div><svg class=\"ttx38n\" height=\"27\" viewbox=\"0 0 16 27\" width=\"16\" xmlns=\"http://www.w3.org/2000/svg\"><path class=\"IIvmWM\" d=\"M16 23.207L6.11 13.161 16 3.093 12.955 0 0 13.161l12.955 13.161z\" fill=\"#fff\"></path></svg></div></section><section class=\"_167Mu3 _2hbLCH\"><div class=\"_213eRC _2ssEMF\"><div class=\"_2gmUFU _3V8rao\">Screen Size</div><svg class=\"ttx38n\" height=\"27\" viewbox=\"0 0 16 27\" width=\"16\" xmlns=\"http://www.w3.org/2000/svg\"><path class=\"IIvmWM\" d=\"M16 23.207L6.11 13.161 16 3.093 12.955 0 0 13.161l12.955 13.161z\" fill=\"#fff\"></path></svg></div></section><section class=\"_167Mu3 _2hbLCH\"><div class=\"_213eRC _2ssEMF\"><div class=\"_2gmUFU _3V8rao\">Primary Camera</div><svg class=\"ttx38n\" height=\"27\" viewbox=\"0 0 16 27\" width=\"16\" xmlns=\"http://www.w3.org/2000/svg\"><path class=\"IIvmWM\" d=\"M16 23.207L6.11 13.161 16 3.093 12.955 0 0 13.161l12.955 13.161z\" fill=\"#fff\"></path></svg></div></section><section class=\"_167Mu3 _2hbLCH\"><div class=\"_213eRC _2ssEMF\"><div class=\"_2gmUFU _3V8rao\">Secondary Camera</div><svg class=\"ttx38n\" height=\"27\" viewbox=\"0 0 16 27\" width=\"16\" xmlns=\"http://www.w3.org/2000/svg\"><path class=\"IIvmWM\" d=\"M16 23.207L6.11 13.161 16 3.093 12.955 0 0 13.161l12.955 13.161z\" fill=\"#fff\"></path></svg></div></section><section class=\"_167Mu3 _2hbLCH\"><div class=\"_213eRC _2ssEMF\"><div class=\"_2gmUFU _3V8rao\">Processor Brand</div><svg class=\"ttx38n\" height=\"27\" viewbox=\"0 0 16 27\" width=\"16\" xmlns=\"http://www.w3.org/2000/svg\"><path class=\"IIvmWM\" d=\"M16 23.207L6.11 13.161 16 3.093 12.955 0 0 13.161l12.955 13.161z\" fill=\"#fff\"></path></svg></div></section><section class=\"_167Mu3 _2hbLCH\"><div class=\"_213eRC _2ssEMF\"><div class=\"_2gmUFU _3V8rao\">Speciality</div><svg class=\"ttx38n\" height=\"27\" viewbox=\"0 0 16 27\" width=\"16\" xmlns=\"http://www.w3.org/2000/svg\"><path class=\"IIvmWM\" d=\"M16 23.207L6.11 13.161 16 3.093 12.955 0 0 13.161l12.955 13.161z\" fill=\"#fff\"></path></svg></div></section><section class=\"_167Mu3 _2hbLCH\"><div class=\"_213eRC _2ssEMF\"><div class=\"_2gmUFU _3V8rao\">Resolution Type</div><svg class=\"ttx38n\" height=\"27\" viewbox=\"0 0 16 27\" width=\"16\" xmlns=\"http://www.w3.org/2000/svg\"><path class=\"IIvmWM\" d=\"M16 23.207L6.11 13.161 16 3.093 12.955 0 0 13.161l12.955 13.161z\" fill=\"#fff\"></path></svg></div></section><section class=\"_167Mu3 _2hbLCH\"><div class=\"_213eRC _2ssEMF\"><div class=\"_2gmUFU _3V8rao\">Operating System</div><svg class=\"ttx38n\" height=\"27\" viewbox=\"0 0 16 27\" width=\"16\" xmlns=\"http://www.w3.org/2000/svg\"><path class=\"IIvmWM\" d=\"M16 23.207L6.11 13.161 16 3.093 12.955 0 0 13.161l12.955 13.161z\" fill=\"#fff\"></path></svg></div></section><section class=\"_167Mu3 _2hbLCH\"><div class=\"_213eRC _2ssEMF\"><div class=\"_2gmUFU _3V8rao\">Network Type</div><svg class=\"ttx38n\" height=\"27\" viewbox=\"0 0 16 27\" width=\"16\" xmlns=\"http://www.w3.org/2000/svg\"><path class=\"IIvmWM\" d=\"M16 23.207L6.11 13.161 16 3.093 12.955 0 0 13.161l12.955 13.161z\" fill=\"#fff\"></path></svg></div></section><section class=\"_167Mu3 _2hbLCH\"><div class=\"_213eRC _2ssEMF\"><div class=\"_2gmUFU _3V8rao\">Sim Type</div><svg class=\"ttx38n\" height=\"27\" viewbox=\"0 0 16 27\" width=\"16\" xmlns=\"http://www.w3.org/2000/svg\"><path class=\"IIvmWM\" d=\"M16 23.207L6.11 13.161 16 3.093 12.955 0 0 13.161l12.955 13.161z\" fill=\"#fff\"></path></svg></div></section><section class=\"_167Mu3 _2hbLCH\"><div class=\"_213eRC _2ssEMF\"><div class=\"_2gmUFU _3V8rao\">Offers</div><svg class=\"ttx38n _3DyGEM\" height=\"27\" viewbox=\"0 0 16 27\" width=\"16\" xmlns=\"http://www.w3.org/2000/svg\"><path class=\"IIvmWM\" d=\"M16 23.207L6.11 13.161 16 3.093 12.955 0 0 13.161l12.955 13.161z\" fill=\"#fff\"></path></svg></div><div class=\"_3FPh42\"><div class=\"_2d0we9\"><div class=\"_4921Z t0pPfW\" title=\"No Cost EMI\"><div class=\"_1Y4Vhm _4FO7b6\"><label class=\"_2iDkf8 t0pPfW\"><input class=\"_30VH1S\" readonly=\"\" type=\"checkbox\"/><div class=\"_24_Dny\"></div><div class=\"_3879cV\">No Cost EMI</div></label></div></div><div class=\"_4921Z t0pPfW\" title=\"Special Price\"><div class=\"_1Y4Vhm _4FO7b6\"><label class=\"_2iDkf8 t0pPfW\"><input class=\"_30VH1S\" readonly=\"\" type=\"checkbox\"/><div class=\"_24_Dny\"></div><div class=\"_3879cV\">Special Price</div></label></div></div><div class=\"_4921Z t0pPfW\" title=\"Buy More, Save More\"><div class=\"_1Y4Vhm _4FO7b6\"><label class=\"_2iDkf8 _2uGXy_ t0pPfW\"><input class=\"_30VH1S\" readonly=\"\" type=\"checkbox\"/><div class=\"_24_Dny\"></div><div class=\"_3879cV\">Buy More, Save More</div></label></div></div></div></div></section><section class=\"_167Mu3 _2hbLCH\"><div class=\"_213eRC _2ssEMF\"><div class=\"_2gmUFU _3V8rao\">Features</div><svg class=\"ttx38n\" height=\"27\" viewbox=\"0 0 16 27\" width=\"16\" xmlns=\"http://www.w3.org/2000/svg\"><path class=\"IIvmWM\" d=\"M16 23.207L6.11 13.161 16 3.093 12.955 0 0 13.161l12.955 13.161z\" fill=\"#fff\"></path></svg></div></section><section class=\"_167Mu3 _2hbLCH\"><div class=\"_213eRC _2ssEMF\"><div class=\"_2gmUFU _3V8rao\">Type</div><svg class=\"ttx38n\" height=\"27\" viewbox=\"0 0 16 27\" width=\"16\" xmlns=\"http://www.w3.org/2000/svg\"><path class=\"IIvmWM\" d=\"M16 23.207L6.11 13.161 16 3.093 12.955 0 0 13.161l12.955 13.161z\" fill=\"#fff\"></path></svg></div></section><section class=\"_167Mu3 _2hbLCH\"><div class=\"_213eRC _2ssEMF\"><div class=\"_2gmUFU _3V8rao\">Number of Cores</div><svg class=\"ttx38n\" height=\"27\" viewbox=\"0 0 16 27\" width=\"16\" xmlns=\"http://www.w3.org/2000/svg\"><path class=\"IIvmWM\" d=\"M16 23.207L6.11 13.161 16 3.093 12.955 0 0 13.161l12.955 13.161z\" fill=\"#fff\"></path></svg></div></section><section class=\"_167Mu3 _2hbLCH\"><div class=\"_213eRC _2ssEMF\"><div class=\"_2gmUFU _3V8rao\">Availability</div><svg class=\"ttx38n\" height=\"27\" viewbox=\"0 0 16 27\" width=\"16\" xmlns=\"http://www.w3.org/2000/svg\"><path class=\"IIvmWM\" d=\"M16 23.207L6.11 13.161 16 3.093 12.955 0 0 13.161l12.955 13.161z\" fill=\"#fff\"></path></svg></div></section><section class=\"_167Mu3 _2hbLCH\"><div class=\"_213eRC _2ssEMF\"><div class=\"_2gmUFU _3V8rao\">Discount</div><svg class=\"ttx38n _3DyGEM\" height=\"27\" viewbox=\"0 0 16 27\" width=\"16\" xmlns=\"http://www.w3.org/2000/svg\"><path class=\"IIvmWM\" d=\"M16 23.207L6.11 13.161 16 3.093 12.955 0 0 13.161l12.955 13.161z\" fill=\"#fff\"></path></svg></div><div class=\"_3FPh42\"><div class=\"_2d0we9\"><div class=\"_4921Z t0pPfW\" title=\"40% or more\"><div class=\"_1Y4Vhm _4FO7b6\"><label class=\"_2iDkf8 t0pPfW\"><input class=\"_30VH1S\" readonly=\"\" type=\"checkbox\"/><div class=\"_24_Dny\"></div><div class=\"_3879cV\">40% or more</div></label></div></div><div class=\"_4921Z t0pPfW\" title=\"30% or more\"><div class=\"_1Y4Vhm _4FO7b6\"><label class=\"_2iDkf8 t0pPfW\"><input class=\"_30VH1S\" readonly=\"\" type=\"checkbox\"/><div class=\"_24_Dny\"></div><div class=\"_3879cV\">30% or more</div></label></div></div><div class=\"_4921Z t0pPfW\" title=\"20% or more\"><div class=\"_1Y4Vhm _4FO7b6\"><label class=\"_2iDkf8 t0pPfW\"><input class=\"_30VH1S\" readonly=\"\" type=\"checkbox\"/><div class=\"_24_Dny\"></div><div class=\"_3879cV\">20% or more</div></label></div></div><div class=\"_4921Z t0pPfW\" title=\"10% or more\"><div class=\"_1Y4Vhm _4FO7b6\"><label class=\"_2iDkf8 t0pPfW\"><input class=\"_30VH1S\" readonly=\"\" type=\"checkbox\"/><div class=\"_24_Dny\"></div><div class=\"_3879cV\">10% or more</div></label></div></div><div class=\"_4921Z t0pPfW\" title=\"50% or more\"><div class=\"_1Y4Vhm _4FO7b6\"><label class=\"_2iDkf8 _2uGXy_ t0pPfW\"><input class=\"_30VH1S\" readonly=\"\" type=\"checkbox\"/><div class=\"_24_Dny\"></div><div class=\"_3879cV\">50% or more</div></label></div></div></div></div></section><section class=\"_167Mu3 _2hbLCH\"><div class=\"_213eRC _2ssEMF\"><div class=\"_2gmUFU _3V8rao\">Operating System Version Name</div><svg class=\"ttx38n\" height=\"27\" viewbox=\"0 0 16 27\" width=\"16\" xmlns=\"http://www.w3.org/2000/svg\"><path class=\"IIvmWM\" d=\"M16 23.207L6.11 13.161 16 3.093 12.955 0 0 13.161l12.955 13.161z\" fill=\"#fff\"></path></svg></div></section><section class=\"_167Mu3 _2hbLCH\"><div class=\"_213eRC _2ssEMF\"><div class=\"_2gmUFU _3V8rao\">Clock Speed</div><svg class=\"ttx38n\" height=\"27\" viewbox=\"0 0 16 27\" width=\"16\" xmlns=\"http://www.w3.org/2000/svg\"><path class=\"IIvmWM\" d=\"M16 23.207L6.11 13.161 16 3.093 12.955 0 0 13.161l12.955 13.161z\" fill=\"#fff\"></path></svg></div></section></div></div><div class=\"_1AtVbE col-12-12\"><a class=\"_1nY1tt\" href=\"/buying-guide/mobiles?sid=tyy,4io&amp;otracker=bg_from_browse_lhs\" title=\"Buying Guide\"><div><span>Need help?</span></div><div class=\"_1mVNvF\"><span>Help me decide</span><svg class=\"ViewtL\" height=\"27\" viewbox=\"0 0 16 27\" width=\"16\" xmlns=\"http://www.w3.org/2000/svg\"><path class=\"_2Zt1Py\" d=\"M16 23.207L6.11 13.161 16 3.093 12.955 0 0 13.161l12.955 13.161z\" fill=\"#fff\"></path></svg></div><img alt=\"Buying Guide\" src=\"//static-assets-web.flixcart.com/fk-p-linchpin-web/fk-cp-zion/img/buying-guide-illustration_4dd325.png\"/></a></div></div></div><div class=\"_1YokD2 _3Mn1Gg\" style=\"flex-grow:1;overflow:auto\"><div class=\"_1YokD2 _2GoDe3 col-12-12\" style=\"background-color:#ffffff;align-items:flex-end\"><div class=\"_1AtVbE\" style=\"flex-grow:1;overflow:auto\"><div class=\"W_R1IA\"><div class=\"_1MR4o5\"><div class=\"_3GIHBu\"><a class=\"_2whKao\" href=\"/\">Home</a><svg class=\"_39X-Og\" height=\"27\" viewbox=\"0 0 16 27\" width=\"16\" xmlns=\"http://www.w3.org/2000/svg\"><path class=\"DpXnhQ\" d=\"M16 23.207L6.11 13.161 16 3.093 12.955 0 0 13.161l12.955 13.161z\" fill=\"#fff\"></path></svg></div><div class=\"_3GIHBu\"><a class=\"_2whKao\" href=\"/mobiles-accessories/pr?sid=tyy&amp;marketplace=FLIPKART\">Mobiles &amp; Accessories</a><svg class=\"_39X-Og\" height=\"27\" viewbox=\"0 0 16 27\" width=\"16\" xmlns=\"http://www.w3.org/2000/svg\"><path class=\"DpXnhQ\" d=\"M16 23.207L6.11 13.161 16 3.093 12.955 0 0 13.161l12.955 13.161z\" fill=\"#fff\"></path></svg></div><div class=\"_3GIHBu\"><a class=\"_2whKao\" href=\"/mobiles/pr?sid=tyy,4io&amp;marketplace=FLIPKART\">Mobiles</a><svg class=\"_39X-Og\" height=\"27\" viewbox=\"0 0 16 27\" width=\"16\" xmlns=\"http://www.w3.org/2000/svg\"><path class=\"DpXnhQ\" d=\"M16 23.207L6.11 13.161 16 3.093 12.955 0 0 13.161l12.955 13.161z\" fill=\"#fff\"></path></svg></div></div><span class=\"_10Ermr\">Showing 1 – 24 of 259 results for \"<span>vivo mobiles</span>\"</span><div class=\"_5THWM1\"><span class=\"_2i7N3j\">Sort By</span><div class=\"_10UF8M _3LsR0e\">Relevance</div><div class=\"_10UF8M\">Popularity</div><div class=\"_10UF8M\">Price -- Low to High</div><div class=\"_10UF8M\">Price -- High to Low</div><div class=\"_10UF8M\">Newest First</div></div></div></div></div><div class=\"_1AtVbE col-12-12\"><div class=\"_13oc-S\"><div data-id=\"MOBGDRHVMW2UDXZY\" style=\"width:100%\"><div class=\"_2kHMtA\"><a class=\"_1fQZEK\" href=\"/vivo-t1-44w-starry-sky-128-gb/p/itm2a08ebbea3689?pid=MOBGDRHVMW2UDXZY&amp;lid=LSTMOBGDRHVMW2UDXZYYP1PL3&amp;marketplace=FLIPKART&amp;q=vivo+mobiles&amp;store=tyy%2F4io&amp;srno=s_1_1&amp;otracker=AS_QueryStore_OrganicAutoSuggest_1_4_na_na_ps&amp;otracker1=AS_QueryStore_OrganicAutoSuggest_1_4_na_na_ps&amp;fm=organic&amp;iid=319a49ba-7f45-4e90-9a01-5c3751077ba2.MOBGDRHVMW2UDXZY.SEARCH&amp;ppt=None&amp;ppn=None&amp;ssid=6dlav2h1y80000001680339877683&amp;qH=278bf4990ddc16ab\" rel=\"noopener noreferrer\" target=\"_blank\"><div class=\"MIXNux\"><div class=\"_2QcLo-\"><div><div class=\"CXW8mj\" style=\"height:200px;width:200px\"><img alt=\"vivo T1 44W (Starry Sky, 128 GB)\" class=\"_396cs4\" loading=\"eager\" src=\"https://rukminim1.flixcart.com/image/312/312/l2p23rk0/mobile/s/4/3/-original-imagdznhcbdfwfud.jpeg?q=70\"/></div></div></div><div class=\"_3wLduG\"><div class=\"_3PzNI-\"><span class=\"f3A4_V\"><label class=\"_2iDkf8\"><input class=\"_30VH1S\" readonly=\"\" type=\"checkbox\"/><div class=\"_24_Dny\"></div></label></span><label class=\"_6Up2sF\"><span>Add to Compare</span></label></div></div><div class=\"_2hVSre _3nq8ih\"><div class=\"_36FSn5\"><svg class=\"_1l0elc\" height=\"16\" viewbox=\"0 0 20 16\" width=\"16\" xmlns=\"http://www.w3.org/2000/svg\"><path class=\"eX72wL\" d=\"M8.695 16.682C4.06 12.382 1 9.536 1 6.065 1 3.219 3.178 1 5.95 1c1.566 0 3.069.746 4.05 1.915C10.981 1.745 12.484 1 14.05 1 16.822 1 19 3.22 19 6.065c0 3.471-3.06 6.316-7.695 10.617L10 17.897l-1.305-1.215z\" fill=\"#2874F0\" fill-rule=\"evenodd\" opacity=\".9\" stroke=\"#FFF\"></path></svg></div></div></div><div class=\"_3pLy-c row\"><div class=\"col col-7-12\"><div class=\"_4rR01T\">vivo T1 44W (Starry Sky, 128 GB)</div><div class=\"gUuXy-\"><span class=\"_1lRcqv\" id=\"productRating_LSTMOBGDRHVMW2UDXZYYP1PL3_MOBGDRHVMW2UDXZY_\"><div class=\"_3LWZlK\">4.4<img class=\"_1wB99o\" src=\"data:image/svg+xml;base64,PHN2ZyB4bWxucz0iaHR0cDovL3d3dy53My5vcmcvMjAwMC9zdmciIHdpZHRoPSIxMyIgaGVpZ2h0PSIxMiI+PHBhdGggZmlsbD0iI0ZGRiIgZD0iTTYuNSA5LjQzOWwtMy42NzQgMi4yMy45NC00LjI2LTMuMjEtMi44ODMgNC4yNTQtLjQwNEw2LjUuMTEybDEuNjkgNC4wMSA0LjI1NC40MDQtMy4yMSAyLjg4Mi45NCA0LjI2eiIvPjwvc3ZnPg==\"/></div></span><span class=\"_2_R_DZ\"><span><span>55,666 Ratings </span><span class=\"_13vcmD\">&amp;</span><span> 3,920 Reviews</span></span></span></div><div class=\"fMghEO\"><ul class=\"_1xgFaf\"><li class=\"rgWa7D\">6 GB RAM | 128 GB ROM | Expandable Upto 1 TB</li><li class=\"rgWa7D\">16.36 cm (6.44 inch) Full HD+ AMOLED Display</li><li class=\"rgWa7D\">50MP + 2MP + 2MP | 16MP Front Camera</li><li class=\"rgWa7D\">5000 mAh Lithium Battery</li><li class=\"rgWa7D\">Qualcomm Snapdragon 680 Processor</li><li class=\"rgWa7D\">1 Year Handset and 6 Months Accessories</li></ul></div></div><div class=\"col col-5-12 nlI3QM\"><div class=\"_3tbKJL\"><div class=\"_25b18c\"><div class=\"_30jeq3 _1_WHN1\">₹15,999</div><div class=\"_3I9_wc _27UcVY\">₹<!-- -->20,990</div><div class=\"_3Ay6Sb\"><span>23% off</span></div></div></div><div class=\"_13J9qT\"><img height=\"21\" src=\"//static-assets-web.flixcart.com/fk-p-linchpin-web/fk-cp-zion/img/fa_62673a.png\"/></div></div></div></a></div></div></div></div><div class=\"_1AtVbE col-12-12\"><div class=\"_13oc-S\"><div data-id=\"MOBGDRHVHNBBBBP5\" style=\"width:100%\"><div class=\"_2kHMtA\"><a class=\"_1fQZEK\" href=\"/vivo-t1-44w-starry-sky-128-gb/p/itm2a08ebbea3689?pid=MOBGDRHVHNBBBBP5&amp;lid=LSTMOBGDRHVHNBBBBP5PVEEZV&amp;marketplace=FLIPKART&amp;q=vivo+mobiles&amp;store=tyy%2F4io&amp;srno=s_1_2&amp;otracker=AS_QueryStore_OrganicAutoSuggest_1_4_na_na_ps&amp;otracker1=AS_QueryStore_OrganicAutoSuggest_1_4_na_na_ps&amp;fm=organic&amp;iid=319a49ba-7f45-4e90-9a01-5c3751077ba2.MOBGDRHVHNBBBBP5.SEARCH&amp;ppt=None&amp;ppn=None&amp;ssid=6dlav2h1y80000001680339877683&amp;qH=278bf4990ddc16ab\" rel=\"noopener noreferrer\" target=\"_blank\"><div class=\"MIXNux\"><div class=\"_2QcLo-\"><div><div class=\"CXW8mj\" style=\"height:200px;width:200px\"><img alt=\"vivo T1 44W (Starry Sky, 128 GB)\" class=\"_396cs4\" loading=\"eager\" src=\"https://rukminim1.flixcart.com/image/312/312/l2p23rk0/mobile/s/4/3/-original-imagdznhcbdfwfud.jpeg?q=70\"/></div></div></div><div class=\"_3wLduG\"><div class=\"_3PzNI-\"><span class=\"f3A4_V\"><label class=\"_2iDkf8\"><input class=\"_30VH1S\" readonly=\"\" type=\"checkbox\"/><div class=\"_24_Dny\"></div></label></span><label class=\"_6Up2sF\"><span>Add to Compare</span></label></div></div><div class=\"_2hVSre _3nq8ih\"><div class=\"_36FSn5\"><svg class=\"_1l0elc\" height=\"16\" viewbox=\"0 0 20 16\" width=\"16\" xmlns=\"http://www.w3.org/2000/svg\"><path class=\"eX72wL\" d=\"M8.695 16.682C4.06 12.382 1 9.536 1 6.065 1 3.219 3.178 1 5.95 1c1.566 0 3.069.746 4.05 1.915C10.981 1.745 12.484 1 14.05 1 16.822 1 19 3.22 19 6.065c0 3.471-3.06 6.316-7.695 10.617L10 17.897l-1.305-1.215z\" fill=\"#2874F0\" fill-rule=\"evenodd\" opacity=\".9\" stroke=\"#FFF\"></path></svg></div></div></div><div class=\"_3pLy-c row\"><div class=\"col col-7-12\"><div class=\"_4rR01T\">vivo T1 44W (Starry Sky, 128 GB)</div><div class=\"gUuXy-\"><span class=\"_1lRcqv\" id=\"productRating_LSTMOBGDRHVHNBBBBP5PVEEZV_MOBGDRHVHNBBBBP5_\"><div class=\"_3LWZlK\">4.5<img class=\"_1wB99o\" src=\"data:image/svg+xml;base64,PHN2ZyB4bWxucz0iaHR0cDovL3d3dy53My5vcmcvMjAwMC9zdmciIHdpZHRoPSIxMyIgaGVpZ2h0PSIxMiI+PHBhdGggZmlsbD0iI0ZGRiIgZD0iTTYuNSA5LjQzOWwtMy42NzQgMi4yMy45NC00LjI2LTMuMjEtMi44ODMgNC4yNTQtLjQwNEw2LjUuMTEybDEuNjkgNC4wMSA0LjI1NC40MDQtMy4yMSAyLjg4Mi45NCA0LjI2eiIvPjwvc3ZnPg==\"/></div></span><span class=\"_2_R_DZ\"><span><span>97,326 Ratings </span><span class=\"_13vcmD\">&amp;</span><span> 6,494 Reviews</span></span></span></div><div class=\"fMghEO\"><ul class=\"_1xgFaf\"><li class=\"rgWa7D\">4 GB RAM | 128 GB ROM | Expandable Upto 1 TB</li><li class=\"rgWa7D\">16.36 cm (6.44 inch) Full HD+ AMOLED Display</li><li class=\"rgWa7D\">50MP + 2MP + 2MP | 16MP Front Camera</li><li class=\"rgWa7D\">5000 mAh Lithium Battery</li><li class=\"rgWa7D\">Qualcomm Snapdragon 680 Processor</li><li class=\"rgWa7D\">1 Year Handset and 6 Months Accessories</li></ul></div></div><div class=\"col col-5-12 nlI3QM\"><div class=\"_3tbKJL\"><div class=\"_25b18c\"><div class=\"_30jeq3 _1_WHN1\">₹14,499</div><div class=\"_3I9_wc _27UcVY\">₹<!-- -->19,990</div><div class=\"_3Ay6Sb\"><span>27% off</span></div></div><div class=\"_3tcB5a p8ucoS\"><div><div class=\"_2Tpdn3\" style=\"color:#000000;font-size:12px;font-weight:400\">Free delivery</div></div></div></div><div class=\"_13J9qT\"><img height=\"21\" src=\"//static-assets-web.flixcart.com/fk-p-linchpin-web/fk-cp-zion/img/fa_62673a.png\"/></div><div class=\"_2ZdXDB\"><div class=\"_3xFhiH\"><div class=\"_2Tpdn3 _18hQoS\" style=\"color:#000000;font-size:14px;font-style:normal;font-weight:400\">Upto </div><div class=\"_2Tpdn3 _18hQoS\" style=\"color:#000000;font-size:14px;font-style:normal;font-weight:700\">₹13,950</div><div class=\"_2Tpdn3 _18hQoS\" style=\"color:#000000;font-size:14px;font-style:normal;font-weight:400\"> Off on Exchange</div></div></div><div class=\"_2ZdXDB\"><div class=\"_3xFhiH\"><div class=\"_2Tpdn3 _18hQoS\" style=\"color:#26A541;font-size:14px;font-weight:700\">Bank Offer</div></div></div></div></div></a></div></div></div></div><div class=\"_1AtVbE col-12-12\"><div class=\"_13oc-S\"><div data-id=\"MOBGDRHVZN29ZJF4\" style=\"width:100%\"><div class=\"_2kHMtA\"><a class=\"_1fQZEK\" href=\"/vivo-t1-44w-midnight-galaxy-128-gb/p/itm2a08ebbea3689?pid=MOBGDRHVZN29ZJF4&amp;lid=LSTMOBGDRHVZN29ZJF4QZYS9W&amp;marketplace=FLIPKART&amp;q=vivo+mobiles&amp;store=tyy%2F4io&amp;spotlightTagId=BestsellerId_tyy%2F4io&amp;srno=s_1_3&amp;otracker=AS_QueryStore_OrganicAutoSuggest_1_4_na_na_ps&amp;otracker1=AS_QueryStore_OrganicAutoSuggest_1_4_na_na_ps&amp;fm=organic&amp;iid=319a49ba-7f45-4e90-9a01-5c3751077ba2.MOBGDRHVZN29ZJF4.SEARCH&amp;ppt=None&amp;ppn=None&amp;ssid=6dlav2h1y80000001680339877683&amp;qH=278bf4990ddc16ab\" rel=\"noopener noreferrer\" target=\"_blank\"><div></div><div class=\"MIXNux\"><div class=\"_2QcLo-\"><div><div class=\"CXW8mj\" style=\"height:200px;width:200px\"><img alt=\"vivo T1 44W (Midnight Galaxy, 128 GB)\" class=\"_396cs4\" loading=\"eager\" src=\"https://rukminim1.flixcart.com/image/312/312/l2p23rk0/mobile/x/b/y/-original-imagdznhnzmzfbwx.jpeg?q=70\"/></div></div></div><div class=\"_3wLduG\"><div class=\"_3PzNI-\"><span class=\"f3A4_V\"><label class=\"_2iDkf8\"><input class=\"_30VH1S\" readonly=\"\" type=\"checkbox\"/><div class=\"_24_Dny\"></div></label></span><label class=\"_6Up2sF\"><span>Add to Compare</span></label></div></div><div class=\"_2hVSre _3nq8ih\"><div class=\"_36FSn5\"><svg class=\"_1l0elc\" height=\"16\" viewbox=\"0 0 20 16\" width=\"16\" xmlns=\"http://www.w3.org/2000/svg\"><path class=\"eX72wL\" d=\"M8.695 16.682C4.06 12.382 1 9.536 1 6.065 1 3.219 3.178 1 5.95 1c1.566 0 3.069.746 4.05 1.915C10.981 1.745 12.484 1 14.05 1 16.822 1 19 3.22 19 6.065c0 3.471-3.06 6.316-7.695 10.617L10 17.897l-1.305-1.215z\" fill=\"#2874F0\" fill-rule=\"evenodd\" opacity=\".9\" stroke=\"#FFF\"></path></svg></div></div></div><div class=\"_3pLy-c row\"><div class=\"col col-7-12\"><div class=\"_4rR01T\">vivo T1 44W (Midnight Galaxy, 128 GB)</div><div class=\"gUuXy-\"><span class=\"_1lRcqv\" id=\"productRating_LSTMOBGDRHVZN29ZJF4QZYS9W_MOBGDRHVZN29ZJF4_\"><div class=\"_3LWZlK\">4.5<img class=\"_1wB99o\" src=\"data:image/svg+xml;base64,PHN2ZyB4bWxucz0iaHR0cDovL3d3dy53My5vcmcvMjAwMC9zdmciIHdpZHRoPSIxMyIgaGVpZ2h0PSIxMiI+PHBhdGggZmlsbD0iI0ZGRiIgZD0iTTYuNSA5LjQzOWwtMy42NzQgMi4yMy45NC00LjI2LTMuMjEtMi44ODMgNC4yNTQtLjQwNEw2LjUuMTEybDEuNjkgNC4wMSA0LjI1NC40MDQtMy4yMSAyLjg4Mi45NCA0LjI2eiIvPjwvc3ZnPg==\"/></div></span><span class=\"_2_R_DZ\"><span><span>97,326 Ratings </span><span class=\"_13vcmD\">&amp;</span><span> 6,494 Reviews</span></span></span></div><div class=\"fMghEO\"><ul class=\"_1xgFaf\"><li class=\"rgWa7D\">4 GB RAM | 128 GB ROM | Expandable Upto 1 TB</li><li class=\"rgWa7D\">16.36 cm (6.44 inch) Full HD+ AMOLED Display</li><li class=\"rgWa7D\">50MP + 2MP + 2MP | 16MP Front Camera</li><li class=\"rgWa7D\">5000 mAh Lithium Battery</li><li class=\"rgWa7D\">Qualcomm Snapdragon 680 Processor</li><li class=\"rgWa7D\">1 Year Handset and 6 Months Accessories</li></ul></div></div><div class=\"col col-5-12 nlI3QM\"><div class=\"_3tbKJL\"><div class=\"_25b18c\"><div class=\"_30jeq3 _1_WHN1\">₹14,499</div><div class=\"_3I9_wc _27UcVY\">₹<!-- -->19,990</div><div class=\"_3Ay6Sb\"><span>27% off</span></div></div></div><div class=\"_13J9qT\"><img height=\"21\" src=\"//static-assets-web.flixcart.com/fk-p-linchpin-web/fk-cp-zion/img/fa_62673a.png\"/></div></div></div></a></div></div></div></div><div class=\"_1AtVbE col-12-12\"><div class=\"_13oc-S\"><div data-id=\"MOBGDRHVXFVCGS23\" style=\"width:100%\"><div class=\"_2kHMtA\"><a class=\"_1fQZEK\" href=\"/vivo-t1-44w-midnight-galaxy-128-gb/p/itm2a08ebbea3689?pid=MOBGDRHVXFVCGS23&amp;lid=LSTMOBGDRHVXFVCGS23BNMEFR&amp;marketplace=FLIPKART&amp;q=vivo+mobiles&amp;store=tyy%2F4io&amp;srno=s_1_4&amp;otracker=AS_QueryStore_OrganicAutoSuggest_1_4_na_na_ps&amp;otracker1=AS_QueryStore_OrganicAutoSuggest_1_4_na_na_ps&amp;fm=organic&amp;iid=319a49ba-7f45-4e90-9a01-5c3751077ba2.MOBGDRHVXFVCGS23.SEARCH&amp;ppt=None&amp;ppn=None&amp;ssid=6dlav2h1y80000001680339877683&amp;qH=278bf4990ddc16ab\" rel=\"noopener noreferrer\" target=\"_blank\"><div class=\"MIXNux\"><div class=\"_2QcLo-\"><div><div class=\"CXW8mj\" style=\"height:200px;width:200px\"><img alt=\"vivo T1 44W (Midnight Galaxy, 128 GB)\" class=\"_396cs4\" loading=\"eager\" src=\"https://rukminim1.flixcart.com/image/312/312/l2p23rk0/mobile/x/b/y/-original-imagdznhnzmzfbwx.jpeg?q=70\"/></div></div></div><div class=\"_3wLduG\"><div class=\"_3PzNI-\"><span class=\"f3A4_V\"><label class=\"_2iDkf8\"><input class=\"_30VH1S\" readonly=\"\" type=\"checkbox\"/><div class=\"_24_Dny\"></div></label></span><label class=\"_6Up2sF\"><span>Add to Compare</span></label></div></div><div class=\"_2hVSre _3nq8ih\"><div class=\"_36FSn5\"><svg class=\"_1l0elc\" height=\"16\" viewbox=\"0 0 20 16\" width=\"16\" xmlns=\"http://www.w3.org/2000/svg\"><path class=\"eX72wL\" d=\"M8.695 16.682C4.06 12.382 1 9.536 1 6.065 1 3.219 3.178 1 5.95 1c1.566 0 3.069.746 4.05 1.915C10.981 1.745 12.484 1 14.05 1 16.822 1 19 3.22 19 6.065c0 3.471-3.06 6.316-7.695 10.617L10 17.897l-1.305-1.215z\" fill=\"#2874F0\" fill-rule=\"evenodd\" opacity=\".9\" stroke=\"#FFF\"></path></svg></div></div></div><div class=\"_3pLy-c row\"><div class=\"col col-7-12\"><div class=\"_4rR01T\">vivo T1 44W (Midnight Galaxy, 128 GB)</div><div class=\"gUuXy-\"><span class=\"_1lRcqv\" id=\"productRating_LSTMOBGDRHVXFVCGS23BNMEFR_MOBGDRHVXFVCGS23_\"><div class=\"_3LWZlK\">4.4<img class=\"_1wB99o\" src=\"data:image/svg+xml;base64,PHN2ZyB4bWxucz0iaHR0cDovL3d3dy53My5vcmcvMjAwMC9zdmciIHdpZHRoPSIxMyIgaGVpZ2h0PSIxMiI+PHBhdGggZmlsbD0iI0ZGRiIgZD0iTTYuNSA5LjQzOWwtMy42NzQgMi4yMy45NC00LjI2LTMuMjEtMi44ODMgNC4yNTQtLjQwNEw2LjUuMTEybDEuNjkgNC4wMSA0LjI1NC40MDQtMy4yMSAyLjg4Mi45NCA0LjI2eiIvPjwvc3ZnPg==\"/></div></span><span class=\"_2_R_DZ\"><span><span>55,666 Ratings </span><span class=\"_13vcmD\">&amp;</span><span> 3,920 Reviews</span></span></span></div><div class=\"fMghEO\"><ul class=\"_1xgFaf\"><li class=\"rgWa7D\">6 GB RAM | 128 GB ROM | Expandable Upto 1 TB</li><li class=\"rgWa7D\">16.36 cm (6.44 inch) Full HD+ AMOLED Display</li><li class=\"rgWa7D\">50MP + 2MP + 2MP | 16MP Front Camera</li><li class=\"rgWa7D\">5000 mAh Lithium Battery</li><li class=\"rgWa7D\">Qualcomm Snapdragon 680 Processor</li><li class=\"rgWa7D\">1 Year Handset and 6 Months Accessories</li></ul></div></div><div class=\"col col-5-12 nlI3QM\"><div class=\"_3tbKJL\"><div class=\"_25b18c\"><div class=\"_30jeq3 _1_WHN1\">₹15,999</div><div class=\"_3I9_wc _27UcVY\">₹<!-- -->20,990</div><div class=\"_3Ay6Sb\"><span>23% off</span></div></div></div><div class=\"_13J9qT\"><img height=\"21\" src=\"//static-assets-web.flixcart.com/fk-p-linchpin-web/fk-cp-zion/img/fa_62673a.png\"/></div></div></div></a></div></div></div></div><div class=\"_1AtVbE col-12-12\"><div class=\"_13oc-S\"><div data-id=\"MOBGDRHVWJUFTYQJ\" style=\"width:100%\"><div class=\"_2kHMtA\"><a class=\"_1fQZEK\" href=\"/vivo-t1-44w-midnight-galaxy-128-gb/p/itm2a08ebbea3689?pid=MOBGDRHVWJUFTYQJ&amp;lid=LSTMOBGDRHVWJUFTYQJ2SYXAC&amp;marketplace=FLIPKART&amp;q=vivo+mobiles&amp;store=tyy%2F4io&amp;srno=s_1_5&amp;otracker=AS_QueryStore_OrganicAutoSuggest_1_4_na_na_ps&amp;otracker1=AS_QueryStore_OrganicAutoSuggest_1_4_na_na_ps&amp;fm=organic&amp;iid=319a49ba-7f45-4e90-9a01-5c3751077ba2.MOBGDRHVWJUFTYQJ.SEARCH&amp;ppt=None&amp;ppn=None&amp;ssid=6dlav2h1y80000001680339877683&amp;qH=278bf4990ddc16ab\" rel=\"noopener noreferrer\" target=\"_blank\"><div class=\"MIXNux\"><div class=\"_2QcLo-\"><div><div class=\"CXW8mj\" style=\"height:200px;width:200px\"><img alt=\"vivo T1 44W (Midnight Galaxy, 128 GB)\" class=\"_396cs4\" loading=\"eager\" src=\"https://rukminim1.flixcart.com/image/312/312/l2p23rk0/mobile/x/b/y/-original-imagdznhnzmzfbwx.jpeg?q=70\"/></div></div></div><div class=\"_3wLduG\"><div class=\"_3PzNI-\"><span class=\"f3A4_V\"><label class=\"_2iDkf8\"><input class=\"_30VH1S\" readonly=\"\" type=\"checkbox\"/><div class=\"_24_Dny\"></div></label></span><label class=\"_6Up2sF\"><span>Add to Compare</span></label></div></div><div class=\"_2hVSre _3nq8ih\"><div class=\"_36FSn5\"><svg class=\"_1l0elc\" height=\"16\" viewbox=\"0 0 20 16\" width=\"16\" xmlns=\"http://www.w3.org/2000/svg\"><path class=\"eX72wL\" d=\"M8.695 16.682C4.06 12.382 1 9.536 1 6.065 1 3.219 3.178 1 5.95 1c1.566 0 3.069.746 4.05 1.915C10.981 1.745 12.484 1 14.05 1 16.822 1 19 3.22 19 6.065c0 3.471-3.06 6.316-7.695 10.617L10 17.897l-1.305-1.215z\" fill=\"#2874F0\" fill-rule=\"evenodd\" opacity=\".9\" stroke=\"#FFF\"></path></svg></div></div></div><div class=\"_3pLy-c row\"><div class=\"col col-7-12\"><div class=\"_4rR01T\">vivo T1 44W (Midnight Galaxy, 128 GB)</div><div class=\"gUuXy-\"><span class=\"_1lRcqv\" id=\"productRating_LSTMOBGDRHVWJUFTYQJ2SYXAC_MOBGDRHVWJUFTYQJ_\"><div class=\"_3LWZlK\">4.3<img class=\"_1wB99o\" src=\"data:image/svg+xml;base64,PHN2ZyB4bWxucz0iaHR0cDovL3d3dy53My5vcmcvMjAwMC9zdmciIHdpZHRoPSIxMyIgaGVpZ2h0PSIxMiI+PHBhdGggZmlsbD0iI0ZGRiIgZD0iTTYuNSA5LjQzOWwtMy42NzQgMi4yMy45NC00LjI2LTMuMjEtMi44ODMgNC4yNTQtLjQwNEw2LjUuMTEybDEuNjkgNC4wMSA0LjI1NC40MDQtMy4yMSAyLjg4Mi45NCA0LjI2eiIvPjwvc3ZnPg==\"/></div></span><span class=\"_2_R_DZ\"><span><span>6,337 Ratings </span><span class=\"_13vcmD\">&amp;</span><span> 508 Reviews</span></span></span></div><div class=\"fMghEO\"><ul class=\"_1xgFaf\"><li class=\"rgWa7D\">8 GB RAM | 128 GB ROM | Expandable Upto 1 TB</li><li class=\"rgWa7D\">16.36 cm (6.44 inch) Full HD+ AMOLED Display</li><li class=\"rgWa7D\">50MP + 2MP + 2MP | 16MP Front Camera</li><li class=\"rgWa7D\">5000 mAh Lithium Battery</li><li class=\"rgWa7D\">Qualcomm Snapdragon 680 Processor</li><li class=\"rgWa7D\">1 Year Handset and 6 Months Accessories</li></ul></div></div><div class=\"col col-5-12 nlI3QM\"><div class=\"_3tbKJL\"><div class=\"_25b18c\"><div class=\"_30jeq3 _1_WHN1\">₹17,999</div><div class=\"_3I9_wc _27UcVY\">₹<!-- -->23,990</div><div class=\"_3Ay6Sb\"><span>24% off</span></div></div><div class=\"_3tcB5a p8ucoS\"><div><div class=\"_2Tpdn3\" style=\"color:#000000;font-size:12px;font-weight:400\">Free delivery</div></div></div></div><div class=\"_13J9qT\"><img height=\"21\" src=\"//static-assets-web.flixcart.com/fk-p-linchpin-web/fk-cp-zion/img/fa_62673a.png\"/></div><div class=\"_2ZdXDB\"><div class=\"_3xFhiH\"><div class=\"_2Tpdn3 _18hQoS\" style=\"color:#000000;font-size:14px;font-style:normal;font-weight:400\">Upto </div><div class=\"_2Tpdn3 _18hQoS\" style=\"color:#000000;font-size:14px;font-style:normal;font-weight:700\">₹17,000</div><div class=\"_2Tpdn3 _18hQoS\" style=\"color:#000000;font-size:14px;font-style:normal;font-weight:400\"> Off on Exchange</div></div></div><div class=\"_2ZdXDB\"><div class=\"_3xFhiH\"><div class=\"_2Tpdn3 _18hQoS\" style=\"color:#26A541;font-size:14px;font-weight:700\">Bank Offer</div></div></div></div></div></a></div></div></div></div><div class=\"_1AtVbE col-12-12\"><div class=\"_13oc-S\"><div data-id=\"MOBGDRHVHYFKQP8K\" style=\"width:100%\"><div class=\"_2kHMtA\"><a class=\"_1fQZEK\" href=\"/vivo-t1-44w-starry-sky-128-gb/p/itm2a08ebbea3689?pid=MOBGDRHVHYFKQP8K&amp;lid=LSTMOBGDRHVHYFKQP8KO8XQJV&amp;marketplace=FLIPKART&amp;q=vivo+mobiles&amp;store=tyy%2F4io&amp;srno=s_1_6&amp;otracker=AS_QueryStore_OrganicAutoSuggest_1_4_na_na_ps&amp;otracker1=AS_QueryStore_OrganicAutoSuggest_1_4_na_na_ps&amp;fm=organic&amp;iid=319a49ba-7f45-4e90-9a01-5c3751077ba2.MOBGDRHVHYFKQP8K.SEARCH&amp;ppt=None&amp;ppn=None&amp;ssid=6dlav2h1y80000001680339877683&amp;qH=278bf4990ddc16ab\" rel=\"noopener noreferrer\" target=\"_blank\"><div class=\"MIXNux\"><div class=\"_2QcLo-\"><div><div class=\"CXW8mj\" style=\"height:200px;width:200px\"><img alt=\"vivo T1 44W (Starry Sky, 128 GB)\" class=\"_396cs4\" loading=\"eager\" src=\"https://rukminim1.flixcart.com/image/312/312/l2p23rk0/mobile/s/4/3/-original-imagdznhcbdfwfud.jpeg?q=70\"/></div></div></div><div class=\"_3wLduG\"><div class=\"_3PzNI-\"><span class=\"f3A4_V\"><label class=\"_2iDkf8\"><input class=\"_30VH1S\" readonly=\"\" type=\"checkbox\"/><div class=\"_24_Dny\"></div></label></span><label class=\"_6Up2sF\"><span>Add to Compare</span></label></div></div><div class=\"_2hVSre _3nq8ih\"><div class=\"_36FSn5\"><svg class=\"_1l0elc\" height=\"16\" viewbox=\"0 0 20 16\" width=\"16\" xmlns=\"http://www.w3.org/2000/svg\"><path class=\"eX72wL\" d=\"M8.695 16.682C4.06 12.382 1 9.536 1 6.065 1 3.219 3.178 1 5.95 1c1.566 0 3.069.746 4.05 1.915C10.981 1.745 12.484 1 14.05 1 16.822 1 19 3.22 19 6.065c0 3.471-3.06 6.316-7.695 10.617L10 17.897l-1.305-1.215z\" fill=\"#2874F0\" fill-rule=\"evenodd\" opacity=\".9\" stroke=\"#FFF\"></path></svg></div></div></div><div class=\"_3pLy-c row\"><div class=\"col col-7-12\"><div class=\"_4rR01T\">vivo T1 44W (Starry Sky, 128 GB)</div><div class=\"gUuXy-\"><span class=\"_1lRcqv\" id=\"productRating_LSTMOBGDRHVHYFKQP8KO8XQJV_MOBGDRHVHYFKQP8K_\"><div class=\"_3LWZlK\">4.3<img class=\"_1wB99o\" src=\"data:image/svg+xml;base64,PHN2ZyB4bWxucz0iaHR0cDovL3d3dy53My5vcmcvMjAwMC9zdmciIHdpZHRoPSIxMyIgaGVpZ2h0PSIxMiI+PHBhdGggZmlsbD0iI0ZGRiIgZD0iTTYuNSA5LjQzOWwtMy42NzQgMi4yMy45NC00LjI2LTMuMjEtMi44ODMgNC4yNTQtLjQwNEw2LjUuMTEybDEuNjkgNC4wMSA0LjI1NC40MDQtMy4yMSAyLjg4Mi45NCA0LjI2eiIvPjwvc3ZnPg==\"/></div></span><span class=\"_2_R_DZ\"><span><span>6,337 Ratings </span><span class=\"_13vcmD\">&amp;</span><span> 508 Reviews</span></span></span></div><div class=\"fMghEO\"><ul class=\"_1xgFaf\"><li class=\"rgWa7D\">8 GB RAM | 128 GB ROM | Expandable Upto 1 TB</li><li class=\"rgWa7D\">16.36 cm (6.44 inch) Full HD+ AMOLED Display</li><li class=\"rgWa7D\">50MP + 2MP + 2MP | 16MP Front Camera</li><li class=\"rgWa7D\">5000 mAh Lithium Battery</li><li class=\"rgWa7D\">Qualcomm Snapdragon 680 Processor</li><li class=\"rgWa7D\">1 Year Handset and 6 Months Accessories</li></ul></div></div><div class=\"col col-5-12 nlI3QM\"><div class=\"_3tbKJL\"><div class=\"_25b18c\"><div class=\"_30jeq3 _1_WHN1\">₹17,999</div><div class=\"_3I9_wc _27UcVY\">₹<!-- -->23,990</div><div class=\"_3Ay6Sb\"><span>24% off</span></div></div><div class=\"_3tcB5a p8ucoS\"><div><div class=\"_2Tpdn3\" style=\"color:#000000;font-size:12px;font-weight:400\">Free delivery</div></div></div></div><div class=\"_13J9qT\"><img height=\"21\" src=\"//static-assets-web.flixcart.com/fk-p-linchpin-web/fk-cp-zion/img/fa_62673a.png\"/></div><div class=\"_2ZdXDB\"><div class=\"_3xFhiH\"><div class=\"_2Tpdn3 _18hQoS\" style=\"color:#000000;font-size:14px;font-style:normal;font-weight:400\">Upto </div><div class=\"_2Tpdn3 _18hQoS\" style=\"color:#000000;font-size:14px;font-style:normal;font-weight:700\">₹17,000</div><div class=\"_2Tpdn3 _18hQoS\" style=\"color:#000000;font-size:14px;font-style:normal;font-weight:400\"> Off on Exchange</div></div></div><div class=\"_2ZdXDB\"><div class=\"_3xFhiH\"><div class=\"_2Tpdn3 _18hQoS\" style=\"color:#26A541;font-size:14px;font-weight:700\">Bank Offer</div></div></div></div></div></a></div></div></div></div><div class=\"_1AtVbE col-12-12\"><div class=\"_13oc-S\"><div data-id=\"MOBGG56ZFNPMHBWE\" style=\"width:100%\"><div class=\"_2kHMtA\"><a class=\"_1fQZEK\" href=\"/vivo-t1x-space-blue-64-gb/p/itm9e8207e7825a9?pid=MOBGG56ZFNPMHBWE&amp;lid=LSTMOBGG56ZFNPMHBWEB8Y2U5&amp;marketplace=FLIPKART&amp;q=vivo+mobiles&amp;store=tyy%2F4io&amp;srno=s_1_7&amp;otracker=AS_QueryStore_OrganicAutoSuggest_1_4_na_na_ps&amp;otracker1=AS_QueryStore_OrganicAutoSuggest_1_4_na_na_ps&amp;fm=organic&amp;iid=319a49ba-7f45-4e90-9a01-5c3751077ba2.MOBGG56ZFNPMHBWE.SEARCH&amp;ppt=None&amp;ppn=None&amp;ssid=6dlav2h1y80000001680339877683&amp;qH=278bf4990ddc16ab\" rel=\"noopener noreferrer\" target=\"_blank\"><div class=\"MIXNux\"><div class=\"_2QcLo-\"><div><div class=\"CXW8mj\" style=\"height:200px;width:200px\"><img alt=\"vivo T1X (Space Blue, 64 GB)\" class=\"_396cs4\" loading=\"eager\" src=\"https://rukminim1.flixcart.com/image/312/312/xif0q/mobile/8/a/y/-original-imaggbtszycsgjp5.jpeg?q=70\"/></div></div></div><div class=\"_3wLduG\"><div class=\"_3PzNI-\"><span class=\"f3A4_V\"><label class=\"_2iDkf8\"><input class=\"_30VH1S\" readonly=\"\" type=\"checkbox\"/><div class=\"_24_Dny\"></div></label></span><label class=\"_6Up2sF\"><span>Add to Compare</span></label></div></div><div class=\"_2hVSre _3nq8ih\"><div class=\"_36FSn5\"><svg class=\"_1l0elc\" height=\"16\" viewbox=\"0 0 20 16\" width=\"16\" xmlns=\"http://www.w3.org/2000/svg\"><path class=\"eX72wL\" d=\"M8.695 16.682C4.06 12.382 1 9.536 1 6.065 1 3.219 3.178 1 5.95 1c1.566 0 3.069.746 4.05 1.915C10.981 1.745 12.484 1 14.05 1 16.822 1 19 3.22 19 6.065c0 3.471-3.06 6.316-7.695 10.617L10 17.897l-1.305-1.215z\" fill=\"#2874F0\" fill-rule=\"evenodd\" opacity=\".9\" stroke=\"#FFF\"></path></svg></div></div></div><div class=\"_3pLy-c row\"><div class=\"col col-7-12\"><div class=\"_4rR01T\">vivo T1X (Space Blue, 64 GB)</div><div class=\"gUuXy-\"><span class=\"_1lRcqv\" id=\"productRating_LSTMOBGG56ZFNPMHBWEB8Y2U5_MOBGG56ZFNPMHBWE_\"><div class=\"_3LWZlK\">4.5<img class=\"_1wB99o\" src=\"data:image/svg+xml;base64,PHN2ZyB4bWxucz0iaHR0cDovL3d3dy53My5vcmcvMjAwMC9zdmciIHdpZHRoPSIxMyIgaGVpZ2h0PSIxMiI+PHBhdGggZmlsbD0iI0ZGRiIgZD0iTTYuNSA5LjQzOWwtMy42NzQgMi4yMy45NC00LjI2LTMuMjEtMi44ODMgNC4yNTQtLjQwNEw2LjUuMTEybDEuNjkgNC4wMSA0LjI1NC40MDQtMy4yMSAyLjg4Mi45NCA0LjI2eiIvPjwvc3ZnPg==\"/></div></span><span class=\"_2_R_DZ\"><span><span>85,799 Ratings </span><span class=\"_13vcmD\">&amp;</span><span> 4,778 Reviews</span></span></span></div><div class=\"fMghEO\"><ul class=\"_1xgFaf\"><li class=\"rgWa7D\">4 GB RAM | 64 GB ROM</li><li class=\"rgWa7D\">16.71 cm (6.58 inch) Full HD+ Display</li><li class=\"rgWa7D\">50MP + 2MP | 8MP Front Camera</li><li class=\"rgWa7D\">5000 mAh Battery</li><li class=\"rgWa7D\">Qualcomm Snapdragon 680 Processor</li><li class=\"rgWa7D\">1 Year on Handset and 6 Months on Accessories</li></ul></div></div><div class=\"col col-5-12 nlI3QM\"><div class=\"_3tbKJL\"><div class=\"_25b18c\"><div class=\"_30jeq3 _1_WHN1\">₹11,999</div><div class=\"_3I9_wc _27UcVY\">₹<!-- -->16,990</div><div class=\"_3Ay6Sb\"><span>29% off</span></div></div><div class=\"_3tcB5a p8ucoS\"><div><div class=\"_2Tpdn3\" style=\"color:#000000;font-size:12px;font-weight:400\">Free delivery</div></div></div></div><div class=\"_13J9qT\"><img height=\"21\" src=\"//static-assets-web.flixcart.com/fk-p-linchpin-web/fk-cp-zion/img/fa_62673a.png\"/></div><div class=\"_2ZdXDB\"><div class=\"_3xFhiH\"><div class=\"_2Tpdn3 _18hQoS\" style=\"color:#000000;font-size:14px;font-style:normal;font-weight:400\">Upto </div><div class=\"_2Tpdn3 _18hQoS\" style=\"color:#000000;font-size:14px;font-style:normal;font-weight:700\">₹11,300</div><div class=\"_2Tpdn3 _18hQoS\" style=\"color:#000000;font-size:14px;font-style:normal;font-weight:400\"> Off on Exchange</div></div></div><div class=\"_2ZdXDB\"><div class=\"_3xFhiH\"><div class=\"_2Tpdn3 _18hQoS\" style=\"color:#26A541;font-size:14px;font-weight:700\">Bank Offer</div></div></div></div></div></a></div></div></div></div><div class=\"_1AtVbE col-12-12\"><div class=\"_13oc-S\"><div data-id=\"MOBGG56ZMXMNUCYF\" style=\"width:100%\"><div class=\"_2kHMtA\"><a class=\"_1fQZEK\" href=\"/vivo-t1x-gravity-black-64-gb/p/itm9e8207e7825a9?pid=MOBGG56ZMXMNUCYF&amp;lid=LSTMOBGG56ZMXMNUCYFQ5HT8S&amp;marketplace=FLIPKART&amp;q=vivo+mobiles&amp;store=tyy%2F4io&amp;srno=s_1_8&amp;otracker=AS_QueryStore_OrganicAutoSuggest_1_4_na_na_ps&amp;otracker1=AS_QueryStore_OrganicAutoSuggest_1_4_na_na_ps&amp;fm=organic&amp;iid=319a49ba-7f45-4e90-9a01-5c3751077ba2.MOBGG56ZMXMNUCYF.SEARCH&amp;ppt=None&amp;ppn=None&amp;ssid=6dlav2h1y80000001680339877683&amp;qH=278bf4990ddc16ab\" rel=\"noopener noreferrer\" target=\"_blank\"><div class=\"MIXNux\"><div class=\"_2QcLo-\"><div><div class=\"CXW8mj\" style=\"height:200px;width:200px\"><img alt=\"vivo T1X (Gravity Black, 64 GB)\" class=\"_396cs4\" loading=\"eager\" src=\"https://rukminim1.flixcart.com/image/312/312/xif0q/mobile/f/n/f/-original-imaggbtuwq32w4et.jpeg?q=70\"/></div></div></div><div class=\"_3wLduG\"><div class=\"_3PzNI-\"><span class=\"f3A4_V\"><label class=\"_2iDkf8\"><input class=\"_30VH1S\" readonly=\"\" type=\"checkbox\"/><div class=\"_24_Dny\"></div></label></span><label class=\"_6Up2sF\"><span>Add to Compare</span></label></div></div><div class=\"_2hVSre _3nq8ih\"><div class=\"_36FSn5\"><svg class=\"_1l0elc\" height=\"16\" viewbox=\"0 0 20 16\" width=\"16\" xmlns=\"http://www.w3.org/2000/svg\"><path class=\"eX72wL\" d=\"M8.695 16.682C4.06 12.382 1 9.536 1 6.065 1 3.219 3.178 1 5.95 1c1.566 0 3.069.746 4.05 1.915C10.981 1.745 12.484 1 14.05 1 16.822 1 19 3.22 19 6.065c0 3.471-3.06 6.316-7.695 10.617L10 17.897l-1.305-1.215z\" fill=\"#2874F0\" fill-rule=\"evenodd\" opacity=\".9\" stroke=\"#FFF\"></path></svg></div></div></div><div class=\"_3pLy-c row\"><div class=\"col col-7-12\"><div class=\"_4rR01T\">vivo T1X (Gravity Black, 64 GB)</div><div class=\"gUuXy-\"><span class=\"_1lRcqv\" id=\"productRating_LSTMOBGG56ZMXMNUCYFQ5HT8S_MOBGG56ZMXMNUCYF_\"><div class=\"_3LWZlK\">4.5<img class=\"_1wB99o\" src=\"data:image/svg+xml;base64,PHN2ZyB4bWxucz0iaHR0cDovL3d3dy53My5vcmcvMjAwMC9zdmciIHdpZHRoPSIxMyIgaGVpZ2h0PSIxMiI+PHBhdGggZmlsbD0iI0ZGRiIgZD0iTTYuNSA5LjQzOWwtMy42NzQgMi4yMy45NC00LjI2LTMuMjEtMi44ODMgNC4yNTQtLjQwNEw2LjUuMTEybDEuNjkgNC4wMSA0LjI1NC40MDQtMy4yMSAyLjg4Mi45NCA0LjI2eiIvPjwvc3ZnPg==\"/></div></span><span class=\"_2_R_DZ\"><span><span>85,799 Ratings </span><span class=\"_13vcmD\">&amp;</span><span> 4,778 Reviews</span></span></span></div><div class=\"fMghEO\"><ul class=\"_1xgFaf\"><li class=\"rgWa7D\">4 GB RAM | 64 GB ROM</li><li class=\"rgWa7D\">16.71 cm (6.58 inch) Full HD+ Display</li><li class=\"rgWa7D\">50MP + 2MP | 8MP Front Camera</li><li class=\"rgWa7D\">5000 mAh Battery</li><li class=\"rgWa7D\">Qualcomm Snapdragon 680 Processor</li><li class=\"rgWa7D\">1 Year on Handset and 6 Months on Accessories</li></ul></div></div><div class=\"col col-5-12 nlI3QM\"><div class=\"_3tbKJL\"><div class=\"_25b18c\"><div class=\"_30jeq3 _1_WHN1\">₹11,999</div><div class=\"_3I9_wc _27UcVY\">₹<!-- -->16,990</div><div class=\"_3Ay6Sb\"><span>29% off</span></div></div><div class=\"_3tcB5a p8ucoS\"><div><div class=\"_2Tpdn3\" style=\"color:#000000;font-size:12px;font-weight:400\">Free delivery</div></div></div></div><div class=\"_13J9qT\"><img height=\"21\" src=\"//static-assets-web.flixcart.com/fk-p-linchpin-web/fk-cp-zion/img/fa_62673a.png\"/></div><div class=\"_2ZdXDB\"><div class=\"_3xFhiH\"><div class=\"_2Tpdn3 _18hQoS\" style=\"color:#000000;font-size:14px;font-style:normal;font-weight:400\">Upto </div><div class=\"_2Tpdn3 _18hQoS\" style=\"color:#000000;font-size:14px;font-style:normal;font-weight:700\">₹11,300</div><div class=\"_2Tpdn3 _18hQoS\" style=\"color:#000000;font-size:14px;font-style:normal;font-weight:400\"> Off on Exchange</div></div></div><div class=\"_2ZdXDB\"><div class=\"_3xFhiH\"><div class=\"_2Tpdn3 _18hQoS\" style=\"color:#26A541;font-size:14px;font-weight:700\">Bank Offer</div></div></div></div></div></a></div></div></div></div><div class=\"_1AtVbE col-12-12\"><div class=\"_13oc-S\"><div data-id=\"MOBGG56ZYZSNW7JX\" style=\"width:100%\"><div class=\"_2kHMtA\"><a class=\"_1fQZEK\" href=\"/vivo-t1x-gravity-black-128-gb/p/itm9e8207e7825a9?pid=MOBGG56ZYZSNW7JX&amp;lid=LSTMOBGG56ZYZSNW7JXBKVX1F&amp;marketplace=FLIPKART&amp;q=vivo+mobiles&amp;store=tyy%2F4io&amp;srno=s_1_9&amp;otracker=AS_QueryStore_OrganicAutoSuggest_1_4_na_na_ps&amp;otracker1=AS_QueryStore_OrganicAutoSuggest_1_4_na_na_ps&amp;fm=organic&amp;iid=319a49ba-7f45-4e90-9a01-5c3751077ba2.MOBGG56ZYZSNW7JX.SEARCH&amp;ppt=None&amp;ppn=None&amp;ssid=6dlav2h1y80000001680339877683&amp;qH=278bf4990ddc16ab\" rel=\"noopener noreferrer\" target=\"_blank\"><div class=\"MIXNux\"><div class=\"_2QcLo-\"><div><div class=\"CXW8mj\" style=\"height:200px;width:200px\"><img alt=\"vivo T1X (Gravity Black, 128 GB)\" class=\"_396cs4\" loading=\"eager\" src=\"https://rukminim1.flixcart.com/image/312/312/xif0q/mobile/f/n/f/-original-imaggbtuwq32w4et.jpeg?q=70\"/></div></div></div><div class=\"_3wLduG\"><div class=\"_3PzNI-\"><span class=\"f3A4_V\"><label class=\"_2iDkf8\"><input class=\"_30VH1S\" readonly=\"\" type=\"checkbox\"/><div class=\"_24_Dny\"></div></label></span><label class=\"_6Up2sF\"><span>Add to Compare</span></label></div></div><div class=\"_2hVSre _3nq8ih\"><div class=\"_36FSn5\"><svg class=\"_1l0elc\" height=\"16\" viewbox=\"0 0 20 16\" width=\"16\" xmlns=\"http://www.w3.org/2000/svg\"><path class=\"eX72wL\" d=\"M8.695 16.682C4.06 12.382 1 9.536 1 6.065 1 3.219 3.178 1 5.95 1c1.566 0 3.069.746 4.05 1.915C10.981 1.745 12.484 1 14.05 1 16.822 1 19 3.22 19 6.065c0 3.471-3.06 6.316-7.695 10.617L10 17.897l-1.305-1.215z\" fill=\"#2874F0\" fill-rule=\"evenodd\" opacity=\".9\" stroke=\"#FFF\"></path></svg></div></div></div><div class=\"_3pLy-c row\"><div class=\"col col-7-12\"><div class=\"_4rR01T\">vivo T1X (Gravity Black, 128 GB)</div><div class=\"gUuXy-\"><span class=\"_1lRcqv\" id=\"productRating_LSTMOBGG56ZYZSNW7JXBKVX1F_MOBGG56ZYZSNW7JX_\"><div class=\"_3LWZlK\">4.5<img class=\"_1wB99o\" src=\"data:image/svg+xml;base64,PHN2ZyB4bWxucz0iaHR0cDovL3d3dy53My5vcmcvMjAwMC9zdmciIHdpZHRoPSIxMyIgaGVpZ2h0PSIxMiI+PHBhdGggZmlsbD0iI0ZGRiIgZD0iTTYuNSA5LjQzOWwtMy42NzQgMi4yMy45NC00LjI2LTMuMjEtMi44ODMgNC4yNTQtLjQwNEw2LjUuMTEybDEuNjkgNC4wMSA0LjI1NC40MDQtMy4yMSAyLjg4Mi45NCA0LjI2eiIvPjwvc3ZnPg==\"/></div></span><span class=\"_2_R_DZ\"><span><span>85,799 Ratings </span><span class=\"_13vcmD\">&amp;</span><span> 4,778 Reviews</span></span></span></div><div class=\"fMghEO\"><ul class=\"_1xgFaf\"><li class=\"rgWa7D\">4 GB RAM | 128 GB ROM</li><li class=\"rgWa7D\">16.71 cm (6.58 inch) Full HD+ Display</li><li class=\"rgWa7D\">50MP + 2MP | 8MP Front Camera</li><li class=\"rgWa7D\">5000 mAh Battery</li><li class=\"rgWa7D\">Qualcomm Snapdragon 680 Processor</li><li class=\"rgWa7D\">1 Year on Handset and 6 Months on Accessories</li></ul></div></div><div class=\"col col-5-12 nlI3QM\"><div class=\"_3tbKJL\"><div class=\"_25b18c\"><div class=\"_30jeq3 _1_WHN1\">₹12,999</div><div class=\"_3I9_wc _27UcVY\">₹<!-- -->17,990</div><div class=\"_3Ay6Sb\"><span>27% off</span></div></div><div class=\"_3tcB5a p8ucoS\"><div><div class=\"_2Tpdn3\" style=\"color:#000000;font-size:12px;font-weight:400\">Free delivery</div></div></div></div><div class=\"_13J9qT\"><img height=\"21\" src=\"//static-assets-web.flixcart.com/fk-p-linchpin-web/fk-cp-zion/img/fa_62673a.png\"/></div><div class=\"_2ZdXDB\"><div class=\"_3xFhiH\"><div class=\"_2Tpdn3 _18hQoS\" style=\"color:#000000;font-size:14px;font-style:normal;font-weight:400\">Upto </div><div class=\"_2Tpdn3 _18hQoS\" style=\"color:#000000;font-size:14px;font-style:normal;font-weight:700\">₹12,400</div><div class=\"_2Tpdn3 _18hQoS\" style=\"color:#000000;font-size:14px;font-style:normal;font-weight:400\"> Off on Exchange</div></div></div><div class=\"_2ZdXDB\"><div class=\"_3xFhiH\"><div class=\"_2Tpdn3 _18hQoS\" style=\"color:#26A541;font-size:14px;font-weight:700\">Bank Offer</div></div></div></div></div></a></div></div></div></div><div class=\"_1AtVbE col-12-12\"><div class=\"_13oc-S\"><div data-id=\"MOBGG56ZKWEHRZBV\" style=\"width:100%\"><div class=\"_2kHMtA\"><a class=\"_1fQZEK\" href=\"/vivo-t1x-gravity-black-128-gb/p/itm9e8207e7825a9?pid=MOBGG56ZKWEHRZBV&amp;lid=LSTMOBGG56ZKWEHRZBVUFLBUQ&amp;marketplace=FLIPKART&amp;q=vivo+mobiles&amp;store=tyy%2F4io&amp;srno=s_1_10&amp;otracker=AS_QueryStore_OrganicAutoSuggest_1_4_na_na_ps&amp;otracker1=AS_QueryStore_OrganicAutoSuggest_1_4_na_na_ps&amp;fm=organic&amp;iid=319a49ba-7f45-4e90-9a01-5c3751077ba2.MOBGG56ZKWEHRZBV.SEARCH&amp;ppt=None&amp;ppn=None&amp;ssid=6dlav2h1y80000001680339877683&amp;qH=278bf4990ddc16ab\" rel=\"noopener noreferrer\" target=\"_blank\"><div class=\"MIXNux\"><div class=\"_2QcLo-\"><div><div class=\"CXW8mj\" style=\"height:200px;width:200px\"><img alt=\"vivo T1X (Gravity Black, 128 GB)\" class=\"_396cs4\" loading=\"eager\" src=\"https://rukminim1.flixcart.com/image/312/312/xif0q/mobile/f/n/f/-original-imaggbtuwq32w4et.jpeg?q=70\"/></div></div></div><div class=\"_3wLduG\"><div class=\"_3PzNI-\"><span class=\"f3A4_V\"><label class=\"_2iDkf8\"><input class=\"_30VH1S\" readonly=\"\" type=\"checkbox\"/><div class=\"_24_Dny\"></div></label></span><label class=\"_6Up2sF\"><span>Add to Compare</span></label></div></div><div class=\"_2hVSre _3nq8ih\"><div class=\"_36FSn5\"><svg class=\"_1l0elc\" height=\"16\" viewbox=\"0 0 20 16\" width=\"16\" xmlns=\"http://www.w3.org/2000/svg\"><path class=\"eX72wL\" d=\"M8.695 16.682C4.06 12.382 1 9.536 1 6.065 1 3.219 3.178 1 5.95 1c1.566 0 3.069.746 4.05 1.915C10.981 1.745 12.484 1 14.05 1 16.822 1 19 3.22 19 6.065c0 3.471-3.06 6.316-7.695 10.617L10 17.897l-1.305-1.215z\" fill=\"#2874F0\" fill-rule=\"evenodd\" opacity=\".9\" stroke=\"#FFF\"></path></svg></div></div></div><div class=\"_3pLy-c row\"><div class=\"col col-7-12\"><div class=\"_4rR01T\">vivo T1X (Gravity Black, 128 GB)</div><div class=\"gUuXy-\"><span class=\"_1lRcqv\" id=\"productRating_LSTMOBGG56ZKWEHRZBVUFLBUQ_MOBGG56ZKWEHRZBV_\"><div class=\"_3LWZlK\">4.4<img class=\"_1wB99o\" src=\"data:image/svg+xml;base64,PHN2ZyB4bWxucz0iaHR0cDovL3d3dy53My5vcmcvMjAwMC9zdmciIHdpZHRoPSIxMyIgaGVpZ2h0PSIxMiI+PHBhdGggZmlsbD0iI0ZGRiIgZD0iTTYuNSA5LjQzOWwtMy42NzQgMi4yMy45NC00LjI2LTMuMjEtMi44ODMgNC4yNTQtLjQwNEw2LjUuMTEybDEuNjkgNC4wMSA0LjI1NC40MDQtMy4yMSAyLjg4Mi45NCA0LjI2eiIvPjwvc3ZnPg==\"/></div></span><span class=\"_2_R_DZ\"><span><span>4,730 Ratings </span><span class=\"_13vcmD\">&amp;</span><span> 277 Reviews</span></span></span></div><div class=\"fMghEO\"><ul class=\"_1xgFaf\"><li class=\"rgWa7D\">6 GB RAM | 128 GB ROM</li><li class=\"rgWa7D\">16.71 cm (6.58 inch) Full HD+ Display</li><li class=\"rgWa7D\">50MP + 2MP | 8MP Front Camera</li><li class=\"rgWa7D\">5000 mAh Battery</li><li class=\"rgWa7D\">Qualcomm Snapdragon 680 Processor</li><li class=\"rgWa7D\">1 Year on Handset and 6 Months on Accessories</li></ul></div></div><div class=\"col col-5-12 nlI3QM\"><div class=\"_3tbKJL\"><div class=\"_25b18c\"><div class=\"_30jeq3 _1_WHN1\">₹14,999</div><div class=\"_3I9_wc _27UcVY\">₹<!-- -->18,990</div><div class=\"_3Ay6Sb\"><span>21% off</span></div></div><div class=\"_3tcB5a p8ucoS\"><div><div class=\"_2Tpdn3\" style=\"color:#000000;font-size:12px;font-weight:400\">Free delivery</div></div></div></div><div class=\"_13J9qT\"><img height=\"21\" src=\"//static-assets-web.flixcart.com/fk-p-linchpin-web/fk-cp-zion/img/fa_62673a.png\"/></div><div class=\"_2ZdXDB\"><div class=\"_3xFhiH\"><div class=\"_2Tpdn3 _18hQoS\" style=\"color:#000000;font-size:14px;font-style:normal;font-weight:400\">Upto </div><div class=\"_2Tpdn3 _18hQoS\" style=\"color:#000000;font-size:14px;font-style:normal;font-weight:700\">₹14,400</div><div class=\"_2Tpdn3 _18hQoS\" style=\"color:#000000;font-size:14px;font-style:normal;font-weight:400\"> Off on Exchange</div></div></div><div class=\"_2ZdXDB\"><div class=\"_3xFhiH\"><div class=\"_2Tpdn3 _18hQoS\" style=\"color:#26A541;font-size:14px;font-weight:700\">Bank Offer</div></div></div></div></div></a></div></div></div></div><div class=\"_1AtVbE col-12-12\"><div class=\"_13oc-S\"><div data-id=\"MOBGG56ZR25JKP8Y\" style=\"width:100%\"><div class=\"_2kHMtA\"><a class=\"_1fQZEK\" href=\"/vivo-t1x-space-blue-128-gb/p/itm9e8207e7825a9?pid=MOBGG56ZR25JKP8Y&amp;lid=LSTMOBGG56ZR25JKP8YGTSEZ2&amp;marketplace=FLIPKART&amp;q=vivo+mobiles&amp;store=tyy%2F4io&amp;srno=s_1_11&amp;otracker=AS_QueryStore_OrganicAutoSuggest_1_4_na_na_ps&amp;otracker1=AS_QueryStore_OrganicAutoSuggest_1_4_na_na_ps&amp;fm=organic&amp;iid=319a49ba-7f45-4e90-9a01-5c3751077ba2.MOBGG56ZR25JKP8Y.SEARCH&amp;ppt=None&amp;ppn=None&amp;ssid=6dlav2h1y80000001680339877683&amp;qH=278bf4990ddc16ab\" rel=\"noopener noreferrer\" target=\"_blank\"><div class=\"MIXNux\"><div class=\"_2QcLo-\"><div><div class=\"CXW8mj\" style=\"height:200px;width:200px\"><img alt=\"vivo T1X (Space Blue, 128 GB)\" class=\"_396cs4\" loading=\"eager\" src=\"https://rukminim1.flixcart.com/image/312/312/xif0q/mobile/8/a/y/-original-imaggbtszycsgjp5.jpeg?q=70\"/></div></div></div><div class=\"_3wLduG\"><div class=\"_3PzNI-\"><span class=\"f3A4_V\"><label class=\"_2iDkf8\"><input class=\"_30VH1S\" readonly=\"\" type=\"checkbox\"/><div class=\"_24_Dny\"></div></label></span><label class=\"_6Up2sF\"><span>Add to Compare</span></label></div></div><div class=\"_2hVSre _3nq8ih\"><div class=\"_36FSn5\"><svg class=\"_1l0elc\" height=\"16\" viewbox=\"0 0 20 16\" width=\"16\" xmlns=\"http://www.w3.org/2000/svg\"><path class=\"eX72wL\" d=\"M8.695 16.682C4.06 12.382 1 9.536 1 6.065 1 3.219 3.178 1 5.95 1c1.566 0 3.069.746 4.05 1.915C10.981 1.745 12.484 1 14.05 1 16.822 1 19 3.22 19 6.065c0 3.471-3.06 6.316-7.695 10.617L10 17.897l-1.305-1.215z\" fill=\"#2874F0\" fill-rule=\"evenodd\" opacity=\".9\" stroke=\"#FFF\"></path></svg></div></div></div><div class=\"_3pLy-c row\"><div class=\"col col-7-12\"><div class=\"_4rR01T\">vivo T1X (Space Blue, 128 GB)</div><div class=\"gUuXy-\"><span class=\"_1lRcqv\" id=\"productRating_LSTMOBGG56ZR25JKP8YGTSEZ2_MOBGG56ZR25JKP8Y_\"><div class=\"_3LWZlK\">4.4<img class=\"_1wB99o\" src=\"data:image/svg+xml;base64,PHN2ZyB4bWxucz0iaHR0cDovL3d3dy53My5vcmcvMjAwMC9zdmciIHdpZHRoPSIxMyIgaGVpZ2h0PSIxMiI+PHBhdGggZmlsbD0iI0ZGRiIgZD0iTTYuNSA5LjQzOWwtMy42NzQgMi4yMy45NC00LjI2LTMuMjEtMi44ODMgNC4yNTQtLjQwNEw2LjUuMTEybDEuNjkgNC4wMSA0LjI1NC40MDQtMy4yMSAyLjg4Mi45NCA0LjI2eiIvPjwvc3ZnPg==\"/></div></span><span class=\"_2_R_DZ\"><span><span>4,730 Ratings </span><span class=\"_13vcmD\">&amp;</span><span> 277 Reviews</span></span></span></div><div class=\"fMghEO\"><ul class=\"_1xgFaf\"><li class=\"rgWa7D\">6 GB RAM | 128 GB ROM</li><li class=\"rgWa7D\">16.71 cm (6.58 inch) Full HD+ Display</li><li class=\"rgWa7D\">50MP + 2MP | 8MP Front Camera</li><li class=\"rgWa7D\">5000 mAh Battery</li><li class=\"rgWa7D\">Qualcomm Snapdragon 680 Processor</li><li class=\"rgWa7D\">1 Year on Handset and 6 Months on Accessories</li></ul></div></div><div class=\"col col-5-12 nlI3QM\"><div class=\"_3tbKJL\"><div class=\"_25b18c\"><div class=\"_30jeq3 _1_WHN1\">₹14,999</div><div class=\"_3I9_wc _27UcVY\">₹<!-- -->18,990</div><div class=\"_3Ay6Sb\"><span>21% off</span></div></div><div class=\"_3tcB5a p8ucoS\"><div><div class=\"_2Tpdn3\" style=\"color:#000000;font-size:12px;font-weight:400\">Free delivery</div></div></div></div><div class=\"_13J9qT\"><img height=\"21\" src=\"//static-assets-web.flixcart.com/fk-p-linchpin-web/fk-cp-zion/img/fa_62673a.png\"/></div><div class=\"_2ZdXDB\"><div class=\"_3xFhiH\"><div class=\"_2Tpdn3 _18hQoS\" style=\"color:#000000;font-size:14px;font-style:normal;font-weight:400\">Upto </div><div class=\"_2Tpdn3 _18hQoS\" style=\"color:#000000;font-size:14px;font-style:normal;font-weight:700\">₹14,400</div><div class=\"_2Tpdn3 _18hQoS\" style=\"color:#000000;font-size:14px;font-style:normal;font-weight:400\"> Off on Exchange</div></div></div><div class=\"_2ZdXDB\"><div class=\"_3xFhiH\"><div class=\"_2Tpdn3 _18hQoS\" style=\"color:#26A541;font-size:14px;font-weight:700\">Bank Offer</div></div></div></div></div></a></div></div></div></div><div class=\"_1AtVbE col-12-12\"><div class=\"_13oc-S\"><div data-id=\"MOBGG56ZYSVXEAHC\" style=\"width:100%\"><div class=\"_2kHMtA\"><a class=\"_1fQZEK\" href=\"/vivo-t1x-space-blue-128-gb/p/itm9e8207e7825a9?pid=MOBGG56ZYSVXEAHC&amp;lid=LSTMOBGG56ZYSVXEAHCCUPIEO&amp;marketplace=FLIPKART&amp;q=vivo+mobiles&amp;store=tyy%2F4io&amp;srno=s_1_12&amp;otracker=AS_QueryStore_OrganicAutoSuggest_1_4_na_na_ps&amp;otracker1=AS_QueryStore_OrganicAutoSuggest_1_4_na_na_ps&amp;fm=organic&amp;iid=319a49ba-7f45-4e90-9a01-5c3751077ba2.MOBGG56ZYSVXEAHC.SEARCH&amp;ppt=None&amp;ppn=None&amp;ssid=6dlav2h1y80000001680339877683&amp;qH=278bf4990ddc16ab\" rel=\"noopener noreferrer\" target=\"_blank\"><div class=\"MIXNux\"><div class=\"_2QcLo-\"><div><div class=\"CXW8mj\" style=\"height:200px;width:200px\"><img alt=\"vivo T1X (Space Blue, 128 GB)\" class=\"_396cs4\" loading=\"eager\" src=\"https://rukminim1.flixcart.com/image/312/312/xif0q/mobile/8/a/y/-original-imaggbtszycsgjp5.jpeg?q=70\"/></div></div></div><div class=\"_3wLduG\"><div class=\"_3PzNI-\"><span class=\"f3A4_V\"><label class=\"_2iDkf8\"><input class=\"_30VH1S\" readonly=\"\" type=\"checkbox\"/><div class=\"_24_Dny\"></div></label></span><label class=\"_6Up2sF\"><span>Add to Compare</span></label></div></div><div class=\"_2hVSre _3nq8ih\"><div class=\"_36FSn5\"><svg class=\"_1l0elc\" height=\"16\" viewbox=\"0 0 20 16\" width=\"16\" xmlns=\"http://www.w3.org/2000/svg\"><path class=\"eX72wL\" d=\"M8.695 16.682C4.06 12.382 1 9.536 1 6.065 1 3.219 3.178 1 5.95 1c1.566 0 3.069.746 4.05 1.915C10.981 1.745 12.484 1 14.05 1 16.822 1 19 3.22 19 6.065c0 3.471-3.06 6.316-7.695 10.617L10 17.897l-1.305-1.215z\" fill=\"#2874F0\" fill-rule=\"evenodd\" opacity=\".9\" stroke=\"#FFF\"></path></svg></div></div></div><div class=\"_3pLy-c row\"><div class=\"col col-7-12\"><div class=\"_4rR01T\">vivo T1X (Space Blue, 128 GB)</div><div class=\"gUuXy-\"><span class=\"_1lRcqv\" id=\"productRating_LSTMOBGG56ZYSVXEAHCCUPIEO_MOBGG56ZYSVXEAHC_\"><div class=\"_3LWZlK\">4.5<img class=\"_1wB99o\" src=\"data:image/svg+xml;base64,PHN2ZyB4bWxucz0iaHR0cDovL3d3dy53My5vcmcvMjAwMC9zdmciIHdpZHRoPSIxMyIgaGVpZ2h0PSIxMiI+PHBhdGggZmlsbD0iI0ZGRiIgZD0iTTYuNSA5LjQzOWwtMy42NzQgMi4yMy45NC00LjI2LTMuMjEtMi44ODMgNC4yNTQtLjQwNEw2LjUuMTEybDEuNjkgNC4wMSA0LjI1NC40MDQtMy4yMSAyLjg4Mi45NCA0LjI2eiIvPjwvc3ZnPg==\"/></div></span><span class=\"_2_R_DZ\"><span><span>85,799 Ratings </span><span class=\"_13vcmD\">&amp;</span><span> 4,778 Reviews</span></span></span></div><div class=\"fMghEO\"><ul class=\"_1xgFaf\"><li class=\"rgWa7D\">4 GB RAM | 128 GB ROM</li><li class=\"rgWa7D\">16.71 cm (6.58 inch) Full HD+ Display</li><li class=\"rgWa7D\">50MP + 2MP | 8MP Front Camera</li><li class=\"rgWa7D\">5000 mAh Battery</li><li class=\"rgWa7D\">Qualcomm Snapdragon 680 Processor</li><li class=\"rgWa7D\">1 Year on Handset and 6 Months on Accessories</li></ul></div></div><div class=\"col col-5-12 nlI3QM\"><div class=\"_3tbKJL\"><div class=\"_25b18c\"><div class=\"_30jeq3 _1_WHN1\">₹12,999</div><div class=\"_3I9_wc _27UcVY\">₹<!-- -->17,990</div><div class=\"_3Ay6Sb\"><span>27% off</span></div></div><div class=\"_3tcB5a p8ucoS\"><div><div class=\"_2Tpdn3\" style=\"color:#000000;font-size:12px;font-weight:400\">Free delivery</div></div></div></div><div class=\"_13J9qT\"><img height=\"21\" src=\"//static-assets-web.flixcart.com/fk-p-linchpin-web/fk-cp-zion/img/fa_62673a.png\"/></div><div class=\"_2ZdXDB\"><div class=\"_3xFhiH\"><div class=\"_2Tpdn3 _18hQoS\" style=\"color:#000000;font-size:14px;font-style:normal;font-weight:400\">Upto </div><div class=\"_2Tpdn3 _18hQoS\" style=\"color:#000000;font-size:14px;font-style:normal;font-weight:700\">₹12,400</div><div class=\"_2Tpdn3 _18hQoS\" style=\"color:#000000;font-size:14px;font-style:normal;font-weight:400\"> Off on Exchange</div></div></div><div class=\"_2ZdXDB\"><div class=\"_3xFhiH\"><div class=\"_2Tpdn3 _18hQoS\" style=\"color:#26A541;font-size:14px;font-weight:700\">Bank Offer</div></div></div></div></div></a></div></div></div></div><div class=\"_1AtVbE col-12-12\"><div class=\"_13oc-S\"><div data-id=\"MOBGNCWFZZUHHAFD\" style=\"width:100%\"><div class=\"_2kHMtA\"><a class=\"_1fQZEK\" href=\"/vivo-v27-5g-magic-blue-128-gb/p/itm7695be09c6e95?pid=MOBGNCWFZZUHHAFD&amp;lid=LSTMOBGNCWFZZUHHAFDAJHMFP&amp;marketplace=FLIPKART&amp;q=vivo+mobiles&amp;store=tyy%2F4io&amp;spotlightTagId=BestsellerId_tyy%2F4io&amp;srno=s_1_13&amp;otracker=AS_QueryStore_OrganicAutoSuggest_1_4_na_na_ps&amp;otracker1=AS_QueryStore_OrganicAutoSuggest_1_4_na_na_ps&amp;fm=organic&amp;iid=319a49ba-7f45-4e90-9a01-5c3751077ba2.MOBGNCWFZZUHHAFD.SEARCH&amp;ppt=None&amp;ppn=None&amp;ssid=6dlav2h1y80000001680339877683&amp;qH=278bf4990ddc16ab\" rel=\"noopener noreferrer\" target=\"_blank\"><div></div><div class=\"MIXNux\"><div class=\"_2QcLo-\"><div><div class=\"CXW8mj\" style=\"height:200px;width:200px\"><img alt=\"vivo V27 5G (Magic Blue, 128 GB)\" class=\"_396cs4\" loading=\"eager\" src=\"https://rukminim1.flixcart.com/image/312/312/xif0q/mobile/b/f/m/-original-imagna3ezkdusyrz.jpeg?q=70\"/></div></div></div><div class=\"_3wLduG\"><div class=\"_3PzNI-\"><span class=\"f3A4_V\"><label class=\"_2iDkf8\"><input class=\"_30VH1S\" readonly=\"\" type=\"checkbox\"/><div class=\"_24_Dny\"></div></label></span><label class=\"_6Up2sF\"><span>Add to Compare</span></label></div></div><div class=\"_2hVSre _3nq8ih\"><div class=\"_36FSn5\"><svg class=\"_1l0elc\" height=\"16\" viewbox=\"0 0 20 16\" width=\"16\" xmlns=\"http://www.w3.org/2000/svg\"><path class=\"eX72wL\" d=\"M8.695 16.682C4.06 12.382 1 9.536 1 6.065 1 3.219 3.178 1 5.95 1c1.566 0 3.069.746 4.05 1.915C10.981 1.745 12.484 1 14.05 1 16.822 1 19 3.22 19 6.065c0 3.471-3.06 6.316-7.695 10.617L10 17.897l-1.305-1.215z\" fill=\"#2874F0\" fill-rule=\"evenodd\" opacity=\".9\" stroke=\"#FFF\"></path></svg></div></div></div><div class=\"_3pLy-c row\"><div class=\"col col-7-12\"><div class=\"_4rR01T\">vivo V27 5G (Magic Blue, 128 GB)</div><div class=\"gUuXy-\"><span class=\"_1lRcqv\" id=\"productRating_LSTMOBGNCWFZZUHHAFDAJHMFP_MOBGNCWFZZUHHAFD_\"><div class=\"_3LWZlK\">4.5<img class=\"_1wB99o\" src=\"data:image/svg+xml;base64,PHN2ZyB4bWxucz0iaHR0cDovL3d3dy53My5vcmcvMjAwMC9zdmciIHdpZHRoPSIxMyIgaGVpZ2h0PSIxMiI+PHBhdGggZmlsbD0iI0ZGRiIgZD0iTTYuNSA5LjQzOWwtMy42NzQgMi4yMy45NC00LjI2LTMuMjEtMi44ODMgNC4yNTQtLjQwNEw2LjUuMTEybDEuNjkgNC4wMSA0LjI1NC40MDQtMy4yMSAyLjg4Mi45NCA0LjI2eiIvPjwvc3ZnPg==\"/></div></span><span class=\"_2_R_DZ\"><span><span>2,276 Ratings </span><span class=\"_13vcmD\">&amp;</span><span> 184 Reviews</span></span></span></div><div class=\"fMghEO\"><ul class=\"_1xgFaf\"><li class=\"rgWa7D\">8 GB RAM | 128 GB ROM</li><li class=\"rgWa7D\">17.22 cm (6.78 Inch) Full HD+ AMOLED Display</li><li class=\"rgWa7D\">50MP (OIS) + 8MP + 2MP | 50MP Front Camera</li><li class=\"rgWa7D\">4600 mAh Battery</li><li class=\"rgWa7D\">Mediatek Dimensity 7200 5G Processor</li><li class=\"rgWa7D\">1 Year Brand Warranty</li></ul></div></div><div class=\"col col-5-12 nlI3QM\"><div class=\"_3tbKJL\"><div class=\"_25b18c\"><div class=\"_30jeq3 _1_WHN1\">₹32,999</div><div class=\"_3I9_wc _27UcVY\">₹<!-- -->36,999</div><div class=\"_3Ay6Sb\"><span>10% off</span></div></div></div><div class=\"_13J9qT\"><img height=\"21\" src=\"//static-assets-web.flixcart.com/fk-p-linchpin-web/fk-cp-zion/img/fa_62673a.png\"/></div></div></div></a></div></div></div></div><div class=\"_1AtVbE col-12-12\"><div class=\"_13oc-S\"><div data-id=\"MOBGNCWFNAFYBVPC\" style=\"width:100%\"><div class=\"_2kHMtA\"><a class=\"_1fQZEK\" href=\"/vivo-v27-5g-noble-black-128-gb/p/itm7695be09c6e95?pid=MOBGNCWFNAFYBVPC&amp;lid=LSTMOBGNCWFNAFYBVPC6AYBL2&amp;marketplace=FLIPKART&amp;q=vivo+mobiles&amp;store=tyy%2F4io&amp;srno=s_1_14&amp;otracker=AS_QueryStore_OrganicAutoSuggest_1_4_na_na_ps&amp;otracker1=AS_QueryStore_OrganicAutoSuggest_1_4_na_na_ps&amp;fm=organic&amp;iid=319a49ba-7f45-4e90-9a01-5c3751077ba2.MOBGNCWFNAFYBVPC.SEARCH&amp;ppt=None&amp;ppn=None&amp;ssid=6dlav2h1y80000001680339877683&amp;qH=278bf4990ddc16ab\" rel=\"noopener noreferrer\" target=\"_blank\"><div class=\"MIXNux\"><div class=\"_2QcLo-\"><div><div class=\"CXW8mj\" style=\"height:200px;width:200px\"><img alt=\"vivo V27 5G (Noble Black, 128 GB)\" class=\"_396cs4\" loading=\"eager\" src=\"https://rukminim1.flixcart.com/image/312/312/xif0q/mobile/a/x/s/-original-imagna3eswgyntzw.jpeg?q=70\"/></div></div></div><div class=\"_3wLduG\"><div class=\"_3PzNI-\"><span class=\"f3A4_V\"><label class=\"_2iDkf8\"><input class=\"_30VH1S\" readonly=\"\" type=\"checkbox\"/><div class=\"_24_Dny\"></div></label></span><label class=\"_6Up2sF\"><span>Add to Compare</span></label></div></div><div class=\"_2hVSre _3nq8ih\"><div class=\"_36FSn5\"><svg class=\"_1l0elc\" height=\"16\" viewbox=\"0 0 20 16\" width=\"16\" xmlns=\"http://www.w3.org/2000/svg\"><path class=\"eX72wL\" d=\"M8.695 16.682C4.06 12.382 1 9.536 1 6.065 1 3.219 3.178 1 5.95 1c1.566 0 3.069.746 4.05 1.915C10.981 1.745 12.484 1 14.05 1 16.822 1 19 3.22 19 6.065c0 3.471-3.06 6.316-7.695 10.617L10 17.897l-1.305-1.215z\" fill=\"#2874F0\" fill-rule=\"evenodd\" opacity=\".9\" stroke=\"#FFF\"></path></svg></div></div></div><div class=\"_3pLy-c row\"><div class=\"col col-7-12\"><div class=\"_4rR01T\">vivo V27 5G (Noble Black, 128 GB)</div><div class=\"gUuXy-\"><span class=\"_1lRcqv\" id=\"productRating_LSTMOBGNCWFNAFYBVPC6AYBL2_MOBGNCWFNAFYBVPC_\"><div class=\"_3LWZlK\">4.5<img class=\"_1wB99o\" src=\"data:image/svg+xml;base64,PHN2ZyB4bWxucz0iaHR0cDovL3d3dy53My5vcmcvMjAwMC9zdmciIHdpZHRoPSIxMyIgaGVpZ2h0PSIxMiI+PHBhdGggZmlsbD0iI0ZGRiIgZD0iTTYuNSA5LjQzOWwtMy42NzQgMi4yMy45NC00LjI2LTMuMjEtMi44ODMgNC4yNTQtLjQwNEw2LjUuMTEybDEuNjkgNC4wMSA0LjI1NC40MDQtMy4yMSAyLjg4Mi45NCA0LjI2eiIvPjwvc3ZnPg==\"/></div></span><span class=\"_2_R_DZ\"><span><span>2,276 Ratings </span><span class=\"_13vcmD\">&amp;</span><span> 184 Reviews</span></span></span></div><div class=\"fMghEO\"><ul class=\"_1xgFaf\"><li class=\"rgWa7D\">8 GB RAM | 128 GB ROM</li><li class=\"rgWa7D\">17.22 cm (6.78 Inch) Full HD+ AMOLED Display</li><li class=\"rgWa7D\">50MP (OIS) + 8MP + 2MP | 50MP Front Camera</li><li class=\"rgWa7D\">4600 mAh Battery</li><li class=\"rgWa7D\">Mediatek Dimensity 7200 5G Processor</li><li class=\"rgWa7D\">1 Year Brand Warranty</li></ul></div></div><div class=\"col col-5-12 nlI3QM\"><div class=\"_3tbKJL\"><div class=\"_25b18c\"><div class=\"_30jeq3 _1_WHN1\">₹32,999</div><div class=\"_3I9_wc _27UcVY\">₹<!-- -->36,999</div><div class=\"_3Ay6Sb\"><span>10% off</span></div></div><div class=\"_3tcB5a p8ucoS\"><div><div class=\"_2Tpdn3\" style=\"color:#000000;font-size:12px;font-weight:400\">Free delivery</div></div></div></div><div class=\"_13J9qT\"><img height=\"21\" src=\"//static-assets-web.flixcart.com/fk-p-linchpin-web/fk-cp-zion/img/fa_62673a.png\"/></div><div class=\"_2ZdXDB\"><div class=\"_3xFhiH\"><div class=\"_2Tpdn3 _18hQoS\" style=\"color:#000000;font-size:14px;font-style:normal;font-weight:400\">Upto </div><div class=\"_2Tpdn3 _18hQoS\" style=\"color:#000000;font-size:14px;font-style:normal;font-weight:700\">₹29,000</div><div class=\"_2Tpdn3 _18hQoS\" style=\"color:#000000;font-size:14px;font-style:normal;font-weight:400\"> Off on Exchange</div></div></div><div class=\"_2ZdXDB\"><div class=\"_3xFhiH\"><div class=\"_2Tpdn3 _18hQoS\" style=\"color:#000000;font-size:12px;font-weight:400\">No Cost EMI from ₹5,500/month</div></div></div></div></div></a></div></div></div></div><div class=\"_1AtVbE col-12-12\"><div class=\"_13oc-S\"><div data-id=\"MOBGBNPZCFZWMYV6\" style=\"width:100%\"><div class=\"_2kHMtA\"><a class=\"_1fQZEK\" href=\"/vivo-y15s-wave-green-32-gb/p/itm3a7aa95e1360b?pid=MOBGBNPZCFZWMYV6&amp;lid=LSTMOBGBNPZCFZWMYV60DLU7G&amp;marketplace=FLIPKART&amp;q=vivo+mobiles&amp;store=tyy%2F4io&amp;srno=s_1_15&amp;otracker=AS_QueryStore_OrganicAutoSuggest_1_4_na_na_ps&amp;otracker1=AS_QueryStore_OrganicAutoSuggest_1_4_na_na_ps&amp;fm=organic&amp;iid=319a49ba-7f45-4e90-9a01-5c3751077ba2.MOBGBNPZCFZWMYV6.SEARCH&amp;ppt=None&amp;ppn=None&amp;ssid=6dlav2h1y80000001680339877683&amp;qH=278bf4990ddc16ab\" rel=\"noopener noreferrer\" target=\"_blank\"><div class=\"MIXNux\"><div class=\"_2QcLo-\"><div><div class=\"CXW8mj\" style=\"height:200px;width:200px\"><img alt=\"vivo Y15s (Wave Green, 32 GB)\" class=\"_396cs4\" loading=\"eager\" src=\"https://rukminim1.flixcart.com/image/312/312/xif0q/mobile/s/f/b/-original-imagjdmzybggs9sh.jpeg?q=70\"/></div></div></div><div class=\"_3wLduG\"><div class=\"_3PzNI-\"><span class=\"f3A4_V\"><label class=\"_2iDkf8\"><input class=\"_30VH1S\" readonly=\"\" type=\"checkbox\"/><div class=\"_24_Dny\"></div></label></span><label class=\"_6Up2sF\"><span>Add to Compare</span></label></div></div><div class=\"_2hVSre _3nq8ih\"><div class=\"_36FSn5\"><svg class=\"_1l0elc\" height=\"16\" viewbox=\"0 0 20 16\" width=\"16\" xmlns=\"http://www.w3.org/2000/svg\"><path class=\"eX72wL\" d=\"M8.695 16.682C4.06 12.382 1 9.536 1 6.065 1 3.219 3.178 1 5.95 1c1.566 0 3.069.746 4.05 1.915C10.981 1.745 12.484 1 14.05 1 16.822 1 19 3.22 19 6.065c0 3.471-3.06 6.316-7.695 10.617L10 17.897l-1.305-1.215z\" fill=\"#2874F0\" fill-rule=\"evenodd\" opacity=\".9\" stroke=\"#FFF\"></path></svg></div></div></div><div class=\"_3pLy-c row\"><div class=\"col col-7-12\"><div class=\"_4rR01T\">vivo Y15s (Wave Green, 32 GB)</div><div class=\"gUuXy-\"><span class=\"_1lRcqv\" id=\"productRating_LSTMOBGBNPZCFZWMYV60DLU7G_MOBGBNPZCFZWMYV6_\"><div class=\"_3LWZlK\">4.3<img class=\"_1wB99o\" src=\"data:image/svg+xml;base64,PHN2ZyB4bWxucz0iaHR0cDovL3d3dy53My5vcmcvMjAwMC9zdmciIHdpZHRoPSIxMyIgaGVpZ2h0PSIxMiI+PHBhdGggZmlsbD0iI0ZGRiIgZD0iTTYuNSA5LjQzOWwtMy42NzQgMi4yMy45NC00LjI2LTMuMjEtMi44ODMgNC4yNTQtLjQwNEw2LjUuMTEybDEuNjkgNC4wMSA0LjI1NC40MDQtMy4yMSAyLjg4Mi45NCA0LjI2eiIvPjwvc3ZnPg==\"/></div></span><span class=\"_2_R_DZ\"><span><span>4,044 Ratings </span><span class=\"_13vcmD\">&amp;</span><span> 297 Reviews</span></span></span></div><div class=\"fMghEO\"><ul class=\"_1xgFaf\"><li class=\"rgWa7D\">3 GB RAM | 32 GB ROM | Expandable Upto 1 TB</li><li class=\"rgWa7D\">16.54 cm (6.51 inch) HD+ Display</li><li class=\"rgWa7D\">13MP + 2MP | 8MP Front Camera</li><li class=\"rgWa7D\">5000 mAh Lithium Battery Battery</li><li class=\"rgWa7D\">Mediatek Helio P35 Processor</li><li class=\"rgWa7D\">1 Year for Device &amp; 6 Months for In-Box Accessories</li></ul></div></div><div class=\"col col-5-12 nlI3QM\"><div class=\"_3tbKJL\"><div class=\"_25b18c\"><div class=\"_30jeq3 _1_WHN1\">₹9,499</div><div class=\"_3I9_wc _27UcVY\">₹<!-- -->13,990</div><div class=\"_3Ay6Sb\"><span>32% off</span></div></div><div class=\"_3tcB5a p8ucoS\"><div><div class=\"_2Tpdn3\" style=\"color:#000000;font-size:12px;font-weight:400\">Free delivery</div></div></div></div><div class=\"_13J9qT\"><img height=\"21\" src=\"//static-assets-web.flixcart.com/fk-p-linchpin-web/fk-cp-zion/img/fa_62673a.png\"/></div><div class=\"_2ZdXDB\"><div class=\"_3xFhiH\"><div class=\"_2Tpdn3 _18hQoS\" style=\"color:#000000;font-size:14px;font-style:normal;font-weight:400\">Upto </div><div class=\"_2Tpdn3 _18hQoS\" style=\"color:#000000;font-size:14px;font-style:normal;font-weight:700\">₹8,950</div><div class=\"_2Tpdn3 _18hQoS\" style=\"color:#000000;font-size:14px;font-style:normal;font-weight:400\"> Off on Exchange</div></div></div><div class=\"_2ZdXDB\"><div class=\"_3xFhiH\"><div class=\"_2Tpdn3 _18hQoS\" style=\"color:#26A541;font-size:14px;font-weight:700\">Bank Offer</div></div></div></div></div></a></div></div></div></div><div class=\"_1AtVbE col-12-12\"><div class=\"_13oc-S\"><div data-id=\"MOBG5Y8CGTMKZFV6\" style=\"width:100%\"><div class=\"_2kHMtA\"><a class=\"_1fQZEK\" href=\"/vivo-y33s-mirror-black-128-gb/p/itm4121bc2b6ca4a?pid=MOBG5Y8CGTMKZFV6&amp;lid=LSTMOBG5Y8CGTMKZFV6U8KYFA&amp;marketplace=FLIPKART&amp;q=vivo+mobiles&amp;store=tyy%2F4io&amp;srno=s_1_16&amp;otracker=AS_QueryStore_OrganicAutoSuggest_1_4_na_na_ps&amp;otracker1=AS_QueryStore_OrganicAutoSuggest_1_4_na_na_ps&amp;fm=organic&amp;iid=319a49ba-7f45-4e90-9a01-5c3751077ba2.MOBG5Y8CGTMKZFV6.SEARCH&amp;ppt=None&amp;ppn=None&amp;ssid=6dlav2h1y80000001680339877683&amp;qH=278bf4990ddc16ab\" rel=\"noopener noreferrer\" target=\"_blank\"><div class=\"MIXNux\"><div class=\"_2QcLo-\"><div><div class=\"CXW8mj\" style=\"height:200px;width:200px\"><img alt=\"vivo Y33s (Mirror Black, 128 GB)\" class=\"_396cs4\" loading=\"eager\" src=\"https://rukminim1.flixcart.com/image/312/312/ksm49e80/mobile/y/6/g/y33s-v2109-vivo-original-imag65dv7hfk6pqy.jpeg?q=70\"/></div></div></div><div class=\"_3wLduG\"><div class=\"_3PzNI-\"><span class=\"f3A4_V\"><label class=\"_2iDkf8\"><input class=\"_30VH1S\" readonly=\"\" type=\"checkbox\"/><div class=\"_24_Dny\"></div></label></span><label class=\"_6Up2sF\"><span>Add to Compare</span></label></div></div><div class=\"_2hVSre _3nq8ih\"><div class=\"_36FSn5\"><svg class=\"_1l0elc\" height=\"16\" viewbox=\"0 0 20 16\" width=\"16\" xmlns=\"http://www.w3.org/2000/svg\"><path class=\"eX72wL\" d=\"M8.695 16.682C4.06 12.382 1 9.536 1 6.065 1 3.219 3.178 1 5.95 1c1.566 0 3.069.746 4.05 1.915C10.981 1.745 12.484 1 14.05 1 16.822 1 19 3.22 19 6.065c0 3.471-3.06 6.316-7.695 10.617L10 17.897l-1.305-1.215z\" fill=\"#2874F0\" fill-rule=\"evenodd\" opacity=\".9\" stroke=\"#FFF\"></path></svg></div></div></div><div class=\"_3pLy-c row\"><div class=\"col col-7-12\"><div class=\"_4rR01T\">vivo Y33s (Mirror Black, 128 GB)</div><div class=\"gUuXy-\"><span class=\"_1lRcqv\" id=\"productRating_LSTMOBG5Y8CGTMKZFV6U8KYFA_MOBG5Y8CGTMKZFV6_\"><div class=\"_3LWZlK\">4.3<img class=\"_1wB99o\" src=\"data:image/svg+xml;base64,PHN2ZyB4bWxucz0iaHR0cDovL3d3dy53My5vcmcvMjAwMC9zdmciIHdpZHRoPSIxMyIgaGVpZ2h0PSIxMiI+PHBhdGggZmlsbD0iI0ZGRiIgZD0iTTYuNSA5LjQzOWwtMy42NzQgMi4yMy45NC00LjI2LTMuMjEtMi44ODMgNC4yNTQtLjQwNEw2LjUuMTEybDEuNjkgNC4wMSA0LjI1NC40MDQtMy4yMSAyLjg4Mi45NCA0LjI2eiIvPjwvc3ZnPg==\"/></div></span><span class=\"_2_R_DZ\"><span><span>12,338 Ratings </span><span class=\"_13vcmD\">&amp;</span><span> 1,115 Reviews</span></span></span></div><div class=\"fMghEO\"><ul class=\"_1xgFaf\"><li class=\"rgWa7D\">8 GB RAM | 128 GB ROM | Expandable Upto 1 TB</li><li class=\"rgWa7D\">16.71 cm (6.58 inch) Full HD+ Display</li><li class=\"rgWa7D\">50MP + 2MP + 2MP | 16MP Front Camera</li><li class=\"rgWa7D\">5000 mAh Lithium Battery</li><li class=\"rgWa7D\">MediaTek Helio G80 Processor</li><li class=\"rgWa7D\">1 Year for Handset and 6 Months for In-box Accessories</li></ul></div></div><div class=\"col col-5-12 nlI3QM\"><div class=\"_3tbKJL\"><div class=\"_25b18c\"><div class=\"_30jeq3 _1_WHN1\">₹15,890</div><div class=\"_3I9_wc _27UcVY\">₹<!-- -->21,990</div><div class=\"_3Ay6Sb\"><span>27% off</span></div></div><div class=\"_3tcB5a p8ucoS\"><div><div class=\"_2Tpdn3\" style=\"color:#000000;font-size:12px;font-weight:400\">Free delivery</div></div></div></div><div class=\"_13J9qT\"><img height=\"21\" src=\"//static-assets-web.flixcart.com/fk-p-linchpin-web/fk-cp-zion/img/fa_62673a.png\"/></div><div class=\"_2ZdXDB\"><div class=\"_3xFhiH\"><div class=\"_2Tpdn3 _18hQoS\" style=\"color:#26A541;font-size:14px;font-weight:700\">Bank Offer</div></div></div></div></div></a></div></div></div></div><div class=\"_1AtVbE col-12-12\"><div class=\"_13oc-S\"><div data-id=\"MOBGMR8HZXDMFUGS\" style=\"width:100%\"><div class=\"_2kHMtA\"><a class=\"_1fQZEK\" href=\"/vivo-y56-5g-black-engine-128-gb/p/itmc736a6b61db7b?pid=MOBGMR8HZXDMFUGS&amp;lid=LSTMOBGMR8HZXDMFUGSWBMDS4&amp;marketplace=FLIPKART&amp;q=vivo+mobiles&amp;store=tyy%2F4io&amp;srno=s_1_17&amp;otracker=AS_QueryStore_OrganicAutoSuggest_1_4_na_na_ps&amp;otracker1=AS_QueryStore_OrganicAutoSuggest_1_4_na_na_ps&amp;fm=organic&amp;iid=319a49ba-7f45-4e90-9a01-5c3751077ba2.MOBGMR8HZXDMFUGS.SEARCH&amp;ppt=None&amp;ppn=None&amp;ssid=6dlav2h1y80000001680339877683&amp;qH=278bf4990ddc16ab\" rel=\"noopener noreferrer\" target=\"_blank\"><div class=\"MIXNux\"><div class=\"_2QcLo-\"><div><div class=\"CXW8mj\" style=\"height:200px;width:200px\"><img alt=\"vivo Y56 5G (Black Engine, 128 GB)\" class=\"_396cs4\" loading=\"eager\" src=\"https://rukminim1.flixcart.com/image/312/312/xif0q/mobile/m/k/a/-original-imagnyx8tfvzan3k.jpeg?q=70\"/></div></div></div><div class=\"_3wLduG\"><div class=\"_3PzNI-\"><span class=\"f3A4_V\"><label class=\"_2iDkf8\"><input class=\"_30VH1S\" readonly=\"\" type=\"checkbox\"/><div class=\"_24_Dny\"></div></label></span><label class=\"_6Up2sF\"><span>Add to Compare</span></label></div></div><div class=\"_2hVSre _3nq8ih\"><div class=\"_36FSn5\"><svg class=\"_1l0elc\" height=\"16\" viewbox=\"0 0 20 16\" width=\"16\" xmlns=\"http://www.w3.org/2000/svg\"><path class=\"eX72wL\" d=\"M8.695 16.682C4.06 12.382 1 9.536 1 6.065 1 3.219 3.178 1 5.95 1c1.566 0 3.069.746 4.05 1.915C10.981 1.745 12.484 1 14.05 1 16.822 1 19 3.22 19 6.065c0 3.471-3.06 6.316-7.695 10.617L10 17.897l-1.305-1.215z\" fill=\"#2874F0\" fill-rule=\"evenodd\" opacity=\".9\" stroke=\"#FFF\"></path></svg></div></div></div><div class=\"_3pLy-c row\"><div class=\"col col-7-12\"><div class=\"_4rR01T\">vivo Y56 5G (Black Engine, 128 GB)</div><div class=\"gUuXy-\"><span class=\"_1lRcqv\" id=\"productRating_LSTMOBGMR8HZXDMFUGSWBMDS4_MOBGMR8HZXDMFUGS_\"><div class=\"_3LWZlK\">4.4<img class=\"_1wB99o\" src=\"data:image/svg+xml;base64,PHN2ZyB4bWxucz0iaHR0cDovL3d3dy53My5vcmcvMjAwMC9zdmciIHdpZHRoPSIxMyIgaGVpZ2h0PSIxMiI+PHBhdGggZmlsbD0iI0ZGRiIgZD0iTTYuNSA5LjQzOWwtMy42NzQgMi4yMy45NC00LjI2LTMuMjEtMi44ODMgNC4yNTQtLjQwNEw2LjUuMTEybDEuNjkgNC4wMSA0LjI1NC40MDQtMy4yMSAyLjg4Mi45NCA0LjI2eiIvPjwvc3ZnPg==\"/></div></span><span class=\"_2_R_DZ\"><span><span>288 Ratings </span><span class=\"_13vcmD\">&amp;</span><span> 12 Reviews</span></span></span></div><div class=\"fMghEO\"><ul class=\"_1xgFaf\"><li class=\"rgWa7D\">8 GB RAM | 128 GB ROM</li><li class=\"rgWa7D\">16.71 cm (6.58 inch) Full HD+ Display</li><li class=\"rgWa7D\">50MP + 2MP | 16MP Front Camera</li><li class=\"rgWa7D\">5000 mAh Battery</li><li class=\"rgWa7D\">Mediatek Dimensity 700 Processor</li><li class=\"rgWa7D\">1 Year Manufacturer Warranty for Handset and 6 Months Manufacturer Warranty for In-Box Accessories</li></ul></div></div><div class=\"col col-5-12 nlI3QM\"><div class=\"_3tbKJL\"><div class=\"_25b18c\"><div class=\"_30jeq3 _1_WHN1\">₹19,999</div><div class=\"_3I9_wc _27UcVY\">₹<!-- -->24,999</div><div class=\"_3Ay6Sb\"><span>20% off</span></div></div><div class=\"_3tcB5a p8ucoS\"><div><div class=\"_2Tpdn3\" style=\"color:#000000;font-size:12px;font-weight:400\">Free delivery</div></div></div></div><div class=\"_13J9qT\"><img height=\"21\" src=\"//static-assets-web.flixcart.com/fk-p-linchpin-web/fk-cp-zion/img/fa_62673a.png\"/></div><div class=\"_2ZdXDB\"><div class=\"_3xFhiH\"><div class=\"_2Tpdn3 _18hQoS\" style=\"color:#000000;font-size:14px;font-style:normal;font-weight:400\">Upto </div><div class=\"_2Tpdn3 _18hQoS\" style=\"color:#000000;font-size:14px;font-style:normal;font-weight:700\">₹19,300</div><div class=\"_2Tpdn3 _18hQoS\" style=\"color:#000000;font-size:14px;font-style:normal;font-weight:400\"> Off on Exchange</div></div></div><div class=\"_2ZdXDB\"><div class=\"_3xFhiH\"><div class=\"_2Tpdn3 _18hQoS\" style=\"color:#000000;font-size:12px;font-weight:400\">No Cost EMI from ₹3,334/month</div></div></div></div></div></a></div></div></div></div><div class=\"_1AtVbE col-12-12\"><div class=\"_13oc-S\"><div data-id=\"MOBGHR2FFBQ9YW4T\" style=\"width:100%\"><div class=\"_2kHMtA\"><a class=\"_1fQZEK\" href=\"/vivo-y22-metaverse-green-64-gb/p/itmfb8eedc01096c?pid=MOBGHR2FFBQ9YW4T&amp;lid=LSTMOBGHR2FFBQ9YW4TPHYO8R&amp;marketplace=FLIPKART&amp;q=vivo+mobiles&amp;store=tyy%2F4io&amp;srno=s_1_18&amp;otracker=AS_QueryStore_OrganicAutoSuggest_1_4_na_na_ps&amp;otracker1=AS_QueryStore_OrganicAutoSuggest_1_4_na_na_ps&amp;fm=organic&amp;iid=319a49ba-7f45-4e90-9a01-5c3751077ba2.MOBGHR2FFBQ9YW4T.SEARCH&amp;ppt=None&amp;ppn=None&amp;ssid=6dlav2h1y80000001680339877683&amp;qH=278bf4990ddc16ab\" rel=\"noopener noreferrer\" target=\"_blank\"><div class=\"MIXNux\"><div class=\"_2QcLo-\"><div><div class=\"CXW8mj\" style=\"height:200px;width:200px\"><img alt=\"vivo Y22 (Metaverse Green, 64 GB)\" class=\"_396cs4\" loading=\"eager\" src=\"https://rukminim1.flixcart.com/image/312/312/xif0q/mobile/b/k/v/-original-imaggfxnghmtgcnp.jpeg?q=70\"/></div></div></div><div class=\"_3wLduG\"><div class=\"_3PzNI-\"><span class=\"f3A4_V\"><label class=\"_2iDkf8\"><input class=\"_30VH1S\" readonly=\"\" type=\"checkbox\"/><div class=\"_24_Dny\"></div></label></span><label class=\"_6Up2sF\"><span>Add to Compare</span></label></div></div><div class=\"_2hVSre _3nq8ih\"><div class=\"_36FSn5\"><svg class=\"_1l0elc\" height=\"16\" viewbox=\"0 0 20 16\" width=\"16\" xmlns=\"http://www.w3.org/2000/svg\"><path class=\"eX72wL\" d=\"M8.695 16.682C4.06 12.382 1 9.536 1 6.065 1 3.219 3.178 1 5.95 1c1.566 0 3.069.746 4.05 1.915C10.981 1.745 12.484 1 14.05 1 16.822 1 19 3.22 19 6.065c0 3.471-3.06 6.316-7.695 10.617L10 17.897l-1.305-1.215z\" fill=\"#2874F0\" fill-rule=\"evenodd\" opacity=\".9\" stroke=\"#FFF\"></path></svg></div></div></div><div class=\"_3pLy-c row\"><div class=\"col col-7-12\"><div class=\"_4rR01T\">vivo Y22 (Metaverse Green, 64 GB)</div><div class=\"gUuXy-\"><span class=\"_1lRcqv\" id=\"productRating_LSTMOBGHR2FFBQ9YW4TPHYO8R_MOBGHR2FFBQ9YW4T_\"><div class=\"_3LWZlK\">4.3<img class=\"_1wB99o\" src=\"data:image/svg+xml;base64,PHN2ZyB4bWxucz0iaHR0cDovL3d3dy53My5vcmcvMjAwMC9zdmciIHdpZHRoPSIxMyIgaGVpZ2h0PSIxMiI+PHBhdGggZmlsbD0iI0ZGRiIgZD0iTTYuNSA5LjQzOWwtMy42NzQgMi4yMy45NC00LjI2LTMuMjEtMi44ODMgNC4yNTQtLjQwNEw2LjUuMTEybDEuNjkgNC4wMSA0LjI1NC40MDQtMy4yMSAyLjg4Mi45NCA0LjI2eiIvPjwvc3ZnPg==\"/></div></span><span class=\"_2_R_DZ\"><span><span>906 Ratings </span><span class=\"_13vcmD\">&amp;</span><span> 56 Reviews</span></span></span></div><div class=\"fMghEO\"><ul class=\"_1xgFaf\"><li class=\"rgWa7D\">4 GB RAM | 64 GB ROM | Expandable Upto 1 TB</li><li class=\"rgWa7D\">16.64 cm (6.55 inch) HD+ Display</li><li class=\"rgWa7D\">50MP + 2MP | 8MP Front Camera</li><li class=\"rgWa7D\">5000 mAh Lithium Battery</li><li class=\"rgWa7D\">Mediatek Helio G70 Processor</li><li class=\"rgWa7D\">1 Year of Device &amp; 6 Months for In-Box Accessories</li></ul></div></div><div class=\"col col-5-12 nlI3QM\"><div class=\"_3tbKJL\"><div class=\"_25b18c\"><div class=\"_30jeq3 _1_WHN1\">₹14,499</div><div class=\"_3I9_wc _27UcVY\">₹<!-- -->17,990</div><div class=\"_3Ay6Sb\"><span>19% off</span></div></div><div class=\"_3tcB5a p8ucoS\"><div><div class=\"_2Tpdn3\" style=\"color:#000000;font-size:12px;font-weight:400\">Free delivery</div></div></div></div><div class=\"_13J9qT\"><img height=\"21\" src=\"//static-assets-web.flixcart.com/fk-p-linchpin-web/fk-cp-zion/img/fa_62673a.png\"/></div><div class=\"_2ZdXDB\"><div class=\"_3xFhiH\"><div class=\"_2Tpdn3 _18hQoS\" style=\"color:#000000;font-size:14px;font-style:normal;font-weight:400\">Upto </div><div class=\"_2Tpdn3 _18hQoS\" style=\"color:#000000;font-size:14px;font-style:normal;font-weight:700\">₹13,950</div><div class=\"_2Tpdn3 _18hQoS\" style=\"color:#000000;font-size:14px;font-style:normal;font-weight:400\"> Off on Exchange</div></div></div><div class=\"_2ZdXDB\"><div class=\"_3xFhiH\"><div class=\"_2Tpdn3 _18hQoS\" style=\"color:#000000;font-size:12px;font-weight:400\">No Cost EMI from ₹2,417/month</div></div></div></div></div></a></div></div></div></div><div class=\"_1AtVbE col-12-12\"><div class=\"_13oc-S\"><div data-id=\"MOBGHR2FMKFB5TBP\" style=\"width:100%\"><div class=\"_2kHMtA\"><a class=\"_1fQZEK\" href=\"/vivo-y22-starlit-blue-64-gb/p/itmfb8eedc01096c?pid=MOBGHR2FMKFB5TBP&amp;lid=LSTMOBGHR2FMKFB5TBPGWLRN6&amp;marketplace=FLIPKART&amp;q=vivo+mobiles&amp;store=tyy%2F4io&amp;srno=s_1_19&amp;otracker=AS_QueryStore_OrganicAutoSuggest_1_4_na_na_ps&amp;otracker1=AS_QueryStore_OrganicAutoSuggest_1_4_na_na_ps&amp;fm=organic&amp;iid=319a49ba-7f45-4e90-9a01-5c3751077ba2.MOBGHR2FMKFB5TBP.SEARCH&amp;ppt=None&amp;ppn=None&amp;ssid=6dlav2h1y80000001680339877683&amp;qH=278bf4990ddc16ab\" rel=\"noopener noreferrer\" target=\"_blank\"><div class=\"MIXNux\"><div class=\"_2QcLo-\"><div><div class=\"CXW8mj\" style=\"height:200px;width:200px\"><img alt=\"vivo Y22 (Starlit Blue, 64 GB)\" class=\"_396cs4\" loading=\"eager\" src=\"https://rukminim1.flixcart.com/image/312/312/xif0q/mobile/z/n/c/-original-imaggfxnn2cd7h4z.jpeg?q=70\"/></div></div></div><div class=\"_3wLduG\"><div class=\"_3PzNI-\"><span class=\"f3A4_V\"><label class=\"_2iDkf8\"><input class=\"_30VH1S\" readonly=\"\" type=\"checkbox\"/><div class=\"_24_Dny\"></div></label></span><label class=\"_6Up2sF\"><span>Add to Compare</span></label></div></div><div class=\"_2hVSre _3nq8ih\"><div class=\"_36FSn5\"><svg class=\"_1l0elc\" height=\"16\" viewbox=\"0 0 20 16\" width=\"16\" xmlns=\"http://www.w3.org/2000/svg\"><path class=\"eX72wL\" d=\"M8.695 16.682C4.06 12.382 1 9.536 1 6.065 1 3.219 3.178 1 5.95 1c1.566 0 3.069.746 4.05 1.915C10.981 1.745 12.484 1 14.05 1 16.822 1 19 3.22 19 6.065c0 3.471-3.06 6.316-7.695 10.617L10 17.897l-1.305-1.215z\" fill=\"#2874F0\" fill-rule=\"evenodd\" opacity=\".9\" stroke=\"#FFF\"></path></svg></div></div></div><div class=\"_3pLy-c row\"><div class=\"col col-7-12\"><div class=\"_4rR01T\">vivo Y22 (Starlit Blue, 64 GB)</div><div class=\"gUuXy-\"><span class=\"_1lRcqv\" id=\"productRating_LSTMOBGHR2FMKFB5TBPGWLRN6_MOBGHR2FMKFB5TBP_\"><div class=\"_3LWZlK\">4.3<img class=\"_1wB99o\" src=\"data:image/svg+xml;base64,PHN2ZyB4bWxucz0iaHR0cDovL3d3dy53My5vcmcvMjAwMC9zdmciIHdpZHRoPSIxMyIgaGVpZ2h0PSIxMiI+PHBhdGggZmlsbD0iI0ZGRiIgZD0iTTYuNSA5LjQzOWwtMy42NzQgMi4yMy45NC00LjI2LTMuMjEtMi44ODMgNC4yNTQtLjQwNEw2LjUuMTEybDEuNjkgNC4wMSA0LjI1NC40MDQtMy4yMSAyLjg4Mi45NCA0LjI2eiIvPjwvc3ZnPg==\"/></div></span><span class=\"_2_R_DZ\"><span><span>906 Ratings </span><span class=\"_13vcmD\">&amp;</span><span> 56 Reviews</span></span></span></div><div class=\"fMghEO\"><ul class=\"_1xgFaf\"><li class=\"rgWa7D\">4 GB RAM | 64 GB ROM | Expandable Upto 1 TB</li><li class=\"rgWa7D\">16.64 cm (6.55 inch) HD+ Display</li><li class=\"rgWa7D\">50MP + 2MP | 8MP Front Camera</li><li class=\"rgWa7D\">5000 mAh Lithium Battery</li><li class=\"rgWa7D\">Mediatek Helio G70 Processor</li><li class=\"rgWa7D\">1 Year of Device &amp; 6 Months for In-Box Accessories</li></ul></div></div><div class=\"col col-5-12 nlI3QM\"><div class=\"_3tbKJL\"><div class=\"_25b18c\"><div class=\"_30jeq3 _1_WHN1\">₹14,499</div><div class=\"_3I9_wc _27UcVY\">₹<!-- -->17,990</div><div class=\"_3Ay6Sb\"><span>19% off</span></div></div><div class=\"_3tcB5a p8ucoS\"><div><div class=\"_2Tpdn3\" style=\"color:#000000;font-size:12px;font-weight:400\">Free delivery</div></div></div></div><div class=\"_13J9qT\"><img height=\"21\" src=\"//static-assets-web.flixcart.com/fk-p-linchpin-web/fk-cp-zion/img/fa_62673a.png\"/></div><div class=\"_2ZdXDB\"><div class=\"_3xFhiH\"><div class=\"_2Tpdn3 _18hQoS\" style=\"color:#000000;font-size:14px;font-style:normal;font-weight:400\">Upto </div><div class=\"_2Tpdn3 _18hQoS\" style=\"color:#000000;font-size:14px;font-style:normal;font-weight:700\">₹13,950</div><div class=\"_2Tpdn3 _18hQoS\" style=\"color:#000000;font-size:14px;font-style:normal;font-weight:400\"> Off on Exchange</div></div></div><div class=\"_2ZdXDB\"><div class=\"_3xFhiH\"><div class=\"_2Tpdn3 _18hQoS\" style=\"color:#000000;font-size:12px;font-weight:400\">No Cost EMI from ₹2,417/month</div></div></div></div></div></a></div></div></div></div><div class=\"_1AtVbE col-12-12\"><div class=\"_13oc-S\"><div data-id=\"MOBGHR2FQZGSSTTD\" style=\"width:100%\"><div class=\"_2kHMtA\"><a class=\"_1fQZEK\" href=\"/vivo-y22-metaverse-green-128-gb/p/itmfb8eedc01096c?pid=MOBGHR2FQZGSSTTD&amp;lid=LSTMOBGHR2FQZGSSTTDKUMZ5I&amp;marketplace=FLIPKART&amp;q=vivo+mobiles&amp;store=tyy%2F4io&amp;srno=s_1_20&amp;otracker=AS_QueryStore_OrganicAutoSuggest_1_4_na_na_ps&amp;otracker1=AS_QueryStore_OrganicAutoSuggest_1_4_na_na_ps&amp;fm=organic&amp;iid=319a49ba-7f45-4e90-9a01-5c3751077ba2.MOBGHR2FQZGSSTTD.SEARCH&amp;ppt=None&amp;ppn=None&amp;ssid=6dlav2h1y80000001680339877683&amp;qH=278bf4990ddc16ab\" rel=\"noopener noreferrer\" target=\"_blank\"><div class=\"MIXNux\"><div class=\"_2QcLo-\"><div><div class=\"CXW8mj\" style=\"height:200px;width:200px\"><img alt=\"vivo Y22 (Metaverse Green, 128 GB)\" class=\"_396cs4\" loading=\"eager\" src=\"https://rukminim1.flixcart.com/image/312/312/xif0q/mobile/b/k/v/-original-imaggfxnghmtgcnp.jpeg?q=70\"/></div></div></div><div class=\"_3wLduG\"><div class=\"_3PzNI-\"><span class=\"f3A4_V\"><label class=\"_2iDkf8\"><input class=\"_30VH1S\" readonly=\"\" type=\"checkbox\"/><div class=\"_24_Dny\"></div></label></span><label class=\"_6Up2sF\"><span>Add to Compare</span></label></div></div><div class=\"_2hVSre _3nq8ih\"><div class=\"_36FSn5\"><svg class=\"_1l0elc\" height=\"16\" viewbox=\"0 0 20 16\" width=\"16\" xmlns=\"http://www.w3.org/2000/svg\"><path class=\"eX72wL\" d=\"M8.695 16.682C4.06 12.382 1 9.536 1 6.065 1 3.219 3.178 1 5.95 1c1.566 0 3.069.746 4.05 1.915C10.981 1.745 12.484 1 14.05 1 16.822 1 19 3.22 19 6.065c0 3.471-3.06 6.316-7.695 10.617L10 17.897l-1.305-1.215z\" fill=\"#2874F0\" fill-rule=\"evenodd\" opacity=\".9\" stroke=\"#FFF\"></path></svg></div></div></div><div class=\"_3pLy-c row\"><div class=\"col col-7-12\"><div class=\"_4rR01T\">vivo Y22 (Metaverse Green, 128 GB)</div><div class=\"gUuXy-\"><span class=\"_1lRcqv\" id=\"productRating_LSTMOBGHR2FQZGSSTTDKUMZ5I_MOBGHR2FQZGSSTTD_\"><div class=\"_3LWZlK\">4.3<img class=\"_1wB99o\" src=\"data:image/svg+xml;base64,PHN2ZyB4bWxucz0iaHR0cDovL3d3dy53My5vcmcvMjAwMC9zdmciIHdpZHRoPSIxMyIgaGVpZ2h0PSIxMiI+PHBhdGggZmlsbD0iI0ZGRiIgZD0iTTYuNSA5LjQzOWwtMy42NzQgMi4yMy45NC00LjI2LTMuMjEtMi44ODMgNC4yNTQtLjQwNEw2LjUuMTEybDEuNjkgNC4wMSA0LjI1NC40MDQtMy4yMSAyLjg4Mi45NCA0LjI2eiIvPjwvc3ZnPg==\"/></div></span><span class=\"_2_R_DZ\"><span><span>902 Ratings </span><span class=\"_13vcmD\">&amp;</span><span> 52 Reviews</span></span></span></div><div class=\"fMghEO\"><ul class=\"_1xgFaf\"><li class=\"rgWa7D\">6 GB RAM | 128 GB ROM | Expandable Upto 1 TB</li><li class=\"rgWa7D\">16.64 cm (6.55 inch) HD+ Display</li><li class=\"rgWa7D\">50MP + 2MP | 8MP Front Camera</li><li class=\"rgWa7D\">5000 mAh Lithium Battery</li><li class=\"rgWa7D\">Mediatek Helio G70 Processor</li><li class=\"rgWa7D\">1 Year of Device &amp; 6 Months for In-Box Accessories</li></ul></div></div><div class=\"col col-5-12 nlI3QM\"><div class=\"_3tbKJL\"><div class=\"_25b18c\"><div class=\"_30jeq3 _1_WHN1\">₹16,499</div><div class=\"_3I9_wc _27UcVY\">₹<!-- -->19,990</div><div class=\"_3Ay6Sb\"><span>17% off</span></div></div><div class=\"_3tcB5a p8ucoS\"><div><div class=\"_2Tpdn3\" style=\"color:#000000;font-size:12px;font-weight:400\">Free delivery</div></div></div></div><div class=\"_13J9qT\"><img height=\"21\" src=\"//static-assets-web.flixcart.com/fk-p-linchpin-web/fk-cp-zion/img/fa_62673a.png\"/></div><div class=\"_2ZdXDB\"><div class=\"_3xFhiH\"><div class=\"_2Tpdn3 _18hQoS\" style=\"color:#000000;font-size:14px;font-style:normal;font-weight:400\">Upto </div><div class=\"_2Tpdn3 _18hQoS\" style=\"color:#000000;font-size:14px;font-style:normal;font-weight:700\">₹15,800</div><div class=\"_2Tpdn3 _18hQoS\" style=\"color:#000000;font-size:14px;font-style:normal;font-weight:400\"> Off on Exchange</div></div></div><div class=\"_2ZdXDB\"><div class=\"_3xFhiH\"><div class=\"_2Tpdn3 _18hQoS\" style=\"color:#000000;font-size:12px;font-weight:400\">No Cost EMI from ₹2,750/month</div></div></div></div></div></a></div></div></div></div><div class=\"_1AtVbE col-12-12\"><div class=\"_13oc-S\"><div data-id=\"MOBGHY842H4EZHZJ\" style=\"width:100%\"><div class=\"_2kHMtA\"><a class=\"_1fQZEK\" href=\"/vivo-y35-dawn-gold-128-gb/p/itm5bbe7b46a948e?pid=MOBGHY842H4EZHZJ&amp;lid=LSTMOBGHY842H4EZHZJRX2GWZ&amp;marketplace=FLIPKART&amp;q=vivo+mobiles&amp;store=tyy%2F4io&amp;srno=s_1_21&amp;otracker=AS_QueryStore_OrganicAutoSuggest_1_4_na_na_ps&amp;otracker1=AS_QueryStore_OrganicAutoSuggest_1_4_na_na_ps&amp;fm=organic&amp;iid=319a49ba-7f45-4e90-9a01-5c3751077ba2.MOBGHY842H4EZHZJ.SEARCH&amp;ppt=None&amp;ppn=None&amp;ssid=6dlav2h1y80000001680339877683&amp;qH=278bf4990ddc16ab\" rel=\"noopener noreferrer\" target=\"_blank\"><div class=\"MIXNux\"><div class=\"_2QcLo-\"><div><div class=\"CXW8mj\" style=\"height:200px;width:200px\"><img alt=\"vivo Y35 (Dawn Gold, 128 GB)\" class=\"_396cs4\" loading=\"eager\" src=\"https://rukminim1.flixcart.com/image/312/312/xif0q/mobile/0/e/z/-original-imaghm9yz8zwvhvz.jpeg?q=70\"/></div></div></div><div class=\"_3wLduG\"><div class=\"_3PzNI-\"><span class=\"f3A4_V\"><label class=\"_2iDkf8\"><input class=\"_30VH1S\" readonly=\"\" type=\"checkbox\"/><div class=\"_24_Dny\"></div></label></span><label class=\"_6Up2sF\"><span>Add to Compare</span></label></div></div><div class=\"_2hVSre _3nq8ih\"><div class=\"_36FSn5\"><svg class=\"_1l0elc\" height=\"16\" viewbox=\"0 0 20 16\" width=\"16\" xmlns=\"http://www.w3.org/2000/svg\"><path class=\"eX72wL\" d=\"M8.695 16.682C4.06 12.382 1 9.536 1 6.065 1 3.219 3.178 1 5.95 1c1.566 0 3.069.746 4.05 1.915C10.981 1.745 12.484 1 14.05 1 16.822 1 19 3.22 19 6.065c0 3.471-3.06 6.316-7.695 10.617L10 17.897l-1.305-1.215z\" fill=\"#2874F0\" fill-rule=\"evenodd\" opacity=\".9\" stroke=\"#FFF\"></path></svg></div></div></div><div class=\"_3pLy-c row\"><div class=\"col col-7-12\"><div class=\"_4rR01T\">vivo Y35 (Dawn Gold, 128 GB)</div><div class=\"gUuXy-\"><span class=\"_1lRcqv\" id=\"productRating_LSTMOBGHY842H4EZHZJRX2GWZ_MOBGHY842H4EZHZJ_\"><div class=\"_3LWZlK\">4.4<img class=\"_1wB99o\" src=\"data:image/svg+xml;base64,PHN2ZyB4bWxucz0iaHR0cDovL3d3dy53My5vcmcvMjAwMC9zdmciIHdpZHRoPSIxMyIgaGVpZ2h0PSIxMiI+PHBhdGggZmlsbD0iI0ZGRiIgZD0iTTYuNSA5LjQzOWwtMy42NzQgMi4yMy45NC00LjI2LTMuMjEtMi44ODMgNC4yNTQtLjQwNEw2LjUuMTEybDEuNjkgNC4wMSA0LjI1NC40MDQtMy4yMSAyLjg4Mi45NCA0LjI2eiIvPjwvc3ZnPg==\"/></div></span><span class=\"_2_R_DZ\"><span><span>2,119 Ratings </span><span class=\"_13vcmD\">&amp;</span><span> 143 Reviews</span></span></span></div><div class=\"fMghEO\"><ul class=\"_1xgFaf\"><li class=\"rgWa7D\">8 GB RAM | 128 GB ROM</li><li class=\"rgWa7D\">16.71 cm (6.58 inch) Full HD+ Display</li><li class=\"rgWa7D\">50MP + 2MP + 2MP | 16MP Front Camera</li><li class=\"rgWa7D\">5000 mAh Lithium Battery</li><li class=\"rgWa7D\">Qualcomm Snapdragon 680 Processor</li><li class=\"rgWa7D\">1 Year of Device &amp; 6 Months for In-Box Accessories</li></ul></div></div><div class=\"col col-5-12 nlI3QM\"><div class=\"_3tbKJL\"><div class=\"_25b18c\"><div class=\"_30jeq3 _1_WHN1\">₹17,499</div><div class=\"_3I9_wc _27UcVY\">₹<!-- -->22,999</div><div class=\"_3Ay6Sb\"><span>23% off</span></div></div><div class=\"_3tcB5a p8ucoS\"><div><div class=\"_2Tpdn3\" style=\"color:#000000;font-size:12px;font-weight:400\">Free delivery</div></div></div></div><div class=\"_13J9qT\"><img height=\"21\" src=\"//static-assets-web.flixcart.com/fk-p-linchpin-web/fk-cp-zion/img/fa_62673a.png\"/></div><div class=\"_2ZdXDB\"><div class=\"_3xFhiH\"><div class=\"_2Tpdn3 _18hQoS\" style=\"color:#26A541;font-size:12px;font-weight:700\">Lowest price since launch</div></div></div><div class=\"_2ZdXDB\"><div class=\"_3xFhiH\"><div class=\"_2Tpdn3 _18hQoS\" style=\"color:#000000;font-size:14px;font-style:normal;font-weight:400\">Upto </div><div class=\"_2Tpdn3 _18hQoS\" style=\"color:#000000;font-size:14px;font-style:normal;font-weight:700\">₹16,900</div><div class=\"_2Tpdn3 _18hQoS\" style=\"color:#000000;font-size:14px;font-style:normal;font-weight:400\"> Off on Exchange</div></div></div></div></div></a></div></div></div></div><div class=\"_1AtVbE col-12-12\"><div class=\"_13oc-S\"><div data-id=\"MOBGHR2FEGEAMGPW\" style=\"width:100%\"><div class=\"_2kHMtA\"><a class=\"_1fQZEK\" href=\"/vivo-y22-starlit-blue-128-gb/p/itmfb8eedc01096c?pid=MOBGHR2FEGEAMGPW&amp;lid=LSTMOBGHR2FEGEAMGPWVK6QZC&amp;marketplace=FLIPKART&amp;q=vivo+mobiles&amp;store=tyy%2F4io&amp;srno=s_1_22&amp;otracker=AS_QueryStore_OrganicAutoSuggest_1_4_na_na_ps&amp;otracker1=AS_QueryStore_OrganicAutoSuggest_1_4_na_na_ps&amp;fm=organic&amp;iid=319a49ba-7f45-4e90-9a01-5c3751077ba2.MOBGHR2FEGEAMGPW.SEARCH&amp;ppt=None&amp;ppn=None&amp;ssid=6dlav2h1y80000001680339877683&amp;qH=278bf4990ddc16ab\" rel=\"noopener noreferrer\" target=\"_blank\"><div class=\"MIXNux\"><div class=\"_2QcLo-\"><div><div class=\"CXW8mj\" style=\"height:200px;width:200px\"><img alt=\"vivo Y22 (Starlit Blue, 128 GB)\" class=\"_396cs4\" loading=\"eager\" src=\"https://rukminim1.flixcart.com/image/312/312/xif0q/mobile/z/n/c/-original-imaggfxnn2cd7h4z.jpeg?q=70\"/></div></div></div><div class=\"_3wLduG\"><div class=\"_3PzNI-\"><span class=\"f3A4_V\"><label class=\"_2iDkf8\"><input class=\"_30VH1S\" readonly=\"\" type=\"checkbox\"/><div class=\"_24_Dny\"></div></label></span><label class=\"_6Up2sF\"><span>Add to Compare</span></label></div></div><div class=\"_2hVSre _3nq8ih\"><div class=\"_36FSn5\"><svg class=\"_1l0elc\" height=\"16\" viewbox=\"0 0 20 16\" width=\"16\" xmlns=\"http://www.w3.org/2000/svg\"><path class=\"eX72wL\" d=\"M8.695 16.682C4.06 12.382 1 9.536 1 6.065 1 3.219 3.178 1 5.95 1c1.566 0 3.069.746 4.05 1.915C10.981 1.745 12.484 1 14.05 1 16.822 1 19 3.22 19 6.065c0 3.471-3.06 6.316-7.695 10.617L10 17.897l-1.305-1.215z\" fill=\"#2874F0\" fill-rule=\"evenodd\" opacity=\".9\" stroke=\"#FFF\"></path></svg></div></div></div><div class=\"_3pLy-c row\"><div class=\"col col-7-12\"><div class=\"_4rR01T\">vivo Y22 (Starlit Blue, 128 GB)</div><div class=\"gUuXy-\"><span class=\"_1lRcqv\" id=\"productRating_LSTMOBGHR2FEGEAMGPWVK6QZC_MOBGHR2FEGEAMGPW_\"><div class=\"_3LWZlK\">4.3<img class=\"_1wB99o\" src=\"data:image/svg+xml;base64,PHN2ZyB4bWxucz0iaHR0cDovL3d3dy53My5vcmcvMjAwMC9zdmciIHdpZHRoPSIxMyIgaGVpZ2h0PSIxMiI+PHBhdGggZmlsbD0iI0ZGRiIgZD0iTTYuNSA5LjQzOWwtMy42NzQgMi4yMy45NC00LjI2LTMuMjEtMi44ODMgNC4yNTQtLjQwNEw2LjUuMTEybDEuNjkgNC4wMSA0LjI1NC40MDQtMy4yMSAyLjg4Mi45NCA0LjI2eiIvPjwvc3ZnPg==\"/></div></span><span class=\"_2_R_DZ\"><span><span>902 Ratings </span><span class=\"_13vcmD\">&amp;</span><span> 52 Reviews</span></span></span></div><div class=\"fMghEO\"><ul class=\"_1xgFaf\"><li class=\"rgWa7D\">6 GB RAM | 128 GB ROM | Expandable Upto 1 TB</li><li class=\"rgWa7D\">16.64 cm (6.55 inch) HD+ Display</li><li class=\"rgWa7D\">50MP + 2MP | 8MP Front Camera</li><li class=\"rgWa7D\">5000 mAh Lithium Battery</li><li class=\"rgWa7D\">Mediatek Helio G70 Processor</li><li class=\"rgWa7D\">1 Year of Device &amp; 6 Months for In-Box Accessories</li></ul></div></div><div class=\"col col-5-12 nlI3QM\"><div class=\"_3tbKJL\"><div class=\"_25b18c\"><div class=\"_30jeq3 _1_WHN1\">₹16,439</div><div class=\"_3I9_wc _27UcVY\">₹<!-- -->19,999</div><div class=\"_3Ay6Sb\"><span>17% off</span></div></div><div class=\"_3tcB5a p8ucoS\"><div><div class=\"_2Tpdn3\" style=\"color:#000000;font-size:12px;font-weight:400\">Free delivery</div></div></div></div><div class=\"_2ZdXDB\"><div class=\"_3xFhiH\"><div class=\"_2Tpdn3 _18hQoS\" style=\"color:#26A541;font-size:14px;font-weight:700\">Bank Offer</div></div></div></div></div></a></div></div></div></div><div class=\"_1AtVbE col-12-12\"><div class=\"_13oc-S\"><div data-id=\"MOBGHY84RNYCBGWR\" style=\"width:100%\"><div class=\"_2kHMtA\"><a class=\"_1fQZEK\" href=\"/vivo-y35-agate-black-128-gb/p/itm5bbe7b46a948e?pid=MOBGHY84RNYCBGWR&amp;lid=LSTMOBGHY84RNYCBGWRFGKBLN&amp;marketplace=FLIPKART&amp;q=vivo+mobiles&amp;store=tyy%2F4io&amp;srno=s_1_23&amp;otracker=AS_QueryStore_OrganicAutoSuggest_1_4_na_na_ps&amp;otracker1=AS_QueryStore_OrganicAutoSuggest_1_4_na_na_ps&amp;fm=organic&amp;iid=319a49ba-7f45-4e90-9a01-5c3751077ba2.MOBGHY84RNYCBGWR.SEARCH&amp;ppt=None&amp;ppn=None&amp;ssid=6dlav2h1y80000001680339877683&amp;qH=278bf4990ddc16ab\" rel=\"noopener noreferrer\" target=\"_blank\"><div class=\"MIXNux\"><div class=\"_2QcLo-\"><div><div class=\"CXW8mj\" style=\"height:200px;width:200px\"><img alt=\"vivo Y35 (Agate Black, 128 GB)\" class=\"_396cs4\" loading=\"eager\" src=\"https://rukminim1.flixcart.com/image/312/312/xif0q/mobile/c/z/h/-original-imaghm9y8tceqxmx.jpeg?q=70\"/></div></div></div><div class=\"_3wLduG\"><div class=\"_3PzNI-\"><span class=\"f3A4_V\"><label class=\"_2iDkf8\"><input class=\"_30VH1S\" readonly=\"\" type=\"checkbox\"/><div class=\"_24_Dny\"></div></label></span><label class=\"_6Up2sF\"><span>Add to Compare</span></label></div></div><div class=\"_2hVSre _3nq8ih\"><div class=\"_36FSn5\"><svg class=\"_1l0elc\" height=\"16\" viewbox=\"0 0 20 16\" width=\"16\" xmlns=\"http://www.w3.org/2000/svg\"><path class=\"eX72wL\" d=\"M8.695 16.682C4.06 12.382 1 9.536 1 6.065 1 3.219 3.178 1 5.95 1c1.566 0 3.069.746 4.05 1.915C10.981 1.745 12.484 1 14.05 1 16.822 1 19 3.22 19 6.065c0 3.471-3.06 6.316-7.695 10.617L10 17.897l-1.305-1.215z\" fill=\"#2874F0\" fill-rule=\"evenodd\" opacity=\".9\" stroke=\"#FFF\"></path></svg></div></div></div><div class=\"_3pLy-c row\"><div class=\"col col-7-12\"><div class=\"_4rR01T\">vivo Y35 (Agate Black, 128 GB)</div><div class=\"gUuXy-\"><span class=\"_1lRcqv\" id=\"productRating_LSTMOBGHY84RNYCBGWRFGKBLN_MOBGHY84RNYCBGWR_\"><div class=\"_3LWZlK\">4.4<img class=\"_1wB99o\" src=\"data:image/svg+xml;base64,PHN2ZyB4bWxucz0iaHR0cDovL3d3dy53My5vcmcvMjAwMC9zdmciIHdpZHRoPSIxMyIgaGVpZ2h0PSIxMiI+PHBhdGggZmlsbD0iI0ZGRiIgZD0iTTYuNSA5LjQzOWwtMy42NzQgMi4yMy45NC00LjI2LTMuMjEtMi44ODMgNC4yNTQtLjQwNEw2LjUuMTEybDEuNjkgNC4wMSA0LjI1NC40MDQtMy4yMSAyLjg4Mi45NCA0LjI2eiIvPjwvc3ZnPg==\"/></div></span><span class=\"_2_R_DZ\"><span><span>2,119 Ratings </span><span class=\"_13vcmD\">&amp;</span><span> 143 Reviews</span></span></span></div><div class=\"fMghEO\"><ul class=\"_1xgFaf\"><li class=\"rgWa7D\">8 GB RAM | 128 GB ROM</li><li class=\"rgWa7D\">16.71 cm (6.58 inch) Full HD+ Display</li><li class=\"rgWa7D\">50MP + 2MP + 2MP | 16MP Front Camera</li><li class=\"rgWa7D\">5000 mAh Lithium Battery</li><li class=\"rgWa7D\">Qualcomm Snapdragon 680 Processor</li><li class=\"rgWa7D\">1 Year of Device &amp; 6 Months for In-Box Accessories</li></ul></div></div><div class=\"col col-5-12 nlI3QM\"><div class=\"_3tbKJL\"><div class=\"_25b18c\"><div class=\"_30jeq3 _1_WHN1\">₹17,499</div><div class=\"_3I9_wc _27UcVY\">₹<!-- -->22,999</div><div class=\"_3Ay6Sb\"><span>23% off</span></div></div><div class=\"_3tcB5a p8ucoS\"><div><div class=\"_2Tpdn3\" style=\"color:#000000;font-size:12px;font-weight:400\">Free delivery</div></div></div></div><div class=\"_13J9qT\"><img height=\"21\" src=\"//static-assets-web.flixcart.com/fk-p-linchpin-web/fk-cp-zion/img/fa_62673a.png\"/></div><div class=\"_2ZdXDB\"><div class=\"_3xFhiH\"><div class=\"_2Tpdn3 _18hQoS\" style=\"color:#26A541;font-size:12px;font-weight:700\">Lowest price since launch</div></div></div><div class=\"_2ZdXDB\"><div class=\"_3xFhiH\"><div class=\"_2Tpdn3 _18hQoS\" style=\"color:#000000;font-size:14px;font-style:normal;font-weight:400\">Upto </div><div class=\"_2Tpdn3 _18hQoS\" style=\"color:#000000;font-size:14px;font-style:normal;font-weight:700\">₹16,900</div><div class=\"_2Tpdn3 _18hQoS\" style=\"color:#000000;font-size:14px;font-style:normal;font-weight:400\"> Off on Exchange</div></div></div></div></div></a></div></div></div></div><div class=\"_1AtVbE col-12-12\"><div class=\"_13oc-S\"><div data-id=\"MOBGHV2FBHPEBYMC\" style=\"width:100%\"><div class=\"_2kHMtA\"><a class=\"_1fQZEK\" href=\"/vivo-y16-steller-black-64-gb/p/itm72f3a9786718b?pid=MOBGHV2FBHPEBYMC&amp;lid=LSTMOBGHV2FBHPEBYMCYXCHHM&amp;marketplace=FLIPKART&amp;q=vivo+mobiles&amp;store=tyy%2F4io&amp;srno=s_1_24&amp;otracker=AS_QueryStore_OrganicAutoSuggest_1_4_na_na_ps&amp;otracker1=AS_QueryStore_OrganicAutoSuggest_1_4_na_na_ps&amp;fm=organic&amp;iid=319a49ba-7f45-4e90-9a01-5c3751077ba2.MOBGHV2FBHPEBYMC.SEARCH&amp;ppt=None&amp;ppn=None&amp;ssid=6dlav2h1y80000001680339877683&amp;qH=278bf4990ddc16ab\" rel=\"noopener noreferrer\" target=\"_blank\"><div class=\"MIXNux\"><div class=\"_2QcLo-\"><div><div class=\"CXW8mj\" style=\"height:200px;width:200px\"><img alt=\"vivo Y16 (Steller Black, 64 GB)\" class=\"_396cs4\" loading=\"eager\" src=\"https://rukminim1.flixcart.com/image/312/312/xif0q/mobile/j/v/z/-original-imaggcerjgnshnyw.jpeg?q=70\"/></div></div></div><div class=\"_3wLduG\"><div class=\"_3PzNI-\"><span class=\"f3A4_V\"><label class=\"_2iDkf8\"><input class=\"_30VH1S\" readonly=\"\" type=\"checkbox\"/><div class=\"_24_Dny\"></div></label></span><label class=\"_6Up2sF\"><span>Add to Compare</span></label></div></div><div class=\"_2hVSre _3nq8ih\"><div class=\"_36FSn5\"><svg class=\"_1l0elc\" height=\"16\" viewbox=\"0 0 20 16\" width=\"16\" xmlns=\"http://www.w3.org/2000/svg\"><path class=\"eX72wL\" d=\"M8.695 16.682C4.06 12.382 1 9.536 1 6.065 1 3.219 3.178 1 5.95 1c1.566 0 3.069.746 4.05 1.915C10.981 1.745 12.484 1 14.05 1 16.822 1 19 3.22 19 6.065c0 3.471-3.06 6.316-7.695 10.617L10 17.897l-1.305-1.215z\" fill=\"#2874F0\" fill-rule=\"evenodd\" opacity=\".9\" stroke=\"#FFF\"></path></svg></div></div></div><div class=\"_3pLy-c row\"><div class=\"col col-7-12\"><div class=\"_4rR01T\">vivo Y16 (Steller Black, 64 GB)</div><div class=\"gUuXy-\"><span class=\"_1lRcqv\" id=\"productRating_LSTMOBGHV2FBHPEBYMCYXCHHM_MOBGHV2FBHPEBYMC_\"><div class=\"_3LWZlK\">4.4<img class=\"_1wB99o\" src=\"data:image/svg+xml;base64,PHN2ZyB4bWxucz0iaHR0cDovL3d3dy53My5vcmcvMjAwMC9zdmciIHdpZHRoPSIxMyIgaGVpZ2h0PSIxMiI+PHBhdGggZmlsbD0iI0ZGRiIgZD0iTTYuNSA5LjQzOWwtMy42NzQgMi4yMy45NC00LjI2LTMuMjEtMi44ODMgNC4yNTQtLjQwNEw2LjUuMTEybDEuNjkgNC4wMSA0LjI1NC40MDQtMy4yMSAyLjg4Mi45NCA0LjI2eiIvPjwvc3ZnPg==\"/></div></span><span class=\"_2_R_DZ\"><span><span>1,465 Ratings </span><span class=\"_13vcmD\">&amp;</span><span> 89 Reviews</span></span></span></div><div class=\"fMghEO\"><ul class=\"_1xgFaf\"><li class=\"rgWa7D\">4 GB RAM | 64 GB ROM | Expandable Upto 1 TB</li><li class=\"rgWa7D\">16.54 cm (6.51 inch) HD+ Display</li><li class=\"rgWa7D\">13MP + 2MP | 5MP Front Camera</li><li class=\"rgWa7D\">5000 mAh Lithium Battery</li><li class=\"rgWa7D\">Mediatek Helio P35 Processor</li><li class=\"rgWa7D\">1 Year of Device &amp; 6 Months for In-Box Accessories</li></ul></div></div><div class=\"col col-5-12 nlI3QM\"><div class=\"_3tbKJL\"><div class=\"_25b18c\"><div class=\"_30jeq3 _1_WHN1\">₹12,499</div><div class=\"_3I9_wc _27UcVY\">₹<!-- -->15,999</div><div class=\"_3Ay6Sb\"><span>21% off</span></div></div><div class=\"_3tcB5a p8ucoS\"><div><div class=\"_2Tpdn3\" style=\"color:#000000;font-size:12px;font-weight:400\">Free delivery</div></div></div></div><div class=\"_13J9qT\"><img height=\"21\" src=\"//static-assets-web.flixcart.com/fk-p-linchpin-web/fk-cp-zion/img/fa_62673a.png\"/></div><div class=\"_2ZdXDB\"><div class=\"_3xFhiH\"><div class=\"_2Tpdn3 _18hQoS\" style=\"color:#000000;font-size:14px;font-style:normal;font-weight:400\">Upto </div><div class=\"_2Tpdn3 _18hQoS\" style=\"color:#000000;font-size:14px;font-style:normal;font-weight:700\">₹11,950</div><div class=\"_2Tpdn3 _18hQoS\" style=\"color:#000000;font-size:14px;font-style:normal;font-weight:400\"> Off on Exchange</div></div></div><div class=\"_2ZdXDB\"><div class=\"_3xFhiH\"><div class=\"_2Tpdn3 _18hQoS\" style=\"color:#26A541;font-size:14px;font-weight:700\">Bank Offer</div></div></div></div></div></a></div></div></div></div><div class=\"_1AtVbE col-12-12\"><div><div class=\"_2MImiq\"><span>Page 1 of 11</span><nav class=\"yFHi8N\"><a class=\"ge-49M _2Kfbh8\" href=\"/search?q=vivo+mobiles&amp;sid=tyy%2C4io&amp;as=on&amp;as-show=on&amp;otracker=AS_QueryStore_OrganicAutoSuggest_1_4_na_na_ps&amp;otracker1=AS_QueryStore_OrganicAutoSuggest_1_4_na_na_ps&amp;as-pos=1&amp;as-type=RECENT&amp;suggestionId=vivo+mobiles%7CMobiles&amp;requestId=abb322f7-d18e-40a4-8aaa-efa3ad290d31&amp;as-searchtext=vivo&amp;page=1\">1</a><a class=\"ge-49M\" href=\"/search?q=vivo+mobiles&amp;sid=tyy%2C4io&amp;as=on&amp;as-show=on&amp;otracker=AS_QueryStore_OrganicAutoSuggest_1_4_na_na_ps&amp;otracker1=AS_QueryStore_OrganicAutoSuggest_1_4_na_na_ps&amp;as-pos=1&amp;as-type=RECENT&amp;suggestionId=vivo+mobiles%7CMobiles&amp;requestId=abb322f7-d18e-40a4-8aaa-efa3ad290d31&amp;as-searchtext=vivo&amp;page=2\">2</a><a class=\"ge-49M\" href=\"/search?q=vivo+mobiles&amp;sid=tyy%2C4io&amp;as=on&amp;as-show=on&amp;otracker=AS_QueryStore_OrganicAutoSuggest_1_4_na_na_ps&amp;otracker1=AS_QueryStore_OrganicAutoSuggest_1_4_na_na_ps&amp;as-pos=1&amp;as-type=RECENT&amp;suggestionId=vivo+mobiles%7CMobiles&amp;requestId=abb322f7-d18e-40a4-8aaa-efa3ad290d31&amp;as-searchtext=vivo&amp;page=3\">3</a><a class=\"ge-49M\" href=\"/search?q=vivo+mobiles&amp;sid=tyy%2C4io&amp;as=on&amp;as-show=on&amp;otracker=AS_QueryStore_OrganicAutoSuggest_1_4_na_na_ps&amp;otracker1=AS_QueryStore_OrganicAutoSuggest_1_4_na_na_ps&amp;as-pos=1&amp;as-type=RECENT&amp;suggestionId=vivo+mobiles%7CMobiles&amp;requestId=abb322f7-d18e-40a4-8aaa-efa3ad290d31&amp;as-searchtext=vivo&amp;page=4\">4</a><a class=\"ge-49M\" href=\"/search?q=vivo+mobiles&amp;sid=tyy%2C4io&amp;as=on&amp;as-show=on&amp;otracker=AS_QueryStore_OrganicAutoSuggest_1_4_na_na_ps&amp;otracker1=AS_QueryStore_OrganicAutoSuggest_1_4_na_na_ps&amp;as-pos=1&amp;as-type=RECENT&amp;suggestionId=vivo+mobiles%7CMobiles&amp;requestId=abb322f7-d18e-40a4-8aaa-efa3ad290d31&amp;as-searchtext=vivo&amp;page=5\">5</a><a class=\"ge-49M\" href=\"/search?q=vivo+mobiles&amp;sid=tyy%2C4io&amp;as=on&amp;as-show=on&amp;otracker=AS_QueryStore_OrganicAutoSuggest_1_4_na_na_ps&amp;otracker1=AS_QueryStore_OrganicAutoSuggest_1_4_na_na_ps&amp;as-pos=1&amp;as-type=RECENT&amp;suggestionId=vivo+mobiles%7CMobiles&amp;requestId=abb322f7-d18e-40a4-8aaa-efa3ad290d31&amp;as-searchtext=vivo&amp;page=6\">6</a><a class=\"ge-49M\" href=\"/search?q=vivo+mobiles&amp;sid=tyy%2C4io&amp;as=on&amp;as-show=on&amp;otracker=AS_QueryStore_OrganicAutoSuggest_1_4_na_na_ps&amp;otracker1=AS_QueryStore_OrganicAutoSuggest_1_4_na_na_ps&amp;as-pos=1&amp;as-type=RECENT&amp;suggestionId=vivo+mobiles%7CMobiles&amp;requestId=abb322f7-d18e-40a4-8aaa-efa3ad290d31&amp;as-searchtext=vivo&amp;page=7\">7</a><a class=\"ge-49M\" href=\"/search?q=vivo+mobiles&amp;sid=tyy%2C4io&amp;as=on&amp;as-show=on&amp;otracker=AS_QueryStore_OrganicAutoSuggest_1_4_na_na_ps&amp;otracker1=AS_QueryStore_OrganicAutoSuggest_1_4_na_na_ps&amp;as-pos=1&amp;as-type=RECENT&amp;suggestionId=vivo+mobiles%7CMobiles&amp;requestId=abb322f7-d18e-40a4-8aaa-efa3ad290d31&amp;as-searchtext=vivo&amp;page=8\">8</a><a class=\"ge-49M\" href=\"/search?q=vivo+mobiles&amp;sid=tyy%2C4io&amp;as=on&amp;as-show=on&amp;otracker=AS_QueryStore_OrganicAutoSuggest_1_4_na_na_ps&amp;otracker1=AS_QueryStore_OrganicAutoSuggest_1_4_na_na_ps&amp;as-pos=1&amp;as-type=RECENT&amp;suggestionId=vivo+mobiles%7CMobiles&amp;requestId=abb322f7-d18e-40a4-8aaa-efa3ad290d31&amp;as-searchtext=vivo&amp;page=9\">9</a><a class=\"ge-49M\" href=\"/search?q=vivo+mobiles&amp;sid=tyy%2C4io&amp;as=on&amp;as-show=on&amp;otracker=AS_QueryStore_OrganicAutoSuggest_1_4_na_na_ps&amp;otracker1=AS_QueryStore_OrganicAutoSuggest_1_4_na_na_ps&amp;as-pos=1&amp;as-type=RECENT&amp;suggestionId=vivo+mobiles%7CMobiles&amp;requestId=abb322f7-d18e-40a4-8aaa-efa3ad290d31&amp;as-searchtext=vivo&amp;page=10\">10</a><a class=\"_1LKTO3\" href=\"/search?q=vivo+mobiles&amp;sid=tyy%2C4io&amp;as=on&amp;as-show=on&amp;otracker=AS_QueryStore_OrganicAutoSuggest_1_4_na_na_ps&amp;otracker1=AS_QueryStore_OrganicAutoSuggest_1_4_na_na_ps&amp;as-pos=1&amp;as-type=RECENT&amp;suggestionId=vivo+mobiles%7CMobiles&amp;requestId=abb322f7-d18e-40a4-8aaa-efa3ad290d31&amp;as-searchtext=vivo&amp;page=2\"><span>Next</span></a></nav><span class=\"_22Tduf\"></span></div></div></div><div class=\"_1AtVbE col-12-12\" style=\"margin:10px 0px 0px 0px\"><div class=\"_1anD2T\"><span class=\"PTpXCl\">Did you find what you were looking for?</span><div class=\"_1ye8x2 _1xLf4B\"><span class=\"_2eFmU2 _3ZMjMT\">Yes</span><span class=\"_2eFmU2 _3ZMjMT\">No</span></div></div></div></div></div><div class=\"_1AtVbE col-12-12\" style=\"padding:16px 0px 0px 0px\"><div class=\"_3E8aIl X3IECw row\"><div class=\"_88-NUv\">Reviews for Popular Mobiles</div><div class=\"_2nRPpA\"><div class=\"_1Ni40J\"><div class=\"_3hVUcF\"><div class=\"CXW8mj\" style=\"height:150px;width:150px\"><img alt=\"vivo Y33s (Mirror Black, 128 GB)\" class=\"_396cs4\" loading=\"lazy\" src=\"https://rukminim1.flixcart.com/image/300/300/ksm49e80/mobile/y/6/g/y33s-v2109-vivo-original-imag65dv7hfk6pqy.jpeg?q=90\"/></div></div><div class=\"_1kLt05\"><a href=\"/vivo-y33s-mirror-black-128-gb/p/itm4121bc2b6ca4a?pid=MOBG5Y8CGTMKZFV6&amp;marketplace=FLIPKART\" rel=\"noopener noreferrer\" target=\"_blank\"><div class=\"_1W9f5C\"><div>1. vivo Y33s (Mirror Black, 12...</div></div><div class=\"_3VDxyD\"><div class=\"_3LWZlK\">4.3<img class=\"_1wB99o\" src=\"data:image/svg+xml;base64,PHN2ZyB4bWxucz0iaHR0cDovL3d3dy53My5vcmcvMjAwMC9zdmciIHdpZHRoPSIxMyIgaGVpZ2h0PSIxMiI+PHBhdGggZmlsbD0iI0ZGRiIgZD0iTTYuNSA5LjQzOWwtMy42NzQgMi4yMy45NC00LjI2LTMuMjEtMi44ODMgNC4yNTQtLjQwNEw2LjUuMTEybDEuNjkgNC4wMSA0LjI1NC40MDQtMy4yMSAyLjg4Mi45NCA0LjI2eiIvPjwvc3ZnPg==\"/></div><span class=\"_34hpFu\"><span>12,338 Ratings</span><span><span class=\"_2oY1qB\">&amp;</span><span>1,115 Reviews</span></span></span></div><div class=\"_2wYYVP\"><div class=\"_25b18c\"><div class=\"_30jeq3 UMT9wN\">₹15,890</div><div class=\"_3Ay6Sb _2FuKQX\"><span>27% off</span></div></div></div></a><ul class=\"_1Sq2Fs\"><li class=\"_2OosNL\">8 GB RAM | 128 GB ROM | Expandable Upto 1 TB</li><li class=\"_2OosNL\">16.71 cm (6.58 inch) Full HD+ Display</li><li class=\"_2OosNL\">50MP + 2MP + 2MP | 16MP Front Camera</li></ul></div></div><div class=\"_2tzWk4\"><div class=\"_1A_Aux\">Most Helpful Review</div><div class=\"col\"><div class=\"col _2wzgFH _2cVXgz\"><div class=\"row\"><div class=\"_3LWZlK _1BLPMq\">5<img class=\"_1wB99o\" src=\"data:image/svg+xml;base64,PHN2ZyB4bWxucz0iaHR0cDovL3d3dy53My5vcmcvMjAwMC9zdmciIHdpZHRoPSIxMyIgaGVpZ2h0PSIxMiI+PHBhdGggZmlsbD0iI0ZGRiIgZD0iTTYuNSA5LjQzOWwtMy42NzQgMi4yMy45NC00LjI2LTMuMjEtMi44ODMgNC4yNTQtLjQwNEw2LjUuMTEybDEuNjkgNC4wMSA0LjI1NC40MDQtMy4yMSAyLjg4Mi45NCA0LjI2eiIvPjwvc3ZnPg==\"/></div><p class=\"_2-N8zT\">Wonderful</p></div><div class=\"row\"><div class=\"t-ZTKy\"><div><div class=\"\">Nice phone camera very good battery are good also good performance</div><span class=\"_1H-bmy\"><span>Read full review</span></span></div></div></div><div class=\"row _3n8db9\"><div class=\"row\"><p class=\"_2sc7ZR _2V5EHH\">Narender  BLODHI </p><svg class=\"_2a1p_T\" height=\"14\" viewbox=\"0 0 12 12\" width=\"14\" xmlns=\"http://www.w3.org/2000/svg\"><g><circle cx=\"6\" cy=\"6\" fill=\"#878787\" r=\"6\"></circle><path d=\"M3 6l2 2 4-4\" fill=\"#878787\" stroke=\"#FFF\" stroke-width=\"1.5\"></path></g></svg><p class=\"_2mcZGG\" id=\"review-b62a5cee-f4d6-4125-a535-2d6b755dda51\"><span>Certified Buyer</span></p><p class=\"_2sc7ZR\">Sep, 2021</p></div></div></div></div></div><div class=\"_2tzWk4\"><div class=\"_1A_Aux\">Recent Review</div><div class=\"col\"><div class=\"col _2wzgFH _2cVXgz\"><div class=\"row\"><div class=\"_3LWZlK _1BLPMq\">4<img class=\"_1wB99o\" src=\"data:image/svg+xml;base64,PHN2ZyB4bWxucz0iaHR0cDovL3d3dy53My5vcmcvMjAwMC9zdmciIHdpZHRoPSIxMyIgaGVpZ2h0PSIxMiI+PHBhdGggZmlsbD0iI0ZGRiIgZD0iTTYuNSA5LjQzOWwtMy42NzQgMi4yMy45NC00LjI2LTMuMjEtMi44ODMgNC4yNTQtLjQwNEw2LjUuMTEybDEuNjkgNC4wMSA0LjI1NC40MDQtMy4yMSAyLjg4Mi45NCA0LjI2eiIvPjwvc3ZnPg==\"/></div><p class=\"_2-N8zT\">Very Good</p></div><div class=\"row\"><div class=\"t-ZTKy\"><div><div class=\"\">Amazing.....phone..<br/><br/> Love it🙆🏻💜😇.</div><span class=\"_1H-bmy\"><span>Read full review</span></span></div></div></div><div class=\"row _3n8db9\"><div class=\"row\"><p class=\"_2sc7ZR _2V5EHH\"></p><svg class=\"_2a1p_T\" height=\"14\" viewbox=\"0 0 12 12\" width=\"14\" xmlns=\"http://www.w3.org/2000/svg\"><g><circle cx=\"6\" cy=\"6\" fill=\"#878787\" r=\"6\"></circle><path d=\"M3 6l2 2 4-4\" fill=\"#878787\" stroke=\"#FFF\" stroke-width=\"1.5\"></path></g></svg><p class=\"_2mcZGG\" id=\"review-aebd1af7-02e1-4be1-95af-cd068490d99e\"><span>Certified Buyer</span></p><p class=\"_2sc7ZR\">7 days ago</p></div></div></div></div></div></div><div class=\"_2nRPpA\"><div class=\"_1Ni40J\"><div class=\"_3hVUcF\"><div class=\"CXW8mj\" style=\"height:150px;width:150px\"><img alt=\"vivo Y16 (Steller Black, 64 GB)\" class=\"_396cs4\" loading=\"lazy\" src=\"https://rukminim1.flixcart.com/image/300/300/xif0q/mobile/j/v/z/-original-imaggcerjgnshnyw.jpeg?q=90\"/></div></div><div class=\"_1kLt05\"><a href=\"/vivo-y16-steller-black-64-gb/p/itm72f3a9786718b?pid=MOBGHV2FBHPEBYMC&amp;marketplace=FLIPKART\" rel=\"noopener noreferrer\" target=\"_blank\"><div class=\"_1W9f5C\"><div>2. vivo Y16 (Steller Black, 64...</div></div><div class=\"_3VDxyD\"><div class=\"_3LWZlK\">4.4<img class=\"_1wB99o\" src=\"data:image/svg+xml;base64,PHN2ZyB4bWxucz0iaHR0cDovL3d3dy53My5vcmcvMjAwMC9zdmciIHdpZHRoPSIxMyIgaGVpZ2h0PSIxMiI+PHBhdGggZmlsbD0iI0ZGRiIgZD0iTTYuNSA5LjQzOWwtMy42NzQgMi4yMy45NC00LjI2LTMuMjEtMi44ODMgNC4yNTQtLjQwNEw2LjUuMTEybDEuNjkgNC4wMSA0LjI1NC40MDQtMy4yMSAyLjg4Mi45NCA0LjI2eiIvPjwvc3ZnPg==\"/></div><span class=\"_34hpFu\"><span>1,465 Ratings</span><span><span class=\"_2oY1qB\">&amp;</span><span>89 Reviews</span></span></span></div><div class=\"_2wYYVP\"><div class=\"_25b18c\"><div class=\"_30jeq3 UMT9wN\">₹12,499</div><div class=\"_3Ay6Sb _2FuKQX\"><span>21% off</span></div></div></div></a><ul class=\"_1Sq2Fs\"><li class=\"_2OosNL\">4 GB RAM | 64 GB ROM | Expandable Upto 1 TB</li><li class=\"_2OosNL\">16.54 cm (6.51 inch) HD+ Display</li><li class=\"_2OosNL\">13MP + 2MP | 5MP Front Camera</li></ul></div></div><div class=\"_2tzWk4\"><div class=\"_1A_Aux\">Most Helpful Review</div><div class=\"col\"><div class=\"col _2wzgFH _2cVXgz\"><div class=\"row\"><div class=\"_3LWZlK _1BLPMq\">5<img class=\"_1wB99o\" src=\"data:image/svg+xml;base64,PHN2ZyB4bWxucz0iaHR0cDovL3d3dy53My5vcmcvMjAwMC9zdmciIHdpZHRoPSIxMyIgaGVpZ2h0PSIxMiI+PHBhdGggZmlsbD0iI0ZGRiIgZD0iTTYuNSA5LjQzOWwtMy42NzQgMi4yMy45NC00LjI2LTMuMjEtMi44ODMgNC4yNTQtLjQwNEw2LjUuMTEybDEuNjkgNC4wMSA0LjI1NC40MDQtMy4yMSAyLjg4Mi45NCA0LjI2eiIvPjwvc3ZnPg==\"/></div><p class=\"_2-N8zT\">Great product</p></div><div class=\"row\"><div class=\"t-ZTKy\"><div><div class=\"\">According a price to Gud phone ☺️</div><span class=\"_1H-bmy\"><span>Read full review</span></span></div></div></div><div class=\"row _3n8db9\"><div class=\"row\"><p class=\"_2sc7ZR _2V5EHH\">Flipkart Customer</p><svg class=\"_2a1p_T\" height=\"14\" viewbox=\"0 0 12 12\" width=\"14\" xmlns=\"http://www.w3.org/2000/svg\"><g><circle cx=\"6\" cy=\"6\" fill=\"#878787\" r=\"6\"></circle><path d=\"M3 6l2 2 4-4\" fill=\"#878787\" stroke=\"#FFF\" stroke-width=\"1.5\"></path></g></svg><p class=\"_2mcZGG\" id=\"review-b29b1b8c-ebbf-4ac5-b3c3-de57a5f6319c\"><span>Certified Buyer</span></p><p class=\"_2sc7ZR\">5 months ago</p></div></div></div></div></div><div class=\"_2tzWk4\"><div class=\"_1A_Aux\">Recent Review</div><div class=\"col\"><div class=\"col _2wzgFH _2cVXgz\"><div class=\"row\"><div class=\"_3LWZlK _1BLPMq\">5<img class=\"_1wB99o\" src=\"data:image/svg+xml;base64,PHN2ZyB4bWxucz0iaHR0cDovL3d3dy53My5vcmcvMjAwMC9zdmciIHdpZHRoPSIxMyIgaGVpZ2h0PSIxMiI+PHBhdGggZmlsbD0iI0ZGRiIgZD0iTTYuNSA5LjQzOWwtMy42NzQgMi4yMy45NC00LjI2LTMuMjEtMi44ODMgNC4yNTQtLjQwNEw2LjUuMTEybDEuNjkgNC4wMSA0LjI1NC40MDQtMy4yMSAyLjg4Mi45NCA0LjI2eiIvPjwvc3ZnPg==\"/></div><p class=\"_2-N8zT\">Worth every penny</p></div><div class=\"row\"><div class=\"t-ZTKy\"><div><div class=\"\">The product is very good to use.</div><span class=\"_1H-bmy\"><span>Read full review</span></span></div></div></div><div class=\"row _3n8db9\"><div class=\"row\"><p class=\"_2sc7ZR _2V5EHH\">Flipkart Customer</p><svg class=\"_2a1p_T\" height=\"14\" viewbox=\"0 0 12 12\" width=\"14\" xmlns=\"http://www.w3.org/2000/svg\"><g><circle cx=\"6\" cy=\"6\" fill=\"#878787\" r=\"6\"></circle><path d=\"M3 6l2 2 4-4\" fill=\"#878787\" stroke=\"#FFF\" stroke-width=\"1.5\"></path></g></svg><p class=\"_2mcZGG\" id=\"review-f2b0aaab-92e2-45ad-863e-74b97a491ab7\"><span>Certified Buyer</span></p><p class=\"_2sc7ZR\">14 days ago</p></div></div></div></div></div></div><div class=\"_2nRPpA\"><div class=\"_1Ni40J\"><div class=\"_3hVUcF\"><div class=\"CXW8mj\" style=\"height:150px;width:150px\"><img alt=\"vivo T1 44W (Midnight Galaxy, 128 GB)\" class=\"_396cs4\" loading=\"lazy\" src=\"https://rukminim1.flixcart.com/image/300/300/l2p23rk0/mobile/x/b/y/-original-imagdznhnzmzfbwx.jpeg?q=90\"/></div></div><div class=\"_1kLt05\"><a href=\"/vivo-t1-44w-midnight-galaxy-128-gb/p/itm2a08ebbea3689?pid=MOBGDRHVZN29ZJF4&amp;marketplace=FLIPKART\" rel=\"noopener noreferrer\" target=\"_blank\"><div class=\"_1W9f5C\"><div>3. vivo T1 44W (Midnight Galax...</div></div><div class=\"_3VDxyD\"><div class=\"_3LWZlK\">4.5<img class=\"_1wB99o\" src=\"data:image/svg+xml;base64,PHN2ZyB4bWxucz0iaHR0cDovL3d3dy53My5vcmcvMjAwMC9zdmciIHdpZHRoPSIxMyIgaGVpZ2h0PSIxMiI+PHBhdGggZmlsbD0iI0ZGRiIgZD0iTTYuNSA5LjQzOWwtMy42NzQgMi4yMy45NC00LjI2LTMuMjEtMi44ODMgNC4yNTQtLjQwNEw2LjUuMTEybDEuNjkgNC4wMSA0LjI1NC40MDQtMy4yMSAyLjg4Mi45NCA0LjI2eiIvPjwvc3ZnPg==\"/></div><span class=\"_34hpFu\"><span>97,326 Ratings</span><span><span class=\"_2oY1qB\">&amp;</span><span>6,494 Reviews</span></span></span></div><div class=\"_2wYYVP\"><div class=\"_25b18c\"><div class=\"_30jeq3 UMT9wN\">₹14,499</div><div class=\"_3Ay6Sb _2FuKQX\"><span>27% off</span></div></div></div></a><ul class=\"_1Sq2Fs\"><li class=\"_2OosNL\">4 GB RAM | 128 GB ROM | Expandable Upto 1 TB</li><li class=\"_2OosNL\">16.36 cm (6.44 inch) Full HD+ AMOLED Display</li><li class=\"_2OosNL\">50MP + 2MP + 2MP | 16MP Front Camera</li></ul></div></div><div class=\"_2tzWk4\"><div class=\"_1A_Aux\">Most Helpful Review</div><div class=\"col\"><div class=\"col _2wzgFH _2cVXgz\"><div class=\"row\"><div class=\"_3LWZlK _1BLPMq\">5<img class=\"_1wB99o\" src=\"data:image/svg+xml;base64,PHN2ZyB4bWxucz0iaHR0cDovL3d3dy53My5vcmcvMjAwMC9zdmciIHdpZHRoPSIxMyIgaGVpZ2h0PSIxMiI+PHBhdGggZmlsbD0iI0ZGRiIgZD0iTTYuNSA5LjQzOWwtMy42NzQgMi4yMy45NC00LjI2LTMuMjEtMi44ODMgNC4yNTQtLjQwNEw2LjUuMTEybDEuNjkgNC4wMSA0LjI1NC40MDQtMy4yMSAyLjg4Mi45NCA0LjI2eiIvPjwvc3ZnPg==\"/></div><p class=\"_2-N8zT\">Simply awesome</p></div><div class=\"row\"><div class=\"t-ZTKy\"><div><div class=\"\">Phone is a so best price<br/>And a good quality camera and then budget friendly mobile also is best back design looking so awesome</div><span class=\"_1H-bmy\"><span>Read full review</span></span></div></div></div><div class=\"row _3n8db9\"><div class=\"row\"><p class=\"_2sc7ZR _2V5EHH\">Rajesh Sethi</p><svg class=\"_2a1p_T\" height=\"14\" viewbox=\"0 0 12 12\" width=\"14\" xmlns=\"http://www.w3.org/2000/svg\"><g><circle cx=\"6\" cy=\"6\" fill=\"#878787\" r=\"6\"></circle><path d=\"M3 6l2 2 4-4\" fill=\"#878787\" stroke=\"#FFF\" stroke-width=\"1.5\"></path></g></svg><p class=\"_2mcZGG\" id=\"review-7ca3f1f3-0e25-48e6-b453-d25494f5556e\"><span>Certified Buyer</span></p><p class=\"_2sc7ZR\">8 months ago</p></div></div></div></div></div><div class=\"_2tzWk4\"><div class=\"_1A_Aux\">Recent Review</div><div class=\"col\"><div class=\"col _2wzgFH _2cVXgz\"><div class=\"row\"><div class=\"_3LWZlK _1rdVr6 _1BLPMq\">1<img class=\"_1wB99o\" src=\"data:image/svg+xml;base64,PHN2ZyB4bWxucz0iaHR0cDovL3d3dy53My5vcmcvMjAwMC9zdmciIHdpZHRoPSIxMyIgaGVpZ2h0PSIxMiI+PHBhdGggZmlsbD0iI0ZGRiIgZD0iTTYuNSA5LjQzOWwtMy42NzQgMi4yMy45NC00LjI2LTMuMjEtMi44ODMgNC4yNTQtLjQwNEw2LjUuMTEybDEuNjkgNC4wMSA0LjI1NC40MDQtMy4yMSAyLjg4Mi45NCA0LjI2eiIvPjwvc3ZnPg==\"/></div><p class=\"_2-N8zT\">Waste of money!</p></div><div class=\"row\"><div class=\"t-ZTKy\"><div><div class=\"\">Slow perfhorm speaker woice very bad</div><span class=\"_1H-bmy\"><span>Read full review</span></span></div></div></div><div class=\"row _3n8db9\"><div class=\"row\"><p class=\"_2sc7ZR _2V5EHH\">Flipkart Customer</p><svg class=\"_2a1p_T\" height=\"14\" viewbox=\"0 0 12 12\" width=\"14\" xmlns=\"http://www.w3.org/2000/svg\"><g><circle cx=\"6\" cy=\"6\" fill=\"#878787\" r=\"6\"></circle><path d=\"M3 6l2 2 4-4\" fill=\"#878787\" stroke=\"#FFF\" stroke-width=\"1.5\"></path></g></svg><p class=\"_2mcZGG\" id=\"review-8390cd88-984f-4798-be5f-ceee52230464\"><span>Certified Buyer</span></p><p class=\"_2sc7ZR\">5 days ago</p></div></div></div></div></div></div><div class=\"_2nRPpA\"><div class=\"_1Ni40J\"><div class=\"_3hVUcF\"><div class=\"CXW8mj\" style=\"height:150px;width:150px\"><img alt=\"vivo Y56 5G (Black Engine, 128 GB)\" class=\"_396cs4\" loading=\"lazy\" src=\"https://rukminim1.flixcart.com/image/300/300/xif0q/mobile/m/k/a/-original-imagnyx8tfvzan3k.jpeg?q=90\"/></div></div><div class=\"_1kLt05\"><a href=\"/vivo-y56-5g-black-engine-128-gb/p/itmc736a6b61db7b?pid=MOBGMR8HZXDMFUGS&amp;marketplace=FLIPKART\" rel=\"noopener noreferrer\" target=\"_blank\"><div class=\"_1W9f5C\"><div>4. vivo Y56 5G (Black Engine, ...</div></div><div class=\"_3VDxyD\"><div class=\"_3LWZlK\">4.4<img class=\"_1wB99o\" src=\"data:image/svg+xml;base64,PHN2ZyB4bWxucz0iaHR0cDovL3d3dy53My5vcmcvMjAwMC9zdmciIHdpZHRoPSIxMyIgaGVpZ2h0PSIxMiI+PHBhdGggZmlsbD0iI0ZGRiIgZD0iTTYuNSA5LjQzOWwtMy42NzQgMi4yMy45NC00LjI2LTMuMjEtMi44ODMgNC4yNTQtLjQwNEw2LjUuMTEybDEuNjkgNC4wMSA0LjI1NC40MDQtMy4yMSAyLjg4Mi45NCA0LjI2eiIvPjwvc3ZnPg==\"/></div><span class=\"_34hpFu\"><span>288 Ratings</span><span><span class=\"_2oY1qB\">&amp;</span><span>12 Reviews</span></span></span></div><div class=\"_2wYYVP\"><div class=\"_25b18c\"><div class=\"_30jeq3 UMT9wN\">₹19,999</div><div class=\"_3Ay6Sb _2FuKQX\"><span>20% off</span></div></div></div></a><ul class=\"_1Sq2Fs\"><li class=\"_2OosNL\">8 GB RAM | 128 GB ROM</li><li class=\"_2OosNL\">16.71 cm (6.58 inch) Full HD+ Display</li><li class=\"_2OosNL\">50MP + 2MP | 16MP Front Camera</li></ul></div></div><div class=\"_2tzWk4\"><div class=\"_1A_Aux\">Most Helpful Review</div><div class=\"col\"><div class=\"col _2wzgFH _2cVXgz\"><div class=\"row\"><div class=\"_3LWZlK _1BLPMq\">5<img class=\"_1wB99o\" src=\"data:image/svg+xml;base64,PHN2ZyB4bWxucz0iaHR0cDovL3d3dy53My5vcmcvMjAwMC9zdmciIHdpZHRoPSIxMyIgaGVpZ2h0PSIxMiI+PHBhdGggZmlsbD0iI0ZGRiIgZD0iTTYuNSA5LjQzOWwtMy42NzQgMi4yMy45NC00LjI2LTMuMjEtMi44ODMgNC4yNTQtLjQwNEw2LjUuMTEybDEuNjkgNC4wMSA0LjI1NC40MDQtMy4yMSAyLjg4Mi45NCA0LjI2eiIvPjwvc3ZnPg==\"/></div><p class=\"_2-N8zT\">Just wow!</p></div><div class=\"row\"><div class=\"t-ZTKy\"><div><div class=\"\">Best mobile buy from Flipkart....<br/>Thanks to Flipkart</div><span class=\"_1H-bmy\"><span>Read full review</span></span></div></div></div><div class=\"row _3n8db9\"><div class=\"row\"><p class=\"_2sc7ZR _2V5EHH\">Venkatesan.M Venkatesan.M</p><svg class=\"_2a1p_T\" height=\"14\" viewbox=\"0 0 12 12\" width=\"14\" xmlns=\"http://www.w3.org/2000/svg\"><g><circle cx=\"6\" cy=\"6\" fill=\"#878787\" r=\"6\"></circle><path d=\"M3 6l2 2 4-4\" fill=\"#878787\" stroke=\"#FFF\" stroke-width=\"1.5\"></path></g></svg><p class=\"_2mcZGG\" id=\"review-0bc13804-9db6-4a0b-861d-3ea186cfb778\"><span>Certified Buyer</span></p><p class=\"_2sc7ZR\">19 days ago</p></div></div></div></div></div><div class=\"_2tzWk4\"><div class=\"_1A_Aux\">Recent Review</div><div class=\"col\"><div class=\"col _2wzgFH _2cVXgz\"><div class=\"row\"><div class=\"_3LWZlK _1BLPMq\">5<img class=\"_1wB99o\" src=\"data:image/svg+xml;base64,PHN2ZyB4bWxucz0iaHR0cDovL3d3dy53My5vcmcvMjAwMC9zdmciIHdpZHRoPSIxMyIgaGVpZ2h0PSIxMiI+PHBhdGggZmlsbD0iI0ZGRiIgZD0iTTYuNSA5LjQzOWwtMy42NzQgMi4yMy45NC00LjI2LTMuMjEtMi44ODMgNC4yNTQtLjQwNEw2LjUuMTEybDEuNjkgNC4wMSA0LjI1NC40MDQtMy4yMSAyLjg4Mi45NCA0LjI2eiIvPjwvc3ZnPg==\"/></div><p class=\"_2-N8zT\">Wonderful</p></div><div class=\"row\"><div class=\"t-ZTKy\"><div><div class=\"\">This is a beautiful product, the quality of product is classy.</div><span class=\"_1H-bmy\"><span>Read full review</span></span></div></div></div><div class=\"row _3n8db9\"><div class=\"row\"><p class=\"_2sc7ZR _2V5EHH\"></p><svg class=\"_2a1p_T\" height=\"14\" viewbox=\"0 0 12 12\" width=\"14\" xmlns=\"http://www.w3.org/2000/svg\"><g><circle cx=\"6\" cy=\"6\" fill=\"#878787\" r=\"6\"></circle><path d=\"M3 6l2 2 4-4\" fill=\"#878787\" stroke=\"#FFF\" stroke-width=\"1.5\"></path></g></svg><p class=\"_2mcZGG\" id=\"review-13267c1b-8f9b-4bec-abdd-09e371c64ee4\"><span>Certified Buyer</span></p><p class=\"_2sc7ZR\">6 days ago</p></div></div></div></div></div></div><div class=\"_2nRPpA\"><div class=\"_1Ni40J\"><div class=\"_3hVUcF\"><div class=\"CXW8mj\" style=\"height:150px;width:150px\"><img alt=\"vivo T1 44W (Midnight Galaxy, 128 GB)\" class=\"_396cs4\" loading=\"lazy\" src=\"https://rukminim1.flixcart.com/image/300/300/l2p23rk0/mobile/x/b/y/-original-imagdznhnzmzfbwx.jpeg?q=90\"/></div></div><div class=\"_1kLt05\"><a href=\"/vivo-t1-44w-midnight-galaxy-128-gb/p/itm2a08ebbea3689?pid=MOBGDRHVWJUFTYQJ&amp;marketplace=FLIPKART\" rel=\"noopener noreferrer\" target=\"_blank\"><div class=\"_1W9f5C\"><div>5. vivo T1 44W (Midnight Galax...</div></div><div class=\"_3VDxyD\"><div class=\"_3LWZlK\">4.3<img class=\"_1wB99o\" src=\"data:image/svg+xml;base64,PHN2ZyB4bWxucz0iaHR0cDovL3d3dy53My5vcmcvMjAwMC9zdmciIHdpZHRoPSIxMyIgaGVpZ2h0PSIxMiI+PHBhdGggZmlsbD0iI0ZGRiIgZD0iTTYuNSA5LjQzOWwtMy42NzQgMi4yMy45NC00LjI2LTMuMjEtMi44ODMgNC4yNTQtLjQwNEw2LjUuMTEybDEuNjkgNC4wMSA0LjI1NC40MDQtMy4yMSAyLjg4Mi45NCA0LjI2eiIvPjwvc3ZnPg==\"/></div><span class=\"_34hpFu\"><span>6,337 Ratings</span><span><span class=\"_2oY1qB\">&amp;</span><span>508 Reviews</span></span></span></div><div class=\"_2wYYVP\"><div class=\"_25b18c\"><div class=\"_30jeq3 UMT9wN\">₹17,999</div><div class=\"_3Ay6Sb _2FuKQX\"><span>24% off</span></div></div></div></a><ul class=\"_1Sq2Fs\"><li class=\"_2OosNL\">8 GB RAM | 128 GB ROM | Expandable Upto 1 TB</li><li class=\"_2OosNL\">16.36 cm (6.44 inch) Full HD+ AMOLED Display</li><li class=\"_2OosNL\">50MP + 2MP + 2MP | 16MP Front Camera</li></ul></div></div><div class=\"_2tzWk4\"><div class=\"_1A_Aux\">Most Helpful Review</div><div class=\"col\"><div class=\"col _2wzgFH _2cVXgz\"><div class=\"row\"><div class=\"_3LWZlK _1BLPMq\">5<img class=\"_1wB99o\" src=\"data:image/svg+xml;base64,PHN2ZyB4bWxucz0iaHR0cDovL3d3dy53My5vcmcvMjAwMC9zdmciIHdpZHRoPSIxMyIgaGVpZ2h0PSIxMiI+PHBhdGggZmlsbD0iI0ZGRiIgZD0iTTYuNSA5LjQzOWwtMy42NzQgMi4yMy45NC00LjI2LTMuMjEtMi44ODMgNC4yNTQtLjQwNEw2LjUuMTEybDEuNjkgNC4wMSA0LjI1NC40MDQtMy4yMSAyLjg4Mi45NCA0LjI2eiIvPjwvc3ZnPg==\"/></div><p class=\"_2-N8zT\">Excellent</p></div><div class=\"row\"><div class=\"t-ZTKy\"><div><div class=\"\">For high end tasking and for gaming is good i have played free fire in max setting more than high it perform well and no amount of lag and battery is good no...</div><span class=\"_1BWGvX\"><span>Read full review</span></span></div></div></div><div class=\"row _3n8db9\"><div class=\"row\"><p class=\"_2sc7ZR _2V5EHH\">Flipkart Customer</p><svg class=\"_2a1p_T\" height=\"14\" viewbox=\"0 0 12 12\" width=\"14\" xmlns=\"http://www.w3.org/2000/svg\"><g><circle cx=\"6\" cy=\"6\" fill=\"#878787\" r=\"6\"></circle><path d=\"M3 6l2 2 4-4\" fill=\"#878787\" stroke=\"#FFF\" stroke-width=\"1.5\"></path></g></svg><p class=\"_2mcZGG\" id=\"review-f96b50f3-6009-4893-bcbe-f975a1cf0dc6\"><span>Certified Buyer</span></p><p class=\"_2sc7ZR\">9 months ago</p></div></div></div></div></div><div class=\"_2tzWk4\"><div class=\"_1A_Aux\">Recent Review</div><div class=\"col\"><div class=\"col _2wzgFH _2cVXgz\"><div class=\"row\"><div class=\"_3LWZlK _1rdVr6 _1BLPMq\">1<img class=\"_1wB99o\" src=\"data:image/svg+xml;base64,PHN2ZyB4bWxucz0iaHR0cDovL3d3dy53My5vcmcvMjAwMC9zdmciIHdpZHRoPSIxMyIgaGVpZ2h0PSIxMiI+PHBhdGggZmlsbD0iI0ZGRiIgZD0iTTYuNSA5LjQzOWwtMy42NzQgMi4yMy45NC00LjI2LTMuMjEtMi44ODMgNC4yNTQtLjQwNEw2LjUuMTEybDEuNjkgNC4wMSA0LjI1NC40MDQtMy4yMSAyLjg4Mi45NCA0LjI2eiIvPjwvc3ZnPg==\"/></div><p class=\"_2-N8zT\">Waste of money!</p></div><div class=\"row\"><div class=\"t-ZTKy\"><div><div class=\"\">Picture quality is not good</div><span class=\"_1H-bmy\"><span>Read full review</span></span></div></div></div><div class=\"row _3n8db9\"><div class=\"row\"><p class=\"_2sc7ZR _2V5EHH\">Flipkart Customer</p><svg class=\"_2a1p_T\" height=\"14\" viewbox=\"0 0 12 12\" width=\"14\" xmlns=\"http://www.w3.org/2000/svg\"><g><circle cx=\"6\" cy=\"6\" fill=\"#878787\" r=\"6\"></circle><path d=\"M3 6l2 2 4-4\" fill=\"#878787\" stroke=\"#FFF\" stroke-width=\"1.5\"></path></g></svg><p class=\"_2mcZGG\" id=\"review-e76bad57-3278-48e1-b6ab-74dede12198b\"><span>Certified Buyer</span></p><p class=\"_2sc7ZR\">17 days ago</p></div></div></div></div></div></div></div></div><div class=\"_1AtVbE col-12-12\"></div></div><footer class=\"_3voSl0\"><div class=\"_3rc_xQ\"><div class=\"row\"><div class=\"col gu12 _8Qljeg\"></div></div><div><div class=\"_2WErco row\"><div class=\"_2Brcj4\"><div class=\"_3-dnWo\">ABOUT</div><a class=\"_1arVWX\" href=\"/helpcentre?otracker=undefined_footer_navlinks\">Contact Us</a><a class=\"_1arVWX\" href=\"/about-us?otracker=undefined_footer_navlinks\">About Us</a><a class=\"_1arVWX\" href=\"https://www.flipkartcareers.com/?otracker=undefined_footer_navlinks\">Careers</a><a class=\"_1arVWX\" href=\"http://stories.flipkart.com/?otracker=undefined_footer_navlinks\">Flipkart Stories</a><a class=\"_1arVWX\" href=\"/s/press?otracker=undefined_footer_navlinks\">Press</a><a class=\"_1arVWX\" href=\"https://www.flipkartwholesale.com/?otracker=undefined_footer_navlinks\" rel=\"noopener noreferrer\" target=\"_blank\">Flipkart Wholesale</a><a class=\"_1arVWX\" href=\"/corporate-information\">Corporate Information</a></div><div class=\"_2Brcj4\"><div class=\"_3-dnWo\">HELP</div><a class=\"_1arVWX\" href=\"/pages/payments\">Payments</a><a class=\"_1arVWX\" href=\"/pages/shipping\">Shipping</a><a class=\"_1arVWX\" href=\"/helpcentre?catalog=55c9c6edb000002e002c1701&amp;view=CATALOG\">Cancellation &amp; Returns</a><a class=\"_1arVWX\" href=\"/helpcentre?catalog=55c9c8e2b0000023002c1702&amp;view=CATALOG\">FAQ</a><a class=\"_1arVWX\" href=\"https://seller.flipkart.com/fiv?otracker=undefined_footer_navlinks\">Report Infringement</a></div><div class=\"_2Brcj4\"><div class=\"_3-dnWo\">CONSUMER POLICY</div><a class=\"_1arVWX\" href=\"/pages/returnpolicy?otracker=undefined_footer_navlinks\">Return Policy</a><a class=\"_1arVWX\" href=\"/pages/terms?otracker=undefined_footer_navlinks\">Terms Of Use</a><a class=\"_1arVWX\" href=\"/pages/paymentsecurity?otracker=undefined_footer_navlinks\">Security</a><a class=\"_1arVWX\" href=\"/pages/privacypolicy?otracker=undefined_footer_navlinks\">Privacy</a><a class=\"_1arVWX\" href=\"/sitemap?otracker=undefined_footer_navlinks\">Sitemap</a><a class=\"_1arVWX\" href=\"/pages/grievance-redressal-mechanism?otracker=undefined_footer_navlinks\">Grievance Redressal</a><a class=\"_1arVWX\" href=\"/pages/ewaste-compliance-tnc?otracker=undefined_footer_navlinks\">EPR Compliance</a></div><div class=\"_2Brcj4\"><div class=\"_3-dnWo\">SOCIAL</div><a class=\"_1arVWX\" href=\"https://www.facebook.com/flipkart\">Facebook</a><a class=\"_1arVWX\" href=\"https://www.twitter.com/flipkart\">Twitter</a><a class=\"_1arVWX\" href=\"https://www.youtube.com/flipkart\">YouTube</a></div><div class=\"_2Brcj4 address\"><div class=\"_3JHi0r\"><div class=\"_3-dnWo\"><span>Mail Us:</span></div><div class=\"_1U1qnR\"><div class=\"_1LJS6T\"><div class=\"_2NKhZn _1U1qnR\"><p>Flipkart Internet Private Limited, </p>\n",
       "<p> Buildings Alyssa, Begonia &amp; </p>\n",
       "<p> Clove Embassy Tech Village, </p>\n",
       "<p> Outer Ring Road, Devarabeesanahalli Village, </p>\n",
       "<p> Bengaluru, 560103, </p>\n",
       "<p> Karnataka, India</p>\n",
       "</div></div></div></div></div><div class=\"_2Brcj4 address\"><div class=\"_3IT4e6\"><div class=\"_3-dnWo\"><span>Registered Office Address:</span></div><div class=\"_1U1qnR\"><div class=\"_1LJS6T\"><div class=\"_2NKhZn _1U1qnR\"><p>Flipkart Internet Private Limited, </p>\n",
       "<p> Buildings Alyssa, Begonia &amp; </p>\n",
       "<p> Clove Embassy Tech Village, </p>\n",
       "<p> Outer Ring Road, Devarabeesanahalli Village, </p>\n",
       "<p> Bengaluru, 560103, </p>\n",
       "<p> Karnataka, India </p>\n",
       "<p> CIN : U51109KA2012PTC066107 </p>\n",
       "<p> Telephone: <a href=\"tel:044-45614700\">044-45614700</a></p>\n",
       "</div></div></div></div></div></div><div><div class=\"_2uz0vJ\"><div><img src=\"data:image/svg+xml;base64,PHN2ZyB4bWxucz0iaHR0cDovL3d3dy53My5vcmcvMjAwMC9zdmciIHdpZHRoPSIxNiIgaGVpZ2h0PSIxNSIgdmlld0JveD0iMCAwIDE2IDE1Ij4KICAgIDxkZWZzPgogICAgICAgIDxsaW5lYXJHcmFkaWVudCBpZD0iYSIgeDE9IjAlIiB4Mj0iODYuODc2JSIgeTE9IjAlIiB5Mj0iODAuMjAyJSI+CiAgICAgICAgICAgIDxzdG9wIG9mZnNldD0iMCUiIHN0b3AtY29sb3I9IiNGRkQ4MDAiLz4KICAgICAgICAgICAgPHN0b3Agb2Zmc2V0PSIxMDAlIiBzdG9wLWNvbG9yPSIjRkZBRjAwIi8+CiAgICAgICAgPC9saW5lYXJHcmFkaWVudD4KICAgIDwvZGVmcz4KICAgIDxnIGZpbGw9Im5vbmUiIGZpbGwtcnVsZT0iZXZlbm9kZCI+CiAgICAgICAgPHBhdGggZD0iTS0yLTJoMjB2MjBILTJ6Ii8+CiAgICAgICAgPHBhdGggZmlsbD0idXJsKCNhKSIgZmlsbC1ydWxlPSJub256ZXJvIiBkPSJNMTUuOTMgNS42MTRoLTIuOTQ4VjQuMTRjMC0uODE4LS42NTUtMS40NzMtMS40NzMtMS40NzNIOC41NmMtLjgxNyAwLTEuNDczLjY1NS0xLjQ3MyAxLjQ3M3YxLjQ3NEg0LjE0Yy0uODE4IDAtMS40NjYuNjU2LTEuNDY2IDEuNDc0bC0uMDA3IDguMTA1YzAgLjgxOC42NTUgMS40NzQgMS40NzMgMS40NzRoMTEuNzljLjgxOCAwIDEuNDc0LS42NTYgMS40NzQtMS40NzRWNy4wODhjMC0uODE4LS42NTYtMS40NzQtMS40NzQtMS40NzR6bS00LjQyMSAwSDguNTZWNC4xNGgyLjk0OHYxLjQ3NHoiIHRyYW5zZm9ybT0idHJhbnNsYXRlKC0yIC0yKSIvPgogICAgPC9nPgo8L3N2Zz4K\"/><a href=\"https://seller.flipkart.com/?utm_source=fkwebsite&amp;utm_medium=websitedirect\"><span class=\"hDTmm5\">Become a Seller</span></a></div><div><img src=\"data:image/svg+xml;base64,PHN2ZyB4bWxucz0iaHR0cDovL3d3dy53My5vcmcvMjAwMC9zdmciIHdpZHRoPSIxNSIgaGVpZ2h0PSIxNSIgdmlld0JveD0iMCAwIDE1IDE1Ij4KICAgIDxkZWZzPgogICAgICAgIDxsaW5lYXJHcmFkaWVudCBpZD0iYSIgeDE9IjAlIiB4Mj0iODYuODc2JSIgeTE9IjAlIiB5Mj0iODAuMjAyJSI+CiAgICAgICAgICAgIDxzdG9wIG9mZnNldD0iMCUiIHN0b3AtY29sb3I9IiNGRkQ4MDAiLz4KICAgICAgICAgICAgPHN0b3Agb2Zmc2V0PSIxMDAlIiBzdG9wLWNvbG9yPSIjRkZBRjAwIi8+CiAgICAgICAgPC9saW5lYXJHcmFkaWVudD4KICAgIDwvZGVmcz4KICAgIDxnIGZpbGw9Im5vbmUiIGZpbGwtcnVsZT0iZXZlbm9kZCI+CiAgICAgICAgPHBhdGggZD0iTS0zLTNoMjB2MjBILTN6Ii8+CiAgICAgICAgPHBhdGggZmlsbD0idXJsKCNhKSIgZmlsbC1ydWxlPSJub256ZXJvIiBkPSJNMTAuNDkyIDNDNi4zNTMgMyAzIDYuMzYgMyAxMC41YzAgNC4xNCAzLjM1MyA3LjUgNy40OTIgNy41QzE0LjY0IDE4IDE4IDE0LjY0IDE4IDEwLjUgMTggNi4zNiAxNC42NCAzIDEwLjQ5MiAzem0zLjE4IDEyTDEwLjUgMTMuMDg4IDcuMzI3IDE1bC44NC0zLjYwN0w1LjM3IDguOTdsMy42OS0uMzE1TDEwLjUgNS4yNWwxLjQ0IDMuMzk4IDMuNjkuMzE1LTIuNzk4IDIuNDIyLjg0IDMuNjE1eiIgdHJhbnNmb3JtPSJ0cmFuc2xhdGUoLTMgLTMpIi8+CiAgICA8L2c+Cjwvc3ZnPgo=\"/><a href=\"https://brands.flipkart.com\"><span class=\"hDTmm5\">Advertise</span></a></div><div><img src=\"data:image/svg+xml;base64,PHN2ZyB4bWxucz0iaHR0cDovL3d3dy53My5vcmcvMjAwMC9zdmciIHdpZHRoPSIxOCIgaGVpZ2h0PSIxNyIgdmlld0JveD0iMCAwIDE4IDE3Ij4KICAgIDxkZWZzPgogICAgICAgIDxsaW5lYXJHcmFkaWVudCBpZD0iYSIgeDE9IjAlIiB4Mj0iODYuODc2JSIgeTE9IjAlIiB5Mj0iODAuMjAyJSI+CiAgICAgICAgICAgIDxzdG9wIG9mZnNldD0iMCUiIHN0b3AtY29sb3I9IiNGRkQ4MDAiLz4KICAgICAgICAgICAgPHN0b3Agb2Zmc2V0PSIxMDAlIiBzdG9wLWNvbG9yPSIjRkZBRjAwIi8+CiAgICAgICAgPC9saW5lYXJHcmFkaWVudD4KICAgIDwvZGVmcz4KICAgIDxnIGZpbGw9Im5vbmUiIGZpbGwtcnVsZT0iZXZlbm9kZCI+CiAgICAgICAgPHBhdGggZD0iTS0xLTFoMjB2MjBILTF6Ii8+CiAgICAgICAgPHBhdGggZmlsbD0idXJsKCNhKSIgZmlsbC1ydWxlPSJub256ZXJvIiBkPSJNMTYuNjY3IDVIMTQuODVjLjA5Mi0uMjU4LjE1LS41NDIuMTUtLjgzM2EyLjQ5NyAyLjQ5NyAwIDAgMC00LjU4My0xLjM3NUwxMCAzLjM1bC0uNDE3LS41NjdBMi41MSAyLjUxIDAgMCAwIDcuNSAxLjY2N2EyLjQ5NyAyLjQ5NyAwIDAgMC0yLjUgMi41YzAgLjI5MS4wNTguNTc1LjE1LjgzM0gzLjMzM2MtLjkyNSAwLTEuNjU4Ljc0Mi0xLjY1OCAxLjY2N2wtLjAwOCA5LjE2NkExLjY2IDEuNjYgMCAwIDAgMy4zMzMgMTcuNWgxMy4zMzRhMS42NiAxLjY2IDAgMCAwIDEuNjY2LTEuNjY3VjYuNjY3QTEuNjYgMS42NiAwIDAgMCAxNi42NjcgNXptMCA2LjY2N0gzLjMzM3YtNWg0LjIzNEw1LjgzMyA5LjAyNWwxLjM1Ljk3NSAxLjk4NC0yLjdMMTAgNi4xNjdsLjgzMyAxLjEzMyAxLjk4NCAyLjcgMS4zNS0uOTc1LTEuNzM0LTIuMzU4aDQuMjM0djV6IiB0cmFuc2Zvcm09InRyYW5zbGF0ZSgtMSAtMSkiLz4KICAgIDwvZz4KPC9zdmc+Cg==\"/><a href=\"/the-gift-card-store?otracker=undefined_footer_footer_navlinks\"><span class=\"hDTmm5\">Gift Cards</span></a></div><div><img src=\"data:image/svg+xml;base64,PHN2ZyB4bWxucz0iaHR0cDovL3d3dy53My5vcmcvMjAwMC9zdmciIHdpZHRoPSIxNSIgaGVpZ2h0PSIxNSIgdmlld0JveD0iMCAwIDE1IDE1Ij4KICAgIDxkZWZzPgogICAgICAgIDxsaW5lYXJHcmFkaWVudCBpZD0iYSIgeDE9IjAlIiB4Mj0iODYuODc2JSIgeTE9IjAlIiB5Mj0iODAuMjAyJSI+CiAgICAgICAgICAgIDxzdG9wIG9mZnNldD0iMCUiIHN0b3AtY29sb3I9IiNGRkQ4MDAiLz4KICAgICAgICAgICAgPHN0b3Agb2Zmc2V0PSIxMDAlIiBzdG9wLWNvbG9yPSIjRkZBRjAwIi8+CiAgICAgICAgPC9saW5lYXJHcmFkaWVudD4KICAgIDwvZGVmcz4KICAgIDxnIGZpbGw9Im5vbmUiIGZpbGwtcnVsZT0iZXZlbm9kZCI+CiAgICAgICAgPHBhdGggZD0iTS0yLTNoMjB2MjBILTJ6Ii8+CiAgICAgICAgPHBhdGggZmlsbD0idXJsKCNhKSIgZmlsbC1ydWxlPSJub256ZXJvIiBkPSJNOS41IDNDNS4zNiAzIDIgNi4zNiAyIDEwLjUgMiAxNC42NCA1LjM2IDE4IDkuNSAxOGM0LjE0IDAgNy41LTMuMzYgNy41LTcuNUMxNyA2LjM2IDEzLjY0IDMgOS41IDN6bS43NSAxMi43NWgtMS41di0xLjVoMS41djEuNXptMS41NTMtNS44MTNsLS42NzYuNjljLS41NC41NDgtLjg3Ny45OTgtLjg3NyAyLjEyM2gtMS41di0uMzc1YzAtLjgyNS4zMzgtMS41NzUuODc3LTIuMTIzbC45My0uOTQ1Yy4yNzgtLjI3LjQ0My0uNjQ1LjQ0My0xLjA1NyAwLS44MjUtLjY3NS0xLjUtMS41LTEuNVM4IDcuNDI1IDggOC4yNUg2LjVhMyAzIDAgMSAxIDYgMGMwIC42Ni0uMjcgMS4yNi0uNjk3IDEuNjg4eiIgdHJhbnNmb3JtPSJ0cmFuc2xhdGUoLTIgLTMpIi8+CiAgICA8L2c+Cjwvc3ZnPgo=\"/><a href=\"/helpcentre?otracker=undefined_footer_footer_navlinks\"><span class=\"hDTmm5\">Help Center</span></a></div><span class=\"z3ht-w\">© 2007-<!-- -->2023<!-- --> <span>Flipkart.com</span></span><img src=\"//static-assets-web.flixcart.com/fk-p-linchpin-web/fk-cp-zion/img/payment-method_69e7ec.svg\"/></div></div></div></div></footer><div class=\"_1EcK2J _38JCdA\"><div class=\"bra6U8\"><svg class=\"_2TdLiZ\" height=\"27\" viewbox=\"0 0 16 27\" width=\"16\" xmlns=\"http://www.w3.org/2000/svg\"><path class=\"_3ZKfA2\" d=\"M16 23.207L6.11 13.161 16 3.093 12.955 0 0 13.161l12.955 13.161z\" fill=\"#fff\"></path></svg><span>Back to top</span></div></div></div></div> <script id=\"jsonLD\" nonce=\"14609096513363420366\" type=\"application/ld+json\">{\"@context\":\"http://schema.org\",\"@type\":\"ItemList\",\"itemListElement\":[{\"@type\":\"ListItem\",\"position\":1,\"url\":\"https://www.flipkart.com/vivo-t1-44w-starry-sky-128-gb/p/itm2a08ebbea3689?pid=MOBGDRHVMW2UDXZY&lid=LSTMOBGDRHVMW2UDXZYYP1PL3&marketplace=FLIPKART&q=vivo+mobiles&store=tyy%2F4io\",\"name\":\"vivo T1 44W (Starry Sky, 128 GB)\"},{\"@type\":\"ListItem\",\"position\":2,\"url\":\"https://www.flipkart.com/vivo-t1-44w-starry-sky-128-gb/p/itm2a08ebbea3689?pid=MOBGDRHVHNBBBBP5&lid=LSTMOBGDRHVHNBBBBP5PVEEZV&marketplace=FLIPKART&q=vivo+mobiles&store=tyy%2F4io\",\"name\":\"vivo T1 44W (Starry Sky, 128 GB)\"},{\"@type\":\"ListItem\",\"position\":3,\"url\":\"https://www.flipkart.com/vivo-t1-44w-midnight-galaxy-128-gb/p/itm2a08ebbea3689?pid=MOBGDRHVZN29ZJF4&lid=LSTMOBGDRHVZN29ZJF4QZYS9W&marketplace=FLIPKART&q=vivo+mobiles&store=tyy%2F4io&spotlightTagId=BestsellerId_tyy%2F4io\",\"name\":\"vivo T1 44W (Midnight Galaxy, 128 GB)\"},{\"@type\":\"ListItem\",\"position\":4,\"url\":\"https://www.flipkart.com/vivo-t1-44w-midnight-galaxy-128-gb/p/itm2a08ebbea3689?pid=MOBGDRHVXFVCGS23&lid=LSTMOBGDRHVXFVCGS23BNMEFR&marketplace=FLIPKART&q=vivo+mobiles&store=tyy%2F4io\",\"name\":\"vivo T1 44W (Midnight Galaxy, 128 GB)\"},{\"@type\":\"ListItem\",\"position\":5,\"url\":\"https://www.flipkart.com/vivo-t1-44w-midnight-galaxy-128-gb/p/itm2a08ebbea3689?pid=MOBGDRHVWJUFTYQJ&lid=LSTMOBGDRHVWJUFTYQJ2SYXAC&marketplace=FLIPKART&q=vivo+mobiles&store=tyy%2F4io\",\"name\":\"vivo T1 44W (Midnight Galaxy, 128 GB)\"},{\"@type\":\"ListItem\",\"position\":6,\"url\":\"https://www.flipkart.com/vivo-t1-44w-starry-sky-128-gb/p/itm2a08ebbea3689?pid=MOBGDRHVHYFKQP8K&lid=LSTMOBGDRHVHYFKQP8KO8XQJV&marketplace=FLIPKART&q=vivo+mobiles&store=tyy%2F4io\",\"name\":\"vivo T1 44W (Starry Sky, 128 GB)\"},{\"@type\":\"ListItem\",\"position\":7,\"url\":\"https://www.flipkart.com/vivo-t1x-space-blue-64-gb/p/itm9e8207e7825a9?pid=MOBGG56ZFNPMHBWE&lid=LSTMOBGG56ZFNPMHBWEB8Y2U5&marketplace=FLIPKART&q=vivo+mobiles&store=tyy%2F4io\",\"name\":\"vivo T1X (Space Blue, 64 GB)\"},{\"@type\":\"ListItem\",\"position\":8,\"url\":\"https://www.flipkart.com/vivo-t1x-gravity-black-64-gb/p/itm9e8207e7825a9?pid=MOBGG56ZMXMNUCYF&lid=LSTMOBGG56ZMXMNUCYFQ5HT8S&marketplace=FLIPKART&q=vivo+mobiles&store=tyy%2F4io\",\"name\":\"vivo T1X (Gravity Black, 64 GB)\"},{\"@type\":\"ListItem\",\"position\":9,\"url\":\"https://www.flipkart.com/vivo-t1x-gravity-black-128-gb/p/itm9e8207e7825a9?pid=MOBGG56ZYZSNW7JX&lid=LSTMOBGG56ZYZSNW7JXBKVX1F&marketplace=FLIPKART&q=vivo+mobiles&store=tyy%2F4io\",\"name\":\"vivo T1X (Gravity Black, 128 GB)\"},{\"@type\":\"ListItem\",\"position\":10,\"url\":\"https://www.flipkart.com/vivo-t1x-gravity-black-128-gb/p/itm9e8207e7825a9?pid=MOBGG56ZKWEHRZBV&lid=LSTMOBGG56ZKWEHRZBVUFLBUQ&marketplace=FLIPKART&q=vivo+mobiles&store=tyy%2F4io\",\"name\":\"vivo T1X (Gravity Black, 128 GB)\"}]}</script> <script id=\"jsonLD\" nonce=\"14609096513363420366\" type=\"application/ld+json\">{}</script><script nonce=\"14609096513363420366\" type=\"application/ld+json\">{\n",
       "    \"@context\": \"http://schema.org\",\n",
       "    \"@type\": \"WebSite\",\n",
       "    \"url\": \"http://www.flipkart.com/\",\n",
       "    \"potentialAction\": [{\n",
       "        \"@type\": \"SearchAction\",\n",
       "        \"target\": \"http://www.flipkart.com/search?q={search_term_string}\",\n",
       "        \"query-input\": \"required name=search_term_string\"\n",
       "        },{\n",
       "        \"@type\": \"SearchAction\",\n",
       "        \"target\": \"android-app://com.flipkart.android/flipkart/de_sq_seg_-search.flipkart.com-_{search_term_string}\",\n",
       "        \"query-input\": \"required name=search_term_string\"\n",
       "    }]\n",
       "}</script><script id=\"is_script\" nonce=\"14609096513363420366\">window.__INITIAL_STATE__ = {};</script> <link data-chunk=\"NavMenu\" href=\"//static-assets-web.flixcart.com/fk-p-linchpin-web/fk-cp-zion/css/NavMenu.chunk.10ffe7.css\" rel=\"stylesheet\"/>\n",
       "<link data-chunk=\"SearchFeedback\" href=\"//static-assets-web.flixcart.com/fk-p-linchpin-web/fk-cp-zion/css/SearchFeedback.chunk.822f57.css\" rel=\"stylesheet\"/> <script id=\"__LOADABLE_REQUIRED_CHUNKS__\" type=\"application/json\">[121,195]</script><script id=\"__LOADABLE_REQUIRED_CHUNKS___ext\" type=\"application/json\">{\"namedChunks\":[\"NavMenu\",\"SearchFeedback\"]}</script>\n",
       "<script async=\"\" data-chunk=\"NavMenu\" src=\"//static-assets-web.flixcart.com/fk-p-linchpin-web/fk-cp-zion/js/NavMenu.chunk.c049eaf8.js\"></script>\n",
       "<script async=\"\" data-chunk=\"SearchFeedback\" src=\"//static-assets-web.flixcart.com/fk-p-linchpin-web/fk-cp-zion/js/SearchFeedback.chunk.6f453f4d.js\"></script><script nonce=\"14609096513363420366\">window.omniture={tpv:[],tl:[]};window.omniture.trackPageView=function(){window.omniture.tpv.push(arguments)};window.omniture.trackLink=function(){window.omniture.tl.push(arguments)}\n",
       "\n",
       "    if(window.location.host === 'www.flipkart.com' || /\\.store\\.flipkart\\.com/i.test(window.location.host)){\n",
       "        window.s_account = \"flipkart-prd\"; //omniture account id\n",
       "    }else{\n",
       "        window.s_account = \"flipkart-prd-test\";\n",
       "    }\n",
       "    window.s_isDesktop = true;</script><script nonce=\"14609096513363420366\">function isMobile(){\n",
       "\t\tif (!!(navigator.userAgentData && navigator.userAgentData.mobile) || navigator.userAgent.indexOf(\"Mobile\") !== -1){\n",
       "\t\t\treturn true;\n",
       "\t\t}\n",
       "\t\telse {\n",
       "\t\t\treturn false;\n",
       "\t\t}\n",
       "\t}\n",
       "\n",
       "\tif ('serviceWorker' in navigator && !isMobile()) {\n",
       "\t\tnavigator.serviceWorker.register('/sw.js').then(function(registration) {\n",
       "\t\t\tconsole.log('ServiceWorker registration successful with scope: ', registration.scope);\n",
       "\t\t\tnavigator.onLine && navigator.serviceWorker.controller && navigator.serviceWorker.controller.postMessage('BANDWIDTH_COMPUTE');\n",
       "\t\t\tnavigator.serviceWorker.addEventListener('message', function (event) {\n",
       "\t\t\t\ttry {\n",
       "\t\t\t\t\tconst bandwidthData = JSON.parse(event.data);\n",
       "\t\t\t\t\tif (bandwidthData && bandwidthData.data) {\n",
       "\t\t\t\t\t\twindow.bandwidth = bandwidthData.data.downlink + '_' + bandwidthData.data.computeMethod + '_' + bandwidthData.data.effectiveType + '_' + bandwidthData.data.type;\n",
       "\t\t\t\t\t}\n",
       "\t\t\t\t}catch(err) {\n",
       "\t\t\t\t\tconsole.error('JSON.parse failed:', err);\n",
       "\t\t\t\t}\n",
       "\t\t\t});\n",
       "\t\t})\n",
       "\t\t.catch(function(err) {\n",
       "\t\t\tconsole.error('ServiceWorker registration failed: ', err);\n",
       "\t\t});\n",
       "\t} else if('serviceWorker' in navigator && isMobile()){\n",
       "        navigator.serviceWorker.getRegistration().then(function(registration) {\n",
       "            var serviceWorkerUnregistered=false;\n",
       "            if(registration) {\n",
       "                registration.unregister();\n",
       "                serviceWorkerUnregistered=true;\n",
       "            }\n",
       "            serviceWorkerUnregistered && window.location.reload();\n",
       "        });\n",
       "    }</script> <script async=\"\" defer=\"defer\" id=\"omni_script\" nonce=\"14609096513363420366\" src=\"///www/linchpin/batman-returns/omni/omni16.js\"></script> <script nonce=\"14609096513363420366\">window._pxAppId = 'PXgNtTli3A';</script><script async=\"\" nonce=\"14609096513363420366\" src=\"///px/gNtTli3A/init.js\"></script></body></html>"
      ]
     },
     "execution_count": 9,
     "metadata": {},
     "output_type": "execute_result"
    }
   ],
   "source": [
    "vivo"
   ]
  },
  {
   "cell_type": "code",
   "execution_count": 20,
   "id": "78328bb4",
   "metadata": {},
   "outputs": [],
   "source": [
    "mobilelist=vivo.select(\"._4rR01T\")"
   ]
  },
  {
   "cell_type": "code",
   "execution_count": 21,
   "id": "803573e2",
   "metadata": {},
   "outputs": [
    {
     "data": {
      "text/plain": [
       "[<div class=\"_4rR01T\">vivo T1 44W (Starry Sky, 128 GB)</div>,\n",
       " <div class=\"_4rR01T\">vivo T1 44W (Starry Sky, 128 GB)</div>,\n",
       " <div class=\"_4rR01T\">vivo T1 44W (Midnight Galaxy, 128 GB)</div>,\n",
       " <div class=\"_4rR01T\">vivo T1 44W (Midnight Galaxy, 128 GB)</div>,\n",
       " <div class=\"_4rR01T\">vivo T1 44W (Midnight Galaxy, 128 GB)</div>,\n",
       " <div class=\"_4rR01T\">vivo T1 44W (Starry Sky, 128 GB)</div>,\n",
       " <div class=\"_4rR01T\">vivo T1X (Space Blue, 64 GB)</div>,\n",
       " <div class=\"_4rR01T\">vivo T1X (Gravity Black, 64 GB)</div>,\n",
       " <div class=\"_4rR01T\">vivo T1X (Gravity Black, 128 GB)</div>,\n",
       " <div class=\"_4rR01T\">vivo T1X (Gravity Black, 128 GB)</div>,\n",
       " <div class=\"_4rR01T\">vivo T1X (Space Blue, 128 GB)</div>,\n",
       " <div class=\"_4rR01T\">vivo T1X (Space Blue, 128 GB)</div>,\n",
       " <div class=\"_4rR01T\">vivo V27 5G (Magic Blue, 128 GB)</div>,\n",
       " <div class=\"_4rR01T\">vivo V27 5G (Noble Black, 128 GB)</div>,\n",
       " <div class=\"_4rR01T\">vivo Y15s (Wave Green, 32 GB)</div>,\n",
       " <div class=\"_4rR01T\">vivo Y33s (Mirror Black, 128 GB)</div>,\n",
       " <div class=\"_4rR01T\">vivo Y56 5G (Black Engine, 128 GB)</div>,\n",
       " <div class=\"_4rR01T\">vivo Y22 (Metaverse Green, 64 GB)</div>,\n",
       " <div class=\"_4rR01T\">vivo Y22 (Starlit Blue, 64 GB)</div>,\n",
       " <div class=\"_4rR01T\">vivo Y22 (Metaverse Green, 128 GB)</div>,\n",
       " <div class=\"_4rR01T\">vivo Y35 (Dawn Gold, 128 GB)</div>,\n",
       " <div class=\"_4rR01T\">vivo Y22 (Starlit Blue, 128 GB)</div>,\n",
       " <div class=\"_4rR01T\">vivo Y35 (Agate Black, 128 GB)</div>,\n",
       " <div class=\"_4rR01T\">vivo Y16 (Steller Black, 64 GB)</div>]"
      ]
     },
     "execution_count": 21,
     "metadata": {},
     "output_type": "execute_result"
    }
   ],
   "source": [
    "mobilelist"
   ]
  },
  {
   "cell_type": "code",
   "execution_count": 22,
   "id": "33cd825c",
   "metadata": {},
   "outputs": [],
   "source": [
    "price=vivo.select(\"._1_WHN1\")"
   ]
  },
  {
   "cell_type": "code",
   "execution_count": 23,
   "id": "198e36be",
   "metadata": {},
   "outputs": [
    {
     "data": {
      "text/plain": [
       "[<div class=\"_30jeq3 _1_WHN1\">₹15,999</div>,\n",
       " <div class=\"_30jeq3 _1_WHN1\">₹14,499</div>,\n",
       " <div class=\"_30jeq3 _1_WHN1\">₹14,499</div>,\n",
       " <div class=\"_30jeq3 _1_WHN1\">₹15,999</div>,\n",
       " <div class=\"_30jeq3 _1_WHN1\">₹17,999</div>,\n",
       " <div class=\"_30jeq3 _1_WHN1\">₹17,999</div>,\n",
       " <div class=\"_30jeq3 _1_WHN1\">₹11,999</div>,\n",
       " <div class=\"_30jeq3 _1_WHN1\">₹11,999</div>,\n",
       " <div class=\"_30jeq3 _1_WHN1\">₹12,999</div>,\n",
       " <div class=\"_30jeq3 _1_WHN1\">₹14,999</div>,\n",
       " <div class=\"_30jeq3 _1_WHN1\">₹14,999</div>,\n",
       " <div class=\"_30jeq3 _1_WHN1\">₹12,999</div>,\n",
       " <div class=\"_30jeq3 _1_WHN1\">₹32,999</div>,\n",
       " <div class=\"_30jeq3 _1_WHN1\">₹32,999</div>,\n",
       " <div class=\"_30jeq3 _1_WHN1\">₹9,499</div>,\n",
       " <div class=\"_30jeq3 _1_WHN1\">₹15,890</div>,\n",
       " <div class=\"_30jeq3 _1_WHN1\">₹19,999</div>,\n",
       " <div class=\"_30jeq3 _1_WHN1\">₹14,499</div>,\n",
       " <div class=\"_30jeq3 _1_WHN1\">₹14,499</div>,\n",
       " <div class=\"_30jeq3 _1_WHN1\">₹16,499</div>,\n",
       " <div class=\"_30jeq3 _1_WHN1\">₹17,499</div>,\n",
       " <div class=\"_30jeq3 _1_WHN1\">₹16,439</div>,\n",
       " <div class=\"_30jeq3 _1_WHN1\">₹17,499</div>,\n",
       " <div class=\"_30jeq3 _1_WHN1\">₹12,499</div>]"
      ]
     },
     "execution_count": 23,
     "metadata": {},
     "output_type": "execute_result"
    }
   ],
   "source": [
    "price"
   ]
  },
  {
   "cell_type": "code",
   "execution_count": 24,
   "id": "7cb37678",
   "metadata": {},
   "outputs": [],
   "source": [
    "ratings=vivo.select(\"._2_R_DZ span span:nth-child(1)\")"
   ]
  },
  {
   "cell_type": "code",
   "execution_count": 25,
   "id": "437e617d",
   "metadata": {},
   "outputs": [
    {
     "data": {
      "text/plain": [
       "[<span>55,666 Ratings </span>,\n",
       " <span>97,326 Ratings </span>,\n",
       " <span>97,326 Ratings </span>,\n",
       " <span>55,666 Ratings </span>,\n",
       " <span>6,337 Ratings </span>,\n",
       " <span>6,337 Ratings </span>,\n",
       " <span>85,799 Ratings </span>,\n",
       " <span>85,799 Ratings </span>,\n",
       " <span>85,799 Ratings </span>,\n",
       " <span>4,730 Ratings </span>,\n",
       " <span>4,730 Ratings </span>,\n",
       " <span>85,799 Ratings </span>,\n",
       " <span>2,276 Ratings </span>,\n",
       " <span>2,276 Ratings </span>,\n",
       " <span>4,044 Ratings </span>,\n",
       " <span>12,338 Ratings </span>,\n",
       " <span>288 Ratings </span>,\n",
       " <span>906 Ratings </span>,\n",
       " <span>906 Ratings </span>,\n",
       " <span>902 Ratings </span>,\n",
       " <span>2,119 Ratings </span>,\n",
       " <span>902 Ratings </span>,\n",
       " <span>2,119 Ratings </span>,\n",
       " <span>1,465 Ratings </span>]"
      ]
     },
     "execution_count": 25,
     "metadata": {},
     "output_type": "execute_result"
    }
   ],
   "source": [
    "ratings"
   ]
  },
  {
   "cell_type": "code",
   "execution_count": 32,
   "id": "33357335",
   "metadata": {},
   "outputs": [],
   "source": [
    "mobiles=pds.DataFrame({'mobiles':mobilelist,'prices':price,'ratings':ratings})"
   ]
  },
  {
   "cell_type": "code",
   "execution_count": 33,
   "id": "6c2cbc9a",
   "metadata": {},
   "outputs": [
    {
     "data": {
      "text/html": [
       "<div>\n",
       "<style scoped>\n",
       "    .dataframe tbody tr th:only-of-type {\n",
       "        vertical-align: middle;\n",
       "    }\n",
       "\n",
       "    .dataframe tbody tr th {\n",
       "        vertical-align: top;\n",
       "    }\n",
       "\n",
       "    .dataframe thead th {\n",
       "        text-align: right;\n",
       "    }\n",
       "</style>\n",
       "<table border=\"1\" class=\"dataframe\">\n",
       "  <thead>\n",
       "    <tr style=\"text-align: right;\">\n",
       "      <th></th>\n",
       "      <th>mobiles</th>\n",
       "      <th>prices</th>\n",
       "      <th>ratings</th>\n",
       "    </tr>\n",
       "  </thead>\n",
       "  <tbody>\n",
       "    <tr>\n",
       "      <th>0</th>\n",
       "      <td>[vivo T1 44W (Starry Sky, 128 GB)]</td>\n",
       "      <td>[₹15,999]</td>\n",
       "      <td>[55,666 Ratings ]</td>\n",
       "    </tr>\n",
       "    <tr>\n",
       "      <th>1</th>\n",
       "      <td>[vivo T1 44W (Starry Sky, 128 GB)]</td>\n",
       "      <td>[₹14,499]</td>\n",
       "      <td>[97,326 Ratings ]</td>\n",
       "    </tr>\n",
       "    <tr>\n",
       "      <th>2</th>\n",
       "      <td>[vivo T1 44W (Midnight Galaxy, 128 GB)]</td>\n",
       "      <td>[₹14,499]</td>\n",
       "      <td>[97,326 Ratings ]</td>\n",
       "    </tr>\n",
       "    <tr>\n",
       "      <th>3</th>\n",
       "      <td>[vivo T1 44W (Midnight Galaxy, 128 GB)]</td>\n",
       "      <td>[₹15,999]</td>\n",
       "      <td>[55,666 Ratings ]</td>\n",
       "    </tr>\n",
       "    <tr>\n",
       "      <th>4</th>\n",
       "      <td>[vivo T1 44W (Midnight Galaxy, 128 GB)]</td>\n",
       "      <td>[₹17,999]</td>\n",
       "      <td>[6,337 Ratings ]</td>\n",
       "    </tr>\n",
       "    <tr>\n",
       "      <th>5</th>\n",
       "      <td>[vivo T1 44W (Starry Sky, 128 GB)]</td>\n",
       "      <td>[₹17,999]</td>\n",
       "      <td>[6,337 Ratings ]</td>\n",
       "    </tr>\n",
       "    <tr>\n",
       "      <th>6</th>\n",
       "      <td>[vivo T1X (Space Blue, 64 GB)]</td>\n",
       "      <td>[₹11,999]</td>\n",
       "      <td>[85,799 Ratings ]</td>\n",
       "    </tr>\n",
       "    <tr>\n",
       "      <th>7</th>\n",
       "      <td>[vivo T1X (Gravity Black, 64 GB)]</td>\n",
       "      <td>[₹11,999]</td>\n",
       "      <td>[85,799 Ratings ]</td>\n",
       "    </tr>\n",
       "    <tr>\n",
       "      <th>8</th>\n",
       "      <td>[vivo T1X (Gravity Black, 128 GB)]</td>\n",
       "      <td>[₹12,999]</td>\n",
       "      <td>[85,799 Ratings ]</td>\n",
       "    </tr>\n",
       "    <tr>\n",
       "      <th>9</th>\n",
       "      <td>[vivo T1X (Gravity Black, 128 GB)]</td>\n",
       "      <td>[₹14,999]</td>\n",
       "      <td>[4,730 Ratings ]</td>\n",
       "    </tr>\n",
       "    <tr>\n",
       "      <th>10</th>\n",
       "      <td>[vivo T1X (Space Blue, 128 GB)]</td>\n",
       "      <td>[₹14,999]</td>\n",
       "      <td>[4,730 Ratings ]</td>\n",
       "    </tr>\n",
       "    <tr>\n",
       "      <th>11</th>\n",
       "      <td>[vivo T1X (Space Blue, 128 GB)]</td>\n",
       "      <td>[₹12,999]</td>\n",
       "      <td>[85,799 Ratings ]</td>\n",
       "    </tr>\n",
       "    <tr>\n",
       "      <th>12</th>\n",
       "      <td>[vivo V27 5G (Magic Blue, 128 GB)]</td>\n",
       "      <td>[₹32,999]</td>\n",
       "      <td>[2,276 Ratings ]</td>\n",
       "    </tr>\n",
       "    <tr>\n",
       "      <th>13</th>\n",
       "      <td>[vivo V27 5G (Noble Black, 128 GB)]</td>\n",
       "      <td>[₹32,999]</td>\n",
       "      <td>[2,276 Ratings ]</td>\n",
       "    </tr>\n",
       "    <tr>\n",
       "      <th>14</th>\n",
       "      <td>[vivo Y15s (Wave Green, 32 GB)]</td>\n",
       "      <td>[₹9,499]</td>\n",
       "      <td>[4,044 Ratings ]</td>\n",
       "    </tr>\n",
       "    <tr>\n",
       "      <th>15</th>\n",
       "      <td>[vivo Y33s (Mirror Black, 128 GB)]</td>\n",
       "      <td>[₹15,890]</td>\n",
       "      <td>[12,338 Ratings ]</td>\n",
       "    </tr>\n",
       "    <tr>\n",
       "      <th>16</th>\n",
       "      <td>[vivo Y56 5G (Black Engine, 128 GB)]</td>\n",
       "      <td>[₹19,999]</td>\n",
       "      <td>[288 Ratings ]</td>\n",
       "    </tr>\n",
       "    <tr>\n",
       "      <th>17</th>\n",
       "      <td>[vivo Y22 (Metaverse Green, 64 GB)]</td>\n",
       "      <td>[₹14,499]</td>\n",
       "      <td>[906 Ratings ]</td>\n",
       "    </tr>\n",
       "    <tr>\n",
       "      <th>18</th>\n",
       "      <td>[vivo Y22 (Starlit Blue, 64 GB)]</td>\n",
       "      <td>[₹14,499]</td>\n",
       "      <td>[906 Ratings ]</td>\n",
       "    </tr>\n",
       "    <tr>\n",
       "      <th>19</th>\n",
       "      <td>[vivo Y22 (Metaverse Green, 128 GB)]</td>\n",
       "      <td>[₹16,499]</td>\n",
       "      <td>[902 Ratings ]</td>\n",
       "    </tr>\n",
       "    <tr>\n",
       "      <th>20</th>\n",
       "      <td>[vivo Y35 (Dawn Gold, 128 GB)]</td>\n",
       "      <td>[₹17,499]</td>\n",
       "      <td>[2,119 Ratings ]</td>\n",
       "    </tr>\n",
       "    <tr>\n",
       "      <th>21</th>\n",
       "      <td>[vivo Y22 (Starlit Blue, 128 GB)]</td>\n",
       "      <td>[₹16,439]</td>\n",
       "      <td>[902 Ratings ]</td>\n",
       "    </tr>\n",
       "    <tr>\n",
       "      <th>22</th>\n",
       "      <td>[vivo Y35 (Agate Black, 128 GB)]</td>\n",
       "      <td>[₹17,499]</td>\n",
       "      <td>[2,119 Ratings ]</td>\n",
       "    </tr>\n",
       "    <tr>\n",
       "      <th>23</th>\n",
       "      <td>[vivo Y16 (Steller Black, 64 GB)]</td>\n",
       "      <td>[₹12,499]</td>\n",
       "      <td>[1,465 Ratings ]</td>\n",
       "    </tr>\n",
       "  </tbody>\n",
       "</table>\n",
       "</div>"
      ],
      "text/plain": [
       "                                    mobiles     prices            ratings\n",
       "0        [vivo T1 44W (Starry Sky, 128 GB)]  [₹15,999]  [55,666 Ratings ]\n",
       "1        [vivo T1 44W (Starry Sky, 128 GB)]  [₹14,499]  [97,326 Ratings ]\n",
       "2   [vivo T1 44W (Midnight Galaxy, 128 GB)]  [₹14,499]  [97,326 Ratings ]\n",
       "3   [vivo T1 44W (Midnight Galaxy, 128 GB)]  [₹15,999]  [55,666 Ratings ]\n",
       "4   [vivo T1 44W (Midnight Galaxy, 128 GB)]  [₹17,999]   [6,337 Ratings ]\n",
       "5        [vivo T1 44W (Starry Sky, 128 GB)]  [₹17,999]   [6,337 Ratings ]\n",
       "6            [vivo T1X (Space Blue, 64 GB)]  [₹11,999]  [85,799 Ratings ]\n",
       "7         [vivo T1X (Gravity Black, 64 GB)]  [₹11,999]  [85,799 Ratings ]\n",
       "8        [vivo T1X (Gravity Black, 128 GB)]  [₹12,999]  [85,799 Ratings ]\n",
       "9        [vivo T1X (Gravity Black, 128 GB)]  [₹14,999]   [4,730 Ratings ]\n",
       "10          [vivo T1X (Space Blue, 128 GB)]  [₹14,999]   [4,730 Ratings ]\n",
       "11          [vivo T1X (Space Blue, 128 GB)]  [₹12,999]  [85,799 Ratings ]\n",
       "12       [vivo V27 5G (Magic Blue, 128 GB)]  [₹32,999]   [2,276 Ratings ]\n",
       "13      [vivo V27 5G (Noble Black, 128 GB)]  [₹32,999]   [2,276 Ratings ]\n",
       "14          [vivo Y15s (Wave Green, 32 GB)]   [₹9,499]   [4,044 Ratings ]\n",
       "15       [vivo Y33s (Mirror Black, 128 GB)]  [₹15,890]  [12,338 Ratings ]\n",
       "16     [vivo Y56 5G (Black Engine, 128 GB)]  [₹19,999]     [288 Ratings ]\n",
       "17      [vivo Y22 (Metaverse Green, 64 GB)]  [₹14,499]     [906 Ratings ]\n",
       "18         [vivo Y22 (Starlit Blue, 64 GB)]  [₹14,499]     [906 Ratings ]\n",
       "19     [vivo Y22 (Metaverse Green, 128 GB)]  [₹16,499]     [902 Ratings ]\n",
       "20           [vivo Y35 (Dawn Gold, 128 GB)]  [₹17,499]   [2,119 Ratings ]\n",
       "21        [vivo Y22 (Starlit Blue, 128 GB)]  [₹16,439]     [902 Ratings ]\n",
       "22         [vivo Y35 (Agate Black, 128 GB)]  [₹17,499]   [2,119 Ratings ]\n",
       "23        [vivo Y16 (Steller Black, 64 GB)]  [₹12,499]   [1,465 Ratings ]"
      ]
     },
     "execution_count": 33,
     "metadata": {},
     "output_type": "execute_result"
    }
   ],
   "source": [
    "mobiles"
   ]
  },
  {
   "cell_type": "code",
   "execution_count": 34,
   "id": "7a7537ba",
   "metadata": {},
   "outputs": [],
   "source": [
    "mobiles.to_csv('C:/praga/vivo.csv')"
   ]
  },
  {
   "cell_type": "code",
   "execution_count": 36,
   "id": "4821c56f",
   "metadata": {},
   "outputs": [],
   "source": [
    "file=pds.read_csv('C:/praga/vivo.csv')"
   ]
  },
  {
   "cell_type": "code",
   "execution_count": 37,
   "id": "2962bc30",
   "metadata": {},
   "outputs": [
    {
     "data": {
      "text/html": [
       "<div>\n",
       "<style scoped>\n",
       "    .dataframe tbody tr th:only-of-type {\n",
       "        vertical-align: middle;\n",
       "    }\n",
       "\n",
       "    .dataframe tbody tr th {\n",
       "        vertical-align: top;\n",
       "    }\n",
       "\n",
       "    .dataframe thead th {\n",
       "        text-align: right;\n",
       "    }\n",
       "</style>\n",
       "<table border=\"1\" class=\"dataframe\">\n",
       "  <thead>\n",
       "    <tr style=\"text-align: right;\">\n",
       "      <th></th>\n",
       "      <th>Unnamed: 0</th>\n",
       "      <th>mobiles</th>\n",
       "      <th>prices</th>\n",
       "      <th>ratings</th>\n",
       "    </tr>\n",
       "  </thead>\n",
       "  <tbody>\n",
       "    <tr>\n",
       "      <th>0</th>\n",
       "      <td>0</td>\n",
       "      <td>&lt;div class=\"_4rR01T\"&gt;vivo T1 44W (Starry Sky, ...</td>\n",
       "      <td>&lt;div class=\"_30jeq3 _1_WHN1\"&gt;₹15,999&lt;/div&gt;</td>\n",
       "      <td>&lt;span&gt;55,666 Ratings &lt;/span&gt;</td>\n",
       "    </tr>\n",
       "    <tr>\n",
       "      <th>1</th>\n",
       "      <td>1</td>\n",
       "      <td>&lt;div class=\"_4rR01T\"&gt;vivo T1 44W (Starry Sky, ...</td>\n",
       "      <td>&lt;div class=\"_30jeq3 _1_WHN1\"&gt;₹14,499&lt;/div&gt;</td>\n",
       "      <td>&lt;span&gt;97,326 Ratings &lt;/span&gt;</td>\n",
       "    </tr>\n",
       "    <tr>\n",
       "      <th>2</th>\n",
       "      <td>2</td>\n",
       "      <td>&lt;div class=\"_4rR01T\"&gt;vivo T1 44W (Midnight Gal...</td>\n",
       "      <td>&lt;div class=\"_30jeq3 _1_WHN1\"&gt;₹14,499&lt;/div&gt;</td>\n",
       "      <td>&lt;span&gt;97,326 Ratings &lt;/span&gt;</td>\n",
       "    </tr>\n",
       "    <tr>\n",
       "      <th>3</th>\n",
       "      <td>3</td>\n",
       "      <td>&lt;div class=\"_4rR01T\"&gt;vivo T1 44W (Midnight Gal...</td>\n",
       "      <td>&lt;div class=\"_30jeq3 _1_WHN1\"&gt;₹15,999&lt;/div&gt;</td>\n",
       "      <td>&lt;span&gt;55,666 Ratings &lt;/span&gt;</td>\n",
       "    </tr>\n",
       "    <tr>\n",
       "      <th>4</th>\n",
       "      <td>4</td>\n",
       "      <td>&lt;div class=\"_4rR01T\"&gt;vivo T1 44W (Midnight Gal...</td>\n",
       "      <td>&lt;div class=\"_30jeq3 _1_WHN1\"&gt;₹17,999&lt;/div&gt;</td>\n",
       "      <td>&lt;span&gt;6,337 Ratings &lt;/span&gt;</td>\n",
       "    </tr>\n",
       "    <tr>\n",
       "      <th>5</th>\n",
       "      <td>5</td>\n",
       "      <td>&lt;div class=\"_4rR01T\"&gt;vivo T1 44W (Starry Sky, ...</td>\n",
       "      <td>&lt;div class=\"_30jeq3 _1_WHN1\"&gt;₹17,999&lt;/div&gt;</td>\n",
       "      <td>&lt;span&gt;6,337 Ratings &lt;/span&gt;</td>\n",
       "    </tr>\n",
       "    <tr>\n",
       "      <th>6</th>\n",
       "      <td>6</td>\n",
       "      <td>&lt;div class=\"_4rR01T\"&gt;vivo T1X (Space Blue, 64 ...</td>\n",
       "      <td>&lt;div class=\"_30jeq3 _1_WHN1\"&gt;₹11,999&lt;/div&gt;</td>\n",
       "      <td>&lt;span&gt;85,799 Ratings &lt;/span&gt;</td>\n",
       "    </tr>\n",
       "    <tr>\n",
       "      <th>7</th>\n",
       "      <td>7</td>\n",
       "      <td>&lt;div class=\"_4rR01T\"&gt;vivo T1X (Gravity Black, ...</td>\n",
       "      <td>&lt;div class=\"_30jeq3 _1_WHN1\"&gt;₹11,999&lt;/div&gt;</td>\n",
       "      <td>&lt;span&gt;85,799 Ratings &lt;/span&gt;</td>\n",
       "    </tr>\n",
       "    <tr>\n",
       "      <th>8</th>\n",
       "      <td>8</td>\n",
       "      <td>&lt;div class=\"_4rR01T\"&gt;vivo T1X (Gravity Black, ...</td>\n",
       "      <td>&lt;div class=\"_30jeq3 _1_WHN1\"&gt;₹12,999&lt;/div&gt;</td>\n",
       "      <td>&lt;span&gt;85,799 Ratings &lt;/span&gt;</td>\n",
       "    </tr>\n",
       "    <tr>\n",
       "      <th>9</th>\n",
       "      <td>9</td>\n",
       "      <td>&lt;div class=\"_4rR01T\"&gt;vivo T1X (Gravity Black, ...</td>\n",
       "      <td>&lt;div class=\"_30jeq3 _1_WHN1\"&gt;₹14,999&lt;/div&gt;</td>\n",
       "      <td>&lt;span&gt;4,730 Ratings &lt;/span&gt;</td>\n",
       "    </tr>\n",
       "    <tr>\n",
       "      <th>10</th>\n",
       "      <td>10</td>\n",
       "      <td>&lt;div class=\"_4rR01T\"&gt;vivo T1X (Space Blue, 128...</td>\n",
       "      <td>&lt;div class=\"_30jeq3 _1_WHN1\"&gt;₹14,999&lt;/div&gt;</td>\n",
       "      <td>&lt;span&gt;4,730 Ratings &lt;/span&gt;</td>\n",
       "    </tr>\n",
       "    <tr>\n",
       "      <th>11</th>\n",
       "      <td>11</td>\n",
       "      <td>&lt;div class=\"_4rR01T\"&gt;vivo T1X (Space Blue, 128...</td>\n",
       "      <td>&lt;div class=\"_30jeq3 _1_WHN1\"&gt;₹12,999&lt;/div&gt;</td>\n",
       "      <td>&lt;span&gt;85,799 Ratings &lt;/span&gt;</td>\n",
       "    </tr>\n",
       "    <tr>\n",
       "      <th>12</th>\n",
       "      <td>12</td>\n",
       "      <td>&lt;div class=\"_4rR01T\"&gt;vivo V27 5G (Magic Blue, ...</td>\n",
       "      <td>&lt;div class=\"_30jeq3 _1_WHN1\"&gt;₹32,999&lt;/div&gt;</td>\n",
       "      <td>&lt;span&gt;2,276 Ratings &lt;/span&gt;</td>\n",
       "    </tr>\n",
       "    <tr>\n",
       "      <th>13</th>\n",
       "      <td>13</td>\n",
       "      <td>&lt;div class=\"_4rR01T\"&gt;vivo V27 5G (Noble Black,...</td>\n",
       "      <td>&lt;div class=\"_30jeq3 _1_WHN1\"&gt;₹32,999&lt;/div&gt;</td>\n",
       "      <td>&lt;span&gt;2,276 Ratings &lt;/span&gt;</td>\n",
       "    </tr>\n",
       "    <tr>\n",
       "      <th>14</th>\n",
       "      <td>14</td>\n",
       "      <td>&lt;div class=\"_4rR01T\"&gt;vivo Y15s (Wave Green, 32...</td>\n",
       "      <td>&lt;div class=\"_30jeq3 _1_WHN1\"&gt;₹9,499&lt;/div&gt;</td>\n",
       "      <td>&lt;span&gt;4,044 Ratings &lt;/span&gt;</td>\n",
       "    </tr>\n",
       "    <tr>\n",
       "      <th>15</th>\n",
       "      <td>15</td>\n",
       "      <td>&lt;div class=\"_4rR01T\"&gt;vivo Y33s (Mirror Black, ...</td>\n",
       "      <td>&lt;div class=\"_30jeq3 _1_WHN1\"&gt;₹15,890&lt;/div&gt;</td>\n",
       "      <td>&lt;span&gt;12,338 Ratings &lt;/span&gt;</td>\n",
       "    </tr>\n",
       "    <tr>\n",
       "      <th>16</th>\n",
       "      <td>16</td>\n",
       "      <td>&lt;div class=\"_4rR01T\"&gt;vivo Y56 5G (Black Engine...</td>\n",
       "      <td>&lt;div class=\"_30jeq3 _1_WHN1\"&gt;₹19,999&lt;/div&gt;</td>\n",
       "      <td>&lt;span&gt;288 Ratings &lt;/span&gt;</td>\n",
       "    </tr>\n",
       "    <tr>\n",
       "      <th>17</th>\n",
       "      <td>17</td>\n",
       "      <td>&lt;div class=\"_4rR01T\"&gt;vivo Y22 (Metaverse Green...</td>\n",
       "      <td>&lt;div class=\"_30jeq3 _1_WHN1\"&gt;₹14,499&lt;/div&gt;</td>\n",
       "      <td>&lt;span&gt;906 Ratings &lt;/span&gt;</td>\n",
       "    </tr>\n",
       "    <tr>\n",
       "      <th>18</th>\n",
       "      <td>18</td>\n",
       "      <td>&lt;div class=\"_4rR01T\"&gt;vivo Y22 (Starlit Blue, 6...</td>\n",
       "      <td>&lt;div class=\"_30jeq3 _1_WHN1\"&gt;₹14,499&lt;/div&gt;</td>\n",
       "      <td>&lt;span&gt;906 Ratings &lt;/span&gt;</td>\n",
       "    </tr>\n",
       "    <tr>\n",
       "      <th>19</th>\n",
       "      <td>19</td>\n",
       "      <td>&lt;div class=\"_4rR01T\"&gt;vivo Y22 (Metaverse Green...</td>\n",
       "      <td>&lt;div class=\"_30jeq3 _1_WHN1\"&gt;₹16,499&lt;/div&gt;</td>\n",
       "      <td>&lt;span&gt;902 Ratings &lt;/span&gt;</td>\n",
       "    </tr>\n",
       "    <tr>\n",
       "      <th>20</th>\n",
       "      <td>20</td>\n",
       "      <td>&lt;div class=\"_4rR01T\"&gt;vivo Y35 (Dawn Gold, 128 ...</td>\n",
       "      <td>&lt;div class=\"_30jeq3 _1_WHN1\"&gt;₹17,499&lt;/div&gt;</td>\n",
       "      <td>&lt;span&gt;2,119 Ratings &lt;/span&gt;</td>\n",
       "    </tr>\n",
       "    <tr>\n",
       "      <th>21</th>\n",
       "      <td>21</td>\n",
       "      <td>&lt;div class=\"_4rR01T\"&gt;vivo Y22 (Starlit Blue, 1...</td>\n",
       "      <td>&lt;div class=\"_30jeq3 _1_WHN1\"&gt;₹16,439&lt;/div&gt;</td>\n",
       "      <td>&lt;span&gt;902 Ratings &lt;/span&gt;</td>\n",
       "    </tr>\n",
       "    <tr>\n",
       "      <th>22</th>\n",
       "      <td>22</td>\n",
       "      <td>&lt;div class=\"_4rR01T\"&gt;vivo Y35 (Agate Black, 12...</td>\n",
       "      <td>&lt;div class=\"_30jeq3 _1_WHN1\"&gt;₹17,499&lt;/div&gt;</td>\n",
       "      <td>&lt;span&gt;2,119 Ratings &lt;/span&gt;</td>\n",
       "    </tr>\n",
       "    <tr>\n",
       "      <th>23</th>\n",
       "      <td>23</td>\n",
       "      <td>&lt;div class=\"_4rR01T\"&gt;vivo Y16 (Steller Black, ...</td>\n",
       "      <td>&lt;div class=\"_30jeq3 _1_WHN1\"&gt;₹12,499&lt;/div&gt;</td>\n",
       "      <td>&lt;span&gt;1,465 Ratings &lt;/span&gt;</td>\n",
       "    </tr>\n",
       "  </tbody>\n",
       "</table>\n",
       "</div>"
      ],
      "text/plain": [
       "    Unnamed: 0                                            mobiles  \\\n",
       "0            0  <div class=\"_4rR01T\">vivo T1 44W (Starry Sky, ...   \n",
       "1            1  <div class=\"_4rR01T\">vivo T1 44W (Starry Sky, ...   \n",
       "2            2  <div class=\"_4rR01T\">vivo T1 44W (Midnight Gal...   \n",
       "3            3  <div class=\"_4rR01T\">vivo T1 44W (Midnight Gal...   \n",
       "4            4  <div class=\"_4rR01T\">vivo T1 44W (Midnight Gal...   \n",
       "5            5  <div class=\"_4rR01T\">vivo T1 44W (Starry Sky, ...   \n",
       "6            6  <div class=\"_4rR01T\">vivo T1X (Space Blue, 64 ...   \n",
       "7            7  <div class=\"_4rR01T\">vivo T1X (Gravity Black, ...   \n",
       "8            8  <div class=\"_4rR01T\">vivo T1X (Gravity Black, ...   \n",
       "9            9  <div class=\"_4rR01T\">vivo T1X (Gravity Black, ...   \n",
       "10          10  <div class=\"_4rR01T\">vivo T1X (Space Blue, 128...   \n",
       "11          11  <div class=\"_4rR01T\">vivo T1X (Space Blue, 128...   \n",
       "12          12  <div class=\"_4rR01T\">vivo V27 5G (Magic Blue, ...   \n",
       "13          13  <div class=\"_4rR01T\">vivo V27 5G (Noble Black,...   \n",
       "14          14  <div class=\"_4rR01T\">vivo Y15s (Wave Green, 32...   \n",
       "15          15  <div class=\"_4rR01T\">vivo Y33s (Mirror Black, ...   \n",
       "16          16  <div class=\"_4rR01T\">vivo Y56 5G (Black Engine...   \n",
       "17          17  <div class=\"_4rR01T\">vivo Y22 (Metaverse Green...   \n",
       "18          18  <div class=\"_4rR01T\">vivo Y22 (Starlit Blue, 6...   \n",
       "19          19  <div class=\"_4rR01T\">vivo Y22 (Metaverse Green...   \n",
       "20          20  <div class=\"_4rR01T\">vivo Y35 (Dawn Gold, 128 ...   \n",
       "21          21  <div class=\"_4rR01T\">vivo Y22 (Starlit Blue, 1...   \n",
       "22          22  <div class=\"_4rR01T\">vivo Y35 (Agate Black, 12...   \n",
       "23          23  <div class=\"_4rR01T\">vivo Y16 (Steller Black, ...   \n",
       "\n",
       "                                        prices                       ratings  \n",
       "0   <div class=\"_30jeq3 _1_WHN1\">₹15,999</div>  <span>55,666 Ratings </span>  \n",
       "1   <div class=\"_30jeq3 _1_WHN1\">₹14,499</div>  <span>97,326 Ratings </span>  \n",
       "2   <div class=\"_30jeq3 _1_WHN1\">₹14,499</div>  <span>97,326 Ratings </span>  \n",
       "3   <div class=\"_30jeq3 _1_WHN1\">₹15,999</div>  <span>55,666 Ratings </span>  \n",
       "4   <div class=\"_30jeq3 _1_WHN1\">₹17,999</div>   <span>6,337 Ratings </span>  \n",
       "5   <div class=\"_30jeq3 _1_WHN1\">₹17,999</div>   <span>6,337 Ratings </span>  \n",
       "6   <div class=\"_30jeq3 _1_WHN1\">₹11,999</div>  <span>85,799 Ratings </span>  \n",
       "7   <div class=\"_30jeq3 _1_WHN1\">₹11,999</div>  <span>85,799 Ratings </span>  \n",
       "8   <div class=\"_30jeq3 _1_WHN1\">₹12,999</div>  <span>85,799 Ratings </span>  \n",
       "9   <div class=\"_30jeq3 _1_WHN1\">₹14,999</div>   <span>4,730 Ratings </span>  \n",
       "10  <div class=\"_30jeq3 _1_WHN1\">₹14,999</div>   <span>4,730 Ratings </span>  \n",
       "11  <div class=\"_30jeq3 _1_WHN1\">₹12,999</div>  <span>85,799 Ratings </span>  \n",
       "12  <div class=\"_30jeq3 _1_WHN1\">₹32,999</div>   <span>2,276 Ratings </span>  \n",
       "13  <div class=\"_30jeq3 _1_WHN1\">₹32,999</div>   <span>2,276 Ratings </span>  \n",
       "14   <div class=\"_30jeq3 _1_WHN1\">₹9,499</div>   <span>4,044 Ratings </span>  \n",
       "15  <div class=\"_30jeq3 _1_WHN1\">₹15,890</div>  <span>12,338 Ratings </span>  \n",
       "16  <div class=\"_30jeq3 _1_WHN1\">₹19,999</div>     <span>288 Ratings </span>  \n",
       "17  <div class=\"_30jeq3 _1_WHN1\">₹14,499</div>     <span>906 Ratings </span>  \n",
       "18  <div class=\"_30jeq3 _1_WHN1\">₹14,499</div>     <span>906 Ratings </span>  \n",
       "19  <div class=\"_30jeq3 _1_WHN1\">₹16,499</div>     <span>902 Ratings </span>  \n",
       "20  <div class=\"_30jeq3 _1_WHN1\">₹17,499</div>   <span>2,119 Ratings </span>  \n",
       "21  <div class=\"_30jeq3 _1_WHN1\">₹16,439</div>     <span>902 Ratings </span>  \n",
       "22  <div class=\"_30jeq3 _1_WHN1\">₹17,499</div>   <span>2,119 Ratings </span>  \n",
       "23  <div class=\"_30jeq3 _1_WHN1\">₹12,499</div>   <span>1,465 Ratings </span>  "
      ]
     },
     "execution_count": 37,
     "metadata": {},
     "output_type": "execute_result"
    }
   ],
   "source": [
    "file"
   ]
  },
  {
   "cell_type": "code",
   "execution_count": 38,
   "id": "87026605",
   "metadata": {},
   "outputs": [],
   "source": [
    "edit=file[\"mobiles\"]"
   ]
  },
  {
   "cell_type": "code",
   "execution_count": 39,
   "id": "09be53f1",
   "metadata": {},
   "outputs": [
    {
     "data": {
      "text/plain": [
       "0     <div class=\"_4rR01T\">vivo T1 44W (Starry Sky, ...\n",
       "1     <div class=\"_4rR01T\">vivo T1 44W (Starry Sky, ...\n",
       "2     <div class=\"_4rR01T\">vivo T1 44W (Midnight Gal...\n",
       "3     <div class=\"_4rR01T\">vivo T1 44W (Midnight Gal...\n",
       "4     <div class=\"_4rR01T\">vivo T1 44W (Midnight Gal...\n",
       "5     <div class=\"_4rR01T\">vivo T1 44W (Starry Sky, ...\n",
       "6     <div class=\"_4rR01T\">vivo T1X (Space Blue, 64 ...\n",
       "7     <div class=\"_4rR01T\">vivo T1X (Gravity Black, ...\n",
       "8     <div class=\"_4rR01T\">vivo T1X (Gravity Black, ...\n",
       "9     <div class=\"_4rR01T\">vivo T1X (Gravity Black, ...\n",
       "10    <div class=\"_4rR01T\">vivo T1X (Space Blue, 128...\n",
       "11    <div class=\"_4rR01T\">vivo T1X (Space Blue, 128...\n",
       "12    <div class=\"_4rR01T\">vivo V27 5G (Magic Blue, ...\n",
       "13    <div class=\"_4rR01T\">vivo V27 5G (Noble Black,...\n",
       "14    <div class=\"_4rR01T\">vivo Y15s (Wave Green, 32...\n",
       "15    <div class=\"_4rR01T\">vivo Y33s (Mirror Black, ...\n",
       "16    <div class=\"_4rR01T\">vivo Y56 5G (Black Engine...\n",
       "17    <div class=\"_4rR01T\">vivo Y22 (Metaverse Green...\n",
       "18    <div class=\"_4rR01T\">vivo Y22 (Starlit Blue, 6...\n",
       "19    <div class=\"_4rR01T\">vivo Y22 (Metaverse Green...\n",
       "20    <div class=\"_4rR01T\">vivo Y35 (Dawn Gold, 128 ...\n",
       "21    <div class=\"_4rR01T\">vivo Y22 (Starlit Blue, 1...\n",
       "22    <div class=\"_4rR01T\">vivo Y35 (Agate Black, 12...\n",
       "23    <div class=\"_4rR01T\">vivo Y16 (Steller Black, ...\n",
       "Name: mobiles, dtype: object"
      ]
     },
     "execution_count": 39,
     "metadata": {},
     "output_type": "execute_result"
    }
   ],
   "source": [
    "edit"
   ]
  },
  {
   "cell_type": "code",
   "execution_count": 40,
   "id": "269c09df",
   "metadata": {},
   "outputs": [],
   "source": [
    "edit=edit.str.strip(' <div class=\"_4rR01T\">').astype(str)"
   ]
  },
  {
   "cell_type": "code",
   "execution_count": 41,
   "id": "2eaf7653",
   "metadata": {},
   "outputs": [
    {
     "data": {
      "text/plain": [
       "0          o T1 44W (Starry Sky, 128 GB)</\n",
       "1          o T1 44W (Starry Sky, 128 GB)</\n",
       "2     o T1 44W (Midnight Galaxy, 128 GB)</\n",
       "3     o T1 44W (Midnight Galaxy, 128 GB)</\n",
       "4     o T1 44W (Midnight Galaxy, 128 GB)</\n",
       "5          o T1 44W (Starry Sky, 128 GB)</\n",
       "6              o T1X (Space Blue, 64 GB)</\n",
       "7           o T1X (Gravity Black, 64 GB)</\n",
       "8          o T1X (Gravity Black, 128 GB)</\n",
       "9          o T1X (Gravity Black, 128 GB)</\n",
       "10            o T1X (Space Blue, 128 GB)</\n",
       "11            o T1X (Space Blue, 128 GB)</\n",
       "12         o V27 5G (Magic Blue, 128 GB)</\n",
       "13        o V27 5G (Noble Black, 128 GB)</\n",
       "14            o Y15s (Wave Green, 32 GB)</\n",
       "15         o Y33s (Mirror Black, 128 GB)</\n",
       "16       o Y56 5G (Black Engine, 128 GB)</\n",
       "17        o Y22 (Metaverse Green, 64 GB)</\n",
       "18           o Y22 (Starlit Blue, 64 GB)</\n",
       "19       o Y22 (Metaverse Green, 128 GB)</\n",
       "20             o Y35 (Dawn Gold, 128 GB)</\n",
       "21          o Y22 (Starlit Blue, 128 GB)</\n",
       "22           o Y35 (Agate Black, 128 GB)</\n",
       "23          o Y16 (Steller Black, 64 GB)</\n",
       "Name: mobiles, dtype: object"
      ]
     },
     "execution_count": 41,
     "metadata": {},
     "output_type": "execute_result"
    }
   ],
   "source": [
    "edit"
   ]
  },
  {
   "cell_type": "code",
   "execution_count": 42,
   "id": "1b59b157",
   "metadata": {},
   "outputs": [],
   "source": [
    "edit=file[\"prices\"]"
   ]
  },
  {
   "cell_type": "code",
   "execution_count": 43,
   "id": "4ba44941",
   "metadata": {},
   "outputs": [
    {
     "data": {
      "text/plain": [
       "0     <div class=\"_30jeq3 _1_WHN1\">₹15,999</div>\n",
       "1     <div class=\"_30jeq3 _1_WHN1\">₹14,499</div>\n",
       "2     <div class=\"_30jeq3 _1_WHN1\">₹14,499</div>\n",
       "3     <div class=\"_30jeq3 _1_WHN1\">₹15,999</div>\n",
       "4     <div class=\"_30jeq3 _1_WHN1\">₹17,999</div>\n",
       "5     <div class=\"_30jeq3 _1_WHN1\">₹17,999</div>\n",
       "6     <div class=\"_30jeq3 _1_WHN1\">₹11,999</div>\n",
       "7     <div class=\"_30jeq3 _1_WHN1\">₹11,999</div>\n",
       "8     <div class=\"_30jeq3 _1_WHN1\">₹12,999</div>\n",
       "9     <div class=\"_30jeq3 _1_WHN1\">₹14,999</div>\n",
       "10    <div class=\"_30jeq3 _1_WHN1\">₹14,999</div>\n",
       "11    <div class=\"_30jeq3 _1_WHN1\">₹12,999</div>\n",
       "12    <div class=\"_30jeq3 _1_WHN1\">₹32,999</div>\n",
       "13    <div class=\"_30jeq3 _1_WHN1\">₹32,999</div>\n",
       "14     <div class=\"_30jeq3 _1_WHN1\">₹9,499</div>\n",
       "15    <div class=\"_30jeq3 _1_WHN1\">₹15,890</div>\n",
       "16    <div class=\"_30jeq3 _1_WHN1\">₹19,999</div>\n",
       "17    <div class=\"_30jeq3 _1_WHN1\">₹14,499</div>\n",
       "18    <div class=\"_30jeq3 _1_WHN1\">₹14,499</div>\n",
       "19    <div class=\"_30jeq3 _1_WHN1\">₹16,499</div>\n",
       "20    <div class=\"_30jeq3 _1_WHN1\">₹17,499</div>\n",
       "21    <div class=\"_30jeq3 _1_WHN1\">₹16,439</div>\n",
       "22    <div class=\"_30jeq3 _1_WHN1\">₹17,499</div>\n",
       "23    <div class=\"_30jeq3 _1_WHN1\">₹12,499</div>\n",
       "Name: prices, dtype: object"
      ]
     },
     "execution_count": 43,
     "metadata": {},
     "output_type": "execute_result"
    }
   ],
   "source": [
    "edit"
   ]
  },
  {
   "cell_type": "code",
   "execution_count": 45,
   "id": "ba988594",
   "metadata": {},
   "outputs": [],
   "source": [
    "edit=edit.str.strip(' <div class=\"_30jeq3 _1_WHN1\">').astype(str)"
   ]
  },
  {
   "cell_type": "code",
   "execution_count": 46,
   "id": "03bc8525",
   "metadata": {},
   "outputs": [
    {
     "data": {
      "text/plain": [
       "0     ₹15,999</\n",
       "1     ₹14,499</\n",
       "2     ₹14,499</\n",
       "3     ₹15,999</\n",
       "4     ₹17,999</\n",
       "5     ₹17,999</\n",
       "6     ₹11,999</\n",
       "7     ₹11,999</\n",
       "8     ₹12,999</\n",
       "9     ₹14,999</\n",
       "10    ₹14,999</\n",
       "11    ₹12,999</\n",
       "12    ₹32,999</\n",
       "13    ₹32,999</\n",
       "14     ₹9,499</\n",
       "15    ₹15,890</\n",
       "16    ₹19,999</\n",
       "17    ₹14,499</\n",
       "18    ₹14,499</\n",
       "19    ₹16,499</\n",
       "20    ₹17,499</\n",
       "21    ₹16,439</\n",
       "22    ₹17,499</\n",
       "23    ₹12,499</\n",
       "Name: prices, dtype: object"
      ]
     },
     "execution_count": 46,
     "metadata": {},
     "output_type": "execute_result"
    }
   ],
   "source": [
    "edit"
   ]
  },
  {
   "cell_type": "code",
   "execution_count": 47,
   "id": "802311a1",
   "metadata": {},
   "outputs": [],
   "source": [
    "edit=file[\"ratings\"]"
   ]
  },
  {
   "cell_type": "code",
   "execution_count": 48,
   "id": "53a1321c",
   "metadata": {},
   "outputs": [
    {
     "data": {
      "text/plain": [
       "0     <span>55,666 Ratings </span>\n",
       "1     <span>97,326 Ratings </span>\n",
       "2     <span>97,326 Ratings </span>\n",
       "3     <span>55,666 Ratings </span>\n",
       "4      <span>6,337 Ratings </span>\n",
       "5      <span>6,337 Ratings </span>\n",
       "6     <span>85,799 Ratings </span>\n",
       "7     <span>85,799 Ratings </span>\n",
       "8     <span>85,799 Ratings </span>\n",
       "9      <span>4,730 Ratings </span>\n",
       "10     <span>4,730 Ratings </span>\n",
       "11    <span>85,799 Ratings </span>\n",
       "12     <span>2,276 Ratings </span>\n",
       "13     <span>2,276 Ratings </span>\n",
       "14     <span>4,044 Ratings </span>\n",
       "15    <span>12,338 Ratings </span>\n",
       "16       <span>288 Ratings </span>\n",
       "17       <span>906 Ratings </span>\n",
       "18       <span>906 Ratings </span>\n",
       "19       <span>902 Ratings </span>\n",
       "20     <span>2,119 Ratings </span>\n",
       "21       <span>902 Ratings </span>\n",
       "22     <span>2,119 Ratings </span>\n",
       "23     <span>1,465 Ratings </span>\n",
       "Name: ratings, dtype: object"
      ]
     },
     "execution_count": 48,
     "metadata": {},
     "output_type": "execute_result"
    }
   ],
   "source": [
    "edit"
   ]
  },
  {
   "cell_type": "code",
   "execution_count": 51,
   "id": "71e321dc",
   "metadata": {},
   "outputs": [],
   "source": [
    "edit=edit.str.strip('<span> Ratings </span>').astype(str)"
   ]
  },
  {
   "cell_type": "code",
   "execution_count": 52,
   "id": "9c4f1ce4",
   "metadata": {},
   "outputs": [
    {
     "data": {
      "text/plain": [
       "0     55,666 Ratings \n",
       "1     97,326 Ratings \n",
       "2     97,326 Ratings \n",
       "3     55,666 Ratings \n",
       "4      6,337 Ratings \n",
       "5      6,337 Ratings \n",
       "6     85,799 Ratings \n",
       "7     85,799 Ratings \n",
       "8     85,799 Ratings \n",
       "9      4,730 Ratings \n",
       "10     4,730 Ratings \n",
       "11    85,799 Ratings \n",
       "12     2,276 Ratings \n",
       "13     2,276 Ratings \n",
       "14     4,044 Ratings \n",
       "15    12,338 Ratings \n",
       "16       288 Ratings \n",
       "17       906 Ratings \n",
       "18       906 Ratings \n",
       "19       902 Ratings \n",
       "20     2,119 Ratings \n",
       "21       902 Ratings \n",
       "22     2,119 Ratings \n",
       "23     1,465 Ratings \n",
       "Name: ratings, dtype: object"
      ]
     },
     "execution_count": 52,
     "metadata": {},
     "output_type": "execute_result"
    }
   ],
   "source": [
    "edit"
   ]
  },
  {
   "cell_type": "code",
   "execution_count": null,
   "id": "2a4fa97e",
   "metadata": {},
   "outputs": [],
   "source": []
  }
 ],
 "metadata": {
  "kernelspec": {
   "display_name": "Python 3 (ipykernel)",
   "language": "python",
   "name": "python3"
  },
  "language_info": {
   "codemirror_mode": {
    "name": "ipython",
    "version": 3
   },
   "file_extension": ".py",
   "mimetype": "text/x-python",
   "name": "python",
   "nbconvert_exporter": "python",
   "pygments_lexer": "ipython3",
   "version": "3.9.7"
  }
 },
 "nbformat": 4,
 "nbformat_minor": 5
}
